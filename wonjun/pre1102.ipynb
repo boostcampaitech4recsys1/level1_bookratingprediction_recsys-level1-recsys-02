{
 "cells": [
  {
   "cell_type": "code",
   "execution_count": 64,
   "id": "0507a862-72d0-43ae-afc3-10ad63d780e3",
   "metadata": {},
   "outputs": [],
   "source": [
    "import pandas as pd\n",
    "import numpy as np\n",
    "import re\n",
    "import seaborn as sns\n",
    "import matplotlib.pyplot as plt\n",
    "import scipy.stats as ss"
   ]
  },
  {
   "cell_type": "code",
   "execution_count": 87,
   "id": "55d4e170-6e0f-4de1-9328-f3378849d282",
   "metadata": {},
   "outputs": [],
   "source": [
    "users = pd.read_csv('../main_code/data/users.csv')\n",
    "books = pd.read_csv(\"../main_code/data/books.csv\", encoding='utf-8')\n",
    "train = pd.read_csv('../main_code/data/train_ratings.csv')\n",
    "test = pd.read_csv('../main_code/data/test_ratings.csv')\n",
    "sub = pd.read_csv('../main_code/data/sample_submission.csv')"
   ]
  },
  {
   "cell_type": "markdown",
   "id": "d8ac41d7-e75e-47b6-99e4-4fcca3b984de",
   "metadata": {
    "tags": []
   },
   "source": [
    "# books\n",
    "- title, author, publisher, year 글자에 대한 작은 수정\n",
    "- category 약 30개의 amazon 분류가 아닌, 아주 큰 3개 + others로 분류\n",
    "- isbn_country로 3개의 분류만 따르기\n",
    "- summary 잘라내기"
   ]
  },
  {
   "cell_type": "code",
   "execution_count": 88,
   "id": "a7e28800-53c3-4130-b4e1-0d6bb5941310",
   "metadata": {},
   "outputs": [],
   "source": [
    "def text_preprocessing_func(text : str ) -> str :\n",
    "    \"\"\"\n",
    "    깨진 문자를 변환하는 함수\n",
    "    \"\"\"\n",
    "    text = text.replace('Ã?Â©','e') # 원래는 é인데 걍 e로 메움\n",
    "    text = text.replace('Ã©', 'e')\n",
    "    text = text.replace('Ã?Â?','e') # 원래는 é인데 걍 e로 메움\n",
    "    text = text.lower()\n",
    "    return text"
   ]
  },
  {
   "cell_type": "code",
   "execution_count": 89,
   "id": "cca27578-c361-42fc-9df8-a70f8dcbe2c5",
   "metadata": {},
   "outputs": [],
   "source": [
    "books['year_of_publication'] = books['year_of_publication'].astype(int) # 출판년도를 정수로"
   ]
  },
  {
   "cell_type": "code",
   "execution_count": 90,
   "id": "fa424336-eb68-40b5-9df6-64e9fc98f19d",
   "metadata": {},
   "outputs": [],
   "source": [
    "books = books.drop('summary', axis=1) # summary 삭제"
   ]
  },
  {
   "cell_type": "code",
   "execution_count": 91,
   "id": "c670abc6-9de6-4b7f-a73e-0b405ee9bfd3",
   "metadata": {},
   "outputs": [],
   "source": [
    "# 카테고리 작업\n",
    "books.loc[books[books['category'].notnull()].index, 'category'] = books[books['category'].notnull()]['category'].apply(lambda x: re.sub('[\\W_]+',' ',x).strip()) # 일단 category에서 대괄호 밖으로 빼기\n",
    "books['category'] = books['category'].str.lower() # 소문자로 바꾸기"
   ]
  },
  {
   "cell_type": "code",
   "execution_count": 92,
   "id": "7d267c8a-5340-4415-9673-402736ee1962",
   "metadata": {},
   "outputs": [],
   "source": [
    "books['category_high'] = books['category'].copy() # category_high로 category를 복사"
   ]
  },
  {
   "cell_type": "code",
   "execution_count": 93,
   "id": "871a31b7-4794-4e08-baed-75a99d3509c3",
   "metadata": {},
   "outputs": [],
   "source": [
    "books['category_high'] = books['category_high'].fillna('Unclassified') # 안 채워진 건 미분류 항목으로 넣기"
   ]
  },
  {
   "cell_type": "code",
   "execution_count": 94,
   "id": "88fcc6a2-a4e6-4fbb-95da-5df53a5f60df",
   "metadata": {},
   "outputs": [],
   "source": [
    "groupings = {'Fiction': ['fiction', 'ficti'], # 너무 넓으니 맨 위로 빼자\n",
    "             'Literature & Poem': ['liter', 'poem', 'poetry', 'novel', 'sonnet'],\n",
    "             'Science & Math': ['science', 'math', 'logy', 'chemis', 'physics', 'electron'], # science, logy 범위가 너무 넓으니 맨 위로\n",
    "             'Parenting & Relationships': ['baby', 'babies', 'parent', 'family', 'friend', 'tionship', 'brother', 'sister', 'families', 'friendship', 'mother', 'father'], # 좀 큼\n",
    "             'Medical Books': ['medi', 'psycho'], # psy의 세분화 가능\n",
    "             'Adventure' : ['adventu'],\n",
    "             'Animal & Nature': ['animal', 'ecolo', 'plant', 'nature', 'cat', 'dog', 'pets', 'bird', 'bear', 'horse', 'frog', 'duck', 'rabbit', 'dolphin', 'mice', 'deer',\n",
    "             'panda', 'kangaroo', 'lizzard', 'gorilla', 'chimpangee', 'bat', 'insect'],\n",
    "             'Arts & Photography': ['art', 'photo', 'drawing', 'picture'], # art는 겹치는 글자가 너무 많음\n",
    "             'Authors' : ['authors'],\n",
    "             'Biographies & Memoirs': ['biog', 'memo'],\n",
    "             'Business & Money': ['busi', 'money', 'econo', 'finance'],\n",
    "             'Calendars': ['calen'],\n",
    "             'Children\\'s Books': ['child', 'baby'],\n",
    "             'Christian Books & Bibles': ['christi', 'bible'], #크리스마스때매\n",
    "             'Christmas' : ['christma'],\n",
    "             'Comics & Graphic Novels': ['comics', 'graphic novel'],\n",
    "             'Computers & Technology': ['computer', 'techno', 'archi'],\n",
    "             'Cookbooks, Food & Wine': ['cook', 'wine', 'food'],\n",
    "             'Countries & Cities' : ['united states', 'russia', 'france', 'africa', 'china', 'japan', 'egypt', 'germany', 'ireland', 'california', 'berline', 'london', 'new york', 'canada',\n",
    "             'chile', 'italy', 'europe', 'australia', 'great britain', 'arizona', 'chicago', 'netherlands', 'calif', 'mexico', 'colombia', 'greece',\n",
    "             'florida', 'algeria', 'new zealand', 'austria', 'denmark', 'washington', 'india', 'england', 'brazil'],\n",
    "             'Crafts, Hobbies & Home': ['crafts', 'hobb', 'home', 'house', 'garden'],\n",
    "             'Crime & Murder' : ['crime', 'murder', 'criminal', 'homicide', 'mafia', 'gang', 'drug'],\n",
    "             'Critic' : ['critic'],\n",
    "             'Education & Teaching': ['educa', 'teach'],\n",
    "             'Drama' : ['drama'],\n",
    "             'Design' : ['design'],\n",
    "             'Engineering & Transportation': ['engine', 'transp'],\n",
    "             'Encyclopedia & Dictionary' : ['encyclo', 'dictiona', 'vocabulary'],\n",
    "             'Essay' : ['essay'],\n",
    "             'Health, Fitness & Dieting': ['health', 'fitness', 'diet'],\n",
    "             'History': ['histo', 'war'],\n",
    "             'Humor & Entertainment': ['humor', 'entertai', 'comed', 'game', 'comic'],\n",
    "             'Law': ['law'],\n",
    "             'Language' : ['language'],\n",
    "             'LGBTQ+ Books': ['lesbian', 'gay', 'bisex'],\n",
    "             'Mystery, Thriller & Suspense': ['myste', 'thril', 'suspen', 'horror', 'occult'],\n",
    "             'Music & Dance' : ['music', 'dance', 'instrument', 'ballet', 'classic'],\n",
    "             'Movie' : ['motion pictur', 'actor', 'actres', 'acting', 'cinema', 'theater', 'director', 'television'],\n",
    "             'Politics': ['politic', 'president'],\n",
    "             'Philosophy' : ['philoso'],\n",
    "             'Reference': ['reference'],\n",
    "             'Religion & Spirituality': ['religi', 'buddh', 'spirit', 'god', 'prayer', 'belief', 'doubt'],\n",
    "             'Romance': ['romance'],\n",
    "             'Science Fiction & Fantasy': ['imagin', 'science fiction', 'fantasy', 'fairy', 'fairies', 'vampire', 'epidemic', 'ghost', 'alien', 'supernatural', 'magic', 'dragons', 'elves', 'angel', 'devil'],\n",
    "             'Short story' : ['short'],\n",
    "             'Social Science' : ['social', 'ethic', 'communism', 'capitalism', 'generation', 'culture'],\n",
    "             'Self-Help': ['self'], # self 검색시 모두 자기계발 관련\n",
    "             'Study': ['test', 'school', 'examina', 'study aids', 'college'],\n",
    "             'Sports & Outdoors': ['exerc','sport','outdoor', 'baseball', 'soccer', 'hockey', 'cricket', 'basketball', 'footbal'],\n",
    "             'Teen & Young Adult': ['teen', 'adol', 'juven'], #nonfiction이란 말은 청소년 관련뿐\n",
    "             'Travel': ['travel'],\n",
    "             'Women' : ['women'],\n",
    "             }"
   ]
  },
  {
   "cell_type": "code",
   "execution_count": 95,
   "id": "b983dfea-72c3-4020-8bb3-afdfc659081d",
   "metadata": {},
   "outputs": [],
   "source": [
    "for new_group, small in groupings.items(): # 파편화된 카테고리를 새 그룹으로 묶어주기\n",
    "    for s in small:\n",
    "        books.loc[books[books['category'].str.contains(s, na = False)].index, 'category_high'] = new_group"
   ]
  },
  {
   "cell_type": "code",
   "execution_count": 96,
   "id": "946a6d55-53ee-4230-ab80-487f9aee15de",
   "metadata": {},
   "outputs": [],
   "source": [
    "# 10개 이하인 것들 다 미분류에 넣어보기\n",
    "books_count = books.groupby('category_high').count()['isbn'].to_dict() # category_high별 isbn 수?\n",
    "for i in range(len(books)):\n",
    "    books.at[i, 'count'] = books_count[books['category_high'][i]] # books에 count 항목이 생김 # 미분류가 68851개\n",
    "\n",
    "for i in range(len(books)): # 5033개의 항목을 미분류로 편입\n",
    "    if books.at[i, 'count'] < 10:\n",
    "        books.at[i, 'category_high'] = 'Unclassified'"
   ]
  },
  {
   "cell_type": "code",
   "execution_count": 97,
   "id": "a6ba5213-4042-48cb-8db4-6f44a8c13643",
   "metadata": {
    "tags": []
   },
   "outputs": [
    {
     "data": {
      "text/plain": [
       "readers                 11\n",
       "alphabet                11\n",
       "cults                   11\n",
       "dreams                  10\n",
       "beauty personal         10\n",
       "intelligence service    10\n",
       "celebrities             10\n",
       "herbs                   10\n",
       "courage                 10\n",
       "bedtime                 10\n",
       "Name: category_high, dtype: int64"
      ]
     },
     "execution_count": 97,
     "metadata": {},
     "output_type": "execute_result"
    }
   ],
   "source": [
    "books['category_high'].value_counts().tail(10)"
   ]
  },
  {
   "cell_type": "markdown",
   "id": "953ed51c-282f-46a2-91d5-45108860ab74",
   "metadata": {},
   "source": [
    "# 기존 상위 10개의 카테고리는 다음과 같음\n",
    "- Unclassified               68851 (카테고리가 빈 것들이 절대 다수)\n",
    "- fiction                    33016\n",
    "- juvenile fiction            5835\n",
    "- biography autobiography     3326\n",
    "- history                     1927\n",
    "- religion                    1818\n",
    "- juvenile nonfiction         1418\n",
    "- social science              1231\n",
    "- humor                       1161\n",
    "- body mind spirit            1113\n",
    "# grouping 이후 상위 10개의 카테고리는 다음과 같음 (일단 카테고리는 내 방식대로 두고 진행하겠음)\n",
    "- Unclassified                 68851\n",
    "- Fiction                      33842\n",
    "- Teen & Young Adult            7351\n",
    "- Biographies & Memoirs         3368\n",
    "- Religion & Spirituality       3009\n",
    "- History                       2058\n",
    "- Humor & Entertainment         2053\n",
    "- Animal & Nature               1403\n",
    "- Parenting & Relationships     1388\n",
    "- Arts & Photography            1368\n",
    "# 10개 미만 카테고리를 다 미분류에 넣으면 다음과 같음\n",
    "- Unclassified                 72151 \n",
    "- Fiction                      33842\n",
    "- Teen & Young Adult            7351\n",
    "- Biographies & Memoirs         3368\n",
    "- Religion & Spirituality       3009\n",
    "- History                       2058\n",
    "- Humor & Entertainment         2053\n",
    "- Animal & Nature               1403\n",
    "- Parenting & Relationships     1388\n",
    "- Arts & Photography            1368"
   ]
  },
  {
   "cell_type": "code",
   "execution_count": 98,
   "id": "83752578-b999-4769-b85a-660fba193f46",
   "metadata": {},
   "outputs": [],
   "source": [
    "books['book_title'] = books['book_title'].apply(text_preprocessing_func) # 제목 깨진거 수정\n",
    "books['publisher'] = books['publisher'].apply(text_preprocessing_func) # 출판사 깨진거 수정\n",
    "books['book_author'] = books['book_author'].apply(text_preprocessing_func) # 작가 깨진거 수정"
   ]
  },
  {
   "cell_type": "code",
   "execution_count": 99,
   "id": "b278c88d-d639-4f90-a567-7948d71e1f45",
   "metadata": {},
   "outputs": [],
   "source": [
    "# 출판사에 대해 올바르게 수정하기\n",
    "publisher_dict=(books['publisher'].value_counts()).to_dict() # 그리고 숫자 세기\n",
    "publisher_count_df= pd.DataFrame(list(publisher_dict.items()),columns = ['publisher','count']) # 출판사별 숫자?\n",
    "\n",
    "publisher_count_df = publisher_count_df.sort_values(by=['count'], ascending = False) # count 수대로 정렬\n",
    "\n",
    "modify_list = publisher_count_df[publisher_count_df['count']>1].publisher.values # 1개 이상 있는 출판사의 경우\n",
    "for publisher in modify_list:\n",
    "    try:\n",
    "        number = books[books['publisher']==publisher]['isbn'].apply(lambda x: x[:4]).value_counts().index[0]\n",
    "        right_publisher = books[books['isbn'].apply(lambda x: x[:4])==number]['publisher'].value_counts().index[0]\n",
    "        books.loc[books[books['isbn'].apply(lambda x: x[:4])==number].index,'publisher'] = right_publisher\n",
    "    except: \n",
    "        pass"
   ]
  },
  {
   "cell_type": "code",
   "execution_count": 100,
   "id": "f54f263b-faa3-418a-b332-3fe4d3135c89",
   "metadata": {},
   "outputs": [
    {
     "name": "stderr",
     "output_type": "stream",
     "text": [
      "/tmp/ipykernel_76574/1521011250.py:38: SettingWithCopyWarning: \n",
      "A value is trying to be set on a copy of a slice from a DataFrame.\n",
      "Try using .loc[row_indexer,col_indexer] = value instead\n",
      "\n",
      "See the caveats in the documentation: https://pandas.pydata.org/pandas-docs/stable/user_guide/indexing.html#returning-a-view-versus-a-copy\n",
      "  books[books['isbn_country'] == 'na']['isbn_country'] = 'english' # nan이면 en으로 채움\n"
     ]
    }
   ],
   "source": [
    "# isbn으로 country를 채우자\n",
    "isbn_dict = {} # isbn으로 language를 채우자\n",
    "isbn_dict = { books['language'][idx] : [isbn[:3]] if books['language'][idx] not in isbn_dict.keys() else isbn_dict[books['language'][idx]].append(isbn[:2]) for idx, isbn in enumerate(books['isbn'])}\n",
    "isbn_code = {'0' : 'english', '1' : 'english', '2': 'franch', '3' : 'german', '4' : 'japan', '5' : 'russia', '7' : 'china',\n",
    "             '65' : 'brazil', '80' : 'czecho', '81' : 'india', '82' : 'norway', '83' : 'poland', '84' : 'espanol', '85' : 'brazil', '86' : 'yugoslavia', '87' : 'danish', '88' : 'italy', '89' : 'korean', '90' : 'netherlands', '91' : 'sweden',\n",
    "            '92' : 'international ngo', '93' : 'inida', '94' : 'netherlands', '600' : 'iran', '601' : 'kazakhstan', '602' : 'indonesia', '603' : 'saudi arabia', '604' : 'vietnam', '605' : 'turkey',\n",
    "            '606' : 'romania', '607' : 'mexico', '608' : 'north macedonia', '609' : 'lithuania', '611' : 'thailand', '612' : 'peru', '613' : 'mauritius',\n",
    "            '614' : 'lebanon', '615' : 'hungary', '616' : 'thailand', '617' : 'ukraine', '618' : 'greece', '619' : 'bulgaria', '620' : 'mauritius', '621' : 'phillippines',\n",
    "            '622' : 'iran', '623' : 'indonesia', '624' : 'sri lanka', '625' : 'turkey', '626' : 'taiwan', '627' : 'pakistan', '628' : 'colombia', '629' : 'malaysia', '630' : 'romania',\n",
    "            '950' : 'argentina', '951' : 'finland', '952' : 'finland', '953' : 'croatia', '954' : 'bulgaria', '955' : 'sri lanka',\n",
    "            '956' : 'chile', '957' : 'taiwan', '958' : 'colombia', '959' : 'cuba', '960' : 'greece' , '961' : 'slovenia', '962' : 'hong kong',\n",
    "            '963' : 'hungary', '964' : 'iran', '965' : 'israel', '966' : 'urkaine', '967' : 'malaysia', '968' : 'mexico', '969' : 'pakistan', '970' : 'mexico',\n",
    "            '971' : 'phillippines', '972' : 'portugal', '973' : 'romania', '974' : 'thailand', '975' : 'turkey', '976' : 'caribbean community', '977' : 'egypt', '978' : 'nigeria', \n",
    "            '979' : 'indonesia', '980' : 'venezuela', '981' : 'singapore', '982' : 'south pacific', '983' : 'malaysia', '984' : 'bangladesh', '985' : 'velarus', '986' : 'taiwan',\n",
    "            '987' : 'argentina', '988' : 'hong kong', '989' : 'portugal',\n",
    "            '9960':'saudi arabia', '9963' : 'cyprus', '9968' : 'costa rica', '9971' : 'singapore', '9972' : 'peru', '9974' : 'uruguay',\n",
    "            '9976' : 'tanzania', '9977' : 'costa rica', '9979' : 'iceland', '9986' : 'lithuania',\n",
    "            '99903' : 'mauritius', '99905' : ' bolivia', '99909' : 'malta', '99912' : 'botswana', '99920' : 'andorra', '99928' : 'georgia',\n",
    "            '99935' : 'haiti', '99936' : 'bhutan', '99942' : 'armenia', '99943' : 'albania', '99974' : 'bolivia',\n",
    "            '99975' : 'mongolia', '99989' : 'paraguay'}\n",
    "check_list = []\n",
    "books['isbn_country'] = 'na'\n",
    "for idx in range(len(books)):\n",
    "    isbn = books['isbn'][idx][:5]\n",
    "    if isbn[0] in isbn_code.keys():\n",
    "        books.at[idx, 'isbn_country'] = isbn_code[isbn[0]]\n",
    "    elif isbn[:2] in isbn_code.keys():\n",
    "        books.at[idx, 'isbn_country'] = isbn_code[isbn[0:2]]\n",
    "    elif isbn[:3] in isbn_code.keys():\n",
    "        books.at[idx, 'isbn_country'] = isbn_code[isbn[0:3]]\n",
    "    elif isbn[:4] in isbn_code.keys():\n",
    "        books.at[idx, 'isbn_country'] = isbn_code[isbn[:4]]\n",
    "    elif isbn[:] in isbn_code.keys():\n",
    "        books.at[idx, 'isbn_country'] = isbn_code[isbn[:]]\n",
    "    else:\n",
    "        check_list.append(isbn)\n",
    "\n",
    "books[books['isbn_country'] == 'na']['isbn_country'] = 'english' # nan이면 en으로 채움"
   ]
  },
  {
   "cell_type": "code",
   "execution_count": 102,
   "id": "f2476c1f-71ca-4629-a67c-b513ba9971b4",
   "metadata": {},
   "outputs": [],
   "source": [
    "books = books.drop(['language'], axis = 1)\n",
    "books = books.drop(['count'], axis = 1) # 필요없는 칼럼 삭제\n",
    "books = books.drop(['category'], axis = 1) # 필요없는 칼럼 삭제"
   ]
  },
  {
   "cell_type": "code",
   "execution_count": 103,
   "id": "84fa5ab0-e38a-4446-b4d5-2024df25c408",
   "metadata": {
    "collapsed": true,
    "jupyter": {
     "outputs_hidden": true
    },
    "tags": []
   },
   "outputs": [
    {
     "data": {
      "text/plain": [
       "english        134405\n",
       "german           6706\n",
       "franch           3405\n",
       "espanol          3399\n",
       "italy             482\n",
       "argentina         242\n",
       "netherlands       176\n",
       "portugal          106\n",
       "mexico             95\n",
       "japan              80\n",
       "Name: isbn_country, dtype: int64"
      ]
     },
     "execution_count": 103,
     "metadata": {},
     "output_type": "execute_result"
    }
   ],
   "source": [
    "# 이제 isbn_country를 크게 묶어보자\n",
    "books['isbn_country'].value_counts().head(10)"
   ]
  },
  {
   "cell_type": "markdown",
   "id": "adfdeea9-ed18-4d1e-80fa-62cc108f7478",
   "metadata": {},
   "source": [
    "# isbn country 상위 10개는 다음과 같음\n",
    "- english        134405 (미국 캐나다 영국 호주)\n",
    "- german           6706 (독일)\n",
    "- franch           3405 (프랑스) - 프랑스어 책이 유저 나라에 비해 겁나 많음 이러면 유저도 프랑스 사람 분류해야 함-\n",
    "- espanol          3399 (스페인) - 여기까지 나누자, 그러면 이에 맞게 유저의 나라도 분류하는 게 맞음-\n",
    "- italy             482 (이탈리아)\n",
    "- argentina         242\n",
    "- netherlands       176\n",
    "- portugal          106\n",
    "- mexico             95\n",
    "- japan              80"
   ]
  },
  {
   "cell_type": "code",
   "execution_count": 104,
   "id": "20de4e36-bb6e-41d9-8b4c-ef10e0a73c96",
   "metadata": {},
   "outputs": [],
   "source": [
    "books_language = ['english', 'german', 'franch', 'espanol']\n",
    "for i in range(len(books)):\n",
    "    if books.at[i, 'isbn_country'] not in books_language:\n",
    "        books.at[i, 'isbn_country'] = 'others'"
   ]
  },
  {
   "cell_type": "code",
   "execution_count": 105,
   "id": "088ced75-c57a-433d-850a-5df6d9119cd5",
   "metadata": {},
   "outputs": [
    {
     "data": {
      "text/plain": [
       "english    134405\n",
       "german       6706\n",
       "franch       3405\n",
       "espanol      3399\n",
       "others       1655\n",
       "Name: isbn_country, dtype: int64"
      ]
     },
     "execution_count": 105,
     "metadata": {},
     "output_type": "execute_result"
    }
   ],
   "source": [
    "books['isbn_country'].value_counts().head(10)"
   ]
  },
  {
   "cell_type": "code",
   "execution_count": 126,
   "id": "e42c0c5c-55a9-42e4-9550-28b11e6f9217",
   "metadata": {
    "tags": []
   },
   "outputs": [
    {
     "data": {
      "text/plain": [
       "isbn                   0\n",
       "book_title             0\n",
       "book_author            0\n",
       "year_of_publication    0\n",
       "publisher              0\n",
       "img_url                0\n",
       "img_path               0\n",
       "category_high          0\n",
       "isbn_country           0\n",
       "dtype: int64"
      ]
     },
     "execution_count": 126,
     "metadata": {},
     "output_type": "execute_result"
    }
   ],
   "source": [
    "books.isna().sum()"
   ]
  },
  {
   "cell_type": "code",
   "execution_count": 127,
   "id": "31d77a80-e59c-457d-81cc-2b29d46b35a3",
   "metadata": {
    "collapsed": true,
    "jupyter": {
     "outputs_hidden": true
    },
    "tags": []
   },
   "outputs": [
    {
     "data": {
      "text/html": [
       "<div>\n",
       "<style scoped>\n",
       "    .dataframe tbody tr th:only-of-type {\n",
       "        vertical-align: middle;\n",
       "    }\n",
       "\n",
       "    .dataframe tbody tr th {\n",
       "        vertical-align: top;\n",
       "    }\n",
       "\n",
       "    .dataframe thead th {\n",
       "        text-align: right;\n",
       "    }\n",
       "</style>\n",
       "<table border=\"1\" class=\"dataframe\">\n",
       "  <thead>\n",
       "    <tr style=\"text-align: right;\">\n",
       "      <th></th>\n",
       "      <th>isbn</th>\n",
       "      <th>book_title</th>\n",
       "      <th>book_author</th>\n",
       "      <th>year_of_publication</th>\n",
       "      <th>publisher</th>\n",
       "      <th>img_url</th>\n",
       "      <th>img_path</th>\n",
       "      <th>category_high</th>\n",
       "      <th>isbn_country</th>\n",
       "    </tr>\n",
       "  </thead>\n",
       "  <tbody>\n",
       "    <tr>\n",
       "      <th>0</th>\n",
       "      <td>0002005018</td>\n",
       "      <td>clara callan</td>\n",
       "      <td>richard bruce wright</td>\n",
       "      <td>2001</td>\n",
       "      <td>harpercollins</td>\n",
       "      <td>http://images.amazon.com/images/P/0002005018.0...</td>\n",
       "      <td>images/0002005018.01.THUMBZZZ.jpg</td>\n",
       "      <td>Movie</td>\n",
       "      <td>english</td>\n",
       "    </tr>\n",
       "    <tr>\n",
       "      <th>1</th>\n",
       "      <td>0060973129</td>\n",
       "      <td>decision in normandy</td>\n",
       "      <td>carlo d'este</td>\n",
       "      <td>1991</td>\n",
       "      <td>harpercollins</td>\n",
       "      <td>http://images.amazon.com/images/P/0060973129.0...</td>\n",
       "      <td>images/0060973129.01.THUMBZZZ.jpg</td>\n",
       "      <td>Unclassified</td>\n",
       "      <td>english</td>\n",
       "    </tr>\n",
       "    <tr>\n",
       "      <th>2</th>\n",
       "      <td>0374157065</td>\n",
       "      <td>flu: the story of the great influenza pandemic...</td>\n",
       "      <td>gina bari kolata</td>\n",
       "      <td>1999</td>\n",
       "      <td>farrar straus giroux</td>\n",
       "      <td>http://images.amazon.com/images/P/0374157065.0...</td>\n",
       "      <td>images/0374157065.01.THUMBZZZ.jpg</td>\n",
       "      <td>Medical Books</td>\n",
       "      <td>english</td>\n",
       "    </tr>\n",
       "    <tr>\n",
       "      <th>3</th>\n",
       "      <td>0399135782</td>\n",
       "      <td>the kitchen god's wife</td>\n",
       "      <td>amy tan</td>\n",
       "      <td>1991</td>\n",
       "      <td>putnam pub group</td>\n",
       "      <td>http://images.amazon.com/images/P/0399135782.0...</td>\n",
       "      <td>images/0399135782.01.THUMBZZZ.jpg</td>\n",
       "      <td>Fiction</td>\n",
       "      <td>english</td>\n",
       "    </tr>\n",
       "    <tr>\n",
       "      <th>4</th>\n",
       "      <td>0425176428</td>\n",
       "      <td>what if?: the world's foremost military histor...</td>\n",
       "      <td>robert cowley</td>\n",
       "      <td>2000</td>\n",
       "      <td>berkley publishing group</td>\n",
       "      <td>http://images.amazon.com/images/P/0425176428.0...</td>\n",
       "      <td>images/0425176428.01.THUMBZZZ.jpg</td>\n",
       "      <td>History</td>\n",
       "      <td>english</td>\n",
       "    </tr>\n",
       "    <tr>\n",
       "      <th>...</th>\n",
       "      <td>...</td>\n",
       "      <td>...</td>\n",
       "      <td>...</td>\n",
       "      <td>...</td>\n",
       "      <td>...</td>\n",
       "      <td>...</td>\n",
       "      <td>...</td>\n",
       "      <td>...</td>\n",
       "      <td>...</td>\n",
       "    </tr>\n",
       "    <tr>\n",
       "      <th>149565</th>\n",
       "      <td>067161746X</td>\n",
       "      <td>the bachelor home companion: a practical guide...</td>\n",
       "      <td>p.j. o'rourke</td>\n",
       "      <td>1987</td>\n",
       "      <td>pocket</td>\n",
       "      <td>http://images.amazon.com/images/P/067161746X.0...</td>\n",
       "      <td>images/067161746X.01.THUMBZZZ.jpg</td>\n",
       "      <td>Humor &amp; Entertainment</td>\n",
       "      <td>english</td>\n",
       "    </tr>\n",
       "    <tr>\n",
       "      <th>149566</th>\n",
       "      <td>0767907566</td>\n",
       "      <td>all elevations unknown: an adventure in the he...</td>\n",
       "      <td>sam lightner</td>\n",
       "      <td>2001</td>\n",
       "      <td>broadway books</td>\n",
       "      <td>http://images.amazon.com/images/P/0767907566.0...</td>\n",
       "      <td>images/0767907566.01.THUMBZZZ.jpg</td>\n",
       "      <td>Animal &amp; Nature</td>\n",
       "      <td>english</td>\n",
       "    </tr>\n",
       "    <tr>\n",
       "      <th>149567</th>\n",
       "      <td>0884159221</td>\n",
       "      <td>why stop?: a guide to texas historical roadsid...</td>\n",
       "      <td>claude dooley</td>\n",
       "      <td>1985</td>\n",
       "      <td>bridge publications</td>\n",
       "      <td>http://images.amazon.com/images/P/0884159221.0...</td>\n",
       "      <td>images/0884159221.01.THUMBZZZ.jpg</td>\n",
       "      <td>Unclassified</td>\n",
       "      <td>english</td>\n",
       "    </tr>\n",
       "    <tr>\n",
       "      <th>149568</th>\n",
       "      <td>0912333022</td>\n",
       "      <td>the are you being served? stories: 'camping in...</td>\n",
       "      <td>jeremy lloyd</td>\n",
       "      <td>1997</td>\n",
       "      <td>pub group west</td>\n",
       "      <td>http://images.amazon.com/images/P/0912333022.0...</td>\n",
       "      <td>images/0912333022.01.THUMBZZZ.jpg</td>\n",
       "      <td>Fiction</td>\n",
       "      <td>english</td>\n",
       "    </tr>\n",
       "    <tr>\n",
       "      <th>149569</th>\n",
       "      <td>1569661057</td>\n",
       "      <td>dallas street map guide and directory, 2000 ed...</td>\n",
       "      <td>mapsco</td>\n",
       "      <td>1999</td>\n",
       "      <td>soho press</td>\n",
       "      <td>http://images.amazon.com/images/P/1569661057.0...</td>\n",
       "      <td>images/1569661057.01.THUMBZZZ.jpg</td>\n",
       "      <td>Unclassified</td>\n",
       "      <td>english</td>\n",
       "    </tr>\n",
       "  </tbody>\n",
       "</table>\n",
       "<p>149570 rows × 9 columns</p>\n",
       "</div>"
      ],
      "text/plain": [
       "              isbn                                         book_title  \\\n",
       "0       0002005018                                       clara callan   \n",
       "1       0060973129                               decision in normandy   \n",
       "2       0374157065  flu: the story of the great influenza pandemic...   \n",
       "3       0399135782                             the kitchen god's wife   \n",
       "4       0425176428  what if?: the world's foremost military histor...   \n",
       "...            ...                                                ...   \n",
       "149565  067161746X  the bachelor home companion: a practical guide...   \n",
       "149566  0767907566  all elevations unknown: an adventure in the he...   \n",
       "149567  0884159221  why stop?: a guide to texas historical roadsid...   \n",
       "149568  0912333022  the are you being served? stories: 'camping in...   \n",
       "149569  1569661057  dallas street map guide and directory, 2000 ed...   \n",
       "\n",
       "                 book_author  year_of_publication                 publisher  \\\n",
       "0       richard bruce wright                 2001             harpercollins   \n",
       "1               carlo d'este                 1991             harpercollins   \n",
       "2           gina bari kolata                 1999      farrar straus giroux   \n",
       "3                    amy tan                 1991          putnam pub group   \n",
       "4              robert cowley                 2000  berkley publishing group   \n",
       "...                      ...                  ...                       ...   \n",
       "149565         p.j. o'rourke                 1987                    pocket   \n",
       "149566          sam lightner                 2001            broadway books   \n",
       "149567         claude dooley                 1985       bridge publications   \n",
       "149568          jeremy lloyd                 1997            pub group west   \n",
       "149569                mapsco                 1999                soho press   \n",
       "\n",
       "                                                  img_url  \\\n",
       "0       http://images.amazon.com/images/P/0002005018.0...   \n",
       "1       http://images.amazon.com/images/P/0060973129.0...   \n",
       "2       http://images.amazon.com/images/P/0374157065.0...   \n",
       "3       http://images.amazon.com/images/P/0399135782.0...   \n",
       "4       http://images.amazon.com/images/P/0425176428.0...   \n",
       "...                                                   ...   \n",
       "149565  http://images.amazon.com/images/P/067161746X.0...   \n",
       "149566  http://images.amazon.com/images/P/0767907566.0...   \n",
       "149567  http://images.amazon.com/images/P/0884159221.0...   \n",
       "149568  http://images.amazon.com/images/P/0912333022.0...   \n",
       "149569  http://images.amazon.com/images/P/1569661057.0...   \n",
       "\n",
       "                                 img_path          category_high isbn_country  \n",
       "0       images/0002005018.01.THUMBZZZ.jpg                  Movie      english  \n",
       "1       images/0060973129.01.THUMBZZZ.jpg           Unclassified      english  \n",
       "2       images/0374157065.01.THUMBZZZ.jpg          Medical Books      english  \n",
       "3       images/0399135782.01.THUMBZZZ.jpg                Fiction      english  \n",
       "4       images/0425176428.01.THUMBZZZ.jpg                History      english  \n",
       "...                                   ...                    ...          ...  \n",
       "149565  images/067161746X.01.THUMBZZZ.jpg  Humor & Entertainment      english  \n",
       "149566  images/0767907566.01.THUMBZZZ.jpg        Animal & Nature      english  \n",
       "149567  images/0884159221.01.THUMBZZZ.jpg           Unclassified      english  \n",
       "149568  images/0912333022.01.THUMBZZZ.jpg                Fiction      english  \n",
       "149569  images/1569661057.01.THUMBZZZ.jpg           Unclassified      english  \n",
       "\n",
       "[149570 rows x 9 columns]"
      ]
     },
     "execution_count": 127,
     "metadata": {},
     "output_type": "execute_result"
    }
   ],
   "source": [
    "books"
   ]
  },
  {
   "cell_type": "code",
   "execution_count": 128,
   "id": "080201af-3e6d-4eba-b9b0-855a4a9ed652",
   "metadata": {},
   "outputs": [],
   "source": [
    "books.to_csv('./data/books_1102.csv', index=False)"
   ]
  },
  {
   "cell_type": "markdown",
   "id": "6bfaea73-8598-44b9-a5ae-0cdc43410ff5",
   "metadata": {
    "tags": []
   },
   "source": [
    "# users\n",
    "- age 자르기\n",
    "- location 분리하기 (city, state, country)\n",
    "- **user의 country를 미국/캐나다/독일/프랑스로 나눠보자 (세부 조정 필요)**"
   ]
  },
  {
   "cell_type": "code",
   "execution_count": 108,
   "id": "44933779-55f8-4e6d-9c9b-c282c644f433",
   "metadata": {
    "collapsed": true,
    "jupyter": {
     "outputs_hidden": true
    },
    "tags": []
   },
   "outputs": [
    {
     "data": {
      "text/html": [
       "<div>\n",
       "<style scoped>\n",
       "    .dataframe tbody tr th:only-of-type {\n",
       "        vertical-align: middle;\n",
       "    }\n",
       "\n",
       "    .dataframe tbody tr th {\n",
       "        vertical-align: top;\n",
       "    }\n",
       "\n",
       "    .dataframe thead th {\n",
       "        text-align: right;\n",
       "    }\n",
       "</style>\n",
       "<table border=\"1\" class=\"dataframe\">\n",
       "  <thead>\n",
       "    <tr style=\"text-align: right;\">\n",
       "      <th></th>\n",
       "      <th>user_id</th>\n",
       "      <th>location</th>\n",
       "      <th>age</th>\n",
       "    </tr>\n",
       "  </thead>\n",
       "  <tbody>\n",
       "    <tr>\n",
       "      <th>0</th>\n",
       "      <td>8</td>\n",
       "      <td>timmins, ontario, canada</td>\n",
       "      <td>NaN</td>\n",
       "    </tr>\n",
       "    <tr>\n",
       "      <th>1</th>\n",
       "      <td>11400</td>\n",
       "      <td>ottawa, ontario, canada</td>\n",
       "      <td>49.0</td>\n",
       "    </tr>\n",
       "    <tr>\n",
       "      <th>2</th>\n",
       "      <td>11676</td>\n",
       "      <td>n/a, n/a, n/a</td>\n",
       "      <td>NaN</td>\n",
       "    </tr>\n",
       "    <tr>\n",
       "      <th>3</th>\n",
       "      <td>67544</td>\n",
       "      <td>toronto, ontario, canada</td>\n",
       "      <td>30.0</td>\n",
       "    </tr>\n",
       "    <tr>\n",
       "      <th>4</th>\n",
       "      <td>85526</td>\n",
       "      <td>victoria, british columbia, canada</td>\n",
       "      <td>36.0</td>\n",
       "    </tr>\n",
       "    <tr>\n",
       "      <th>...</th>\n",
       "      <td>...</td>\n",
       "      <td>...</td>\n",
       "      <td>...</td>\n",
       "    </tr>\n",
       "    <tr>\n",
       "      <th>68087</th>\n",
       "      <td>278376</td>\n",
       "      <td>danville, pennsylvania, usa</td>\n",
       "      <td>54.0</td>\n",
       "    </tr>\n",
       "    <tr>\n",
       "      <th>68088</th>\n",
       "      <td>278621</td>\n",
       "      <td>victoria, delaware, canada</td>\n",
       "      <td>74.0</td>\n",
       "    </tr>\n",
       "    <tr>\n",
       "      <th>68089</th>\n",
       "      <td>278636</td>\n",
       "      <td>irvington, alabama, usa</td>\n",
       "      <td>NaN</td>\n",
       "    </tr>\n",
       "    <tr>\n",
       "      <th>68090</th>\n",
       "      <td>278659</td>\n",
       "      <td>vancouver, washington, usa</td>\n",
       "      <td>33.0</td>\n",
       "    </tr>\n",
       "    <tr>\n",
       "      <th>68091</th>\n",
       "      <td>278713</td>\n",
       "      <td>albuquerque, new mexico, usa</td>\n",
       "      <td>63.0</td>\n",
       "    </tr>\n",
       "  </tbody>\n",
       "</table>\n",
       "<p>68092 rows × 3 columns</p>\n",
       "</div>"
      ],
      "text/plain": [
       "       user_id                            location   age\n",
       "0            8            timmins, ontario, canada   NaN\n",
       "1        11400             ottawa, ontario, canada  49.0\n",
       "2        11676                       n/a, n/a, n/a   NaN\n",
       "3        67544            toronto, ontario, canada  30.0\n",
       "4        85526  victoria, british columbia, canada  36.0\n",
       "...        ...                                 ...   ...\n",
       "68087   278376         danville, pennsylvania, usa  54.0\n",
       "68088   278621          victoria, delaware, canada  74.0\n",
       "68089   278636             irvington, alabama, usa   NaN\n",
       "68090   278659          vancouver, washington, usa  33.0\n",
       "68091   278713        albuquerque, new mexico, usa  63.0\n",
       "\n",
       "[68092 rows x 3 columns]"
      ]
     },
     "execution_count": 108,
     "metadata": {},
     "output_type": "execute_result"
    }
   ],
   "source": [
    "users # 68092 x 3"
   ]
  },
  {
   "cell_type": "code",
   "execution_count": 109,
   "id": "aea784f0-20d3-461b-bef0-639d0885e600",
   "metadata": {
    "tags": []
   },
   "outputs": [],
   "source": [
    "def age_map(x: int) -> int: # age map 하지만 age 자를 거면 안 씀\n",
    "    x = int(x)\n",
    "    if x < 20:\n",
    "        return 1\n",
    "    elif x >= 20 and x < 30:\n",
    "        return 2\n",
    "    elif x >= 30 and x < 40:\n",
    "        return 3\n",
    "    elif x >= 40 and x < 50:\n",
    "        return 4\n",
    "    elif x >= 50 and x < 60:\n",
    "        return 5\n",
    "    else:\n",
    "        return 6"
   ]
  },
  {
   "cell_type": "code",
   "execution_count": 110,
   "id": "8717c9ea-6b76-442d-8053-dade77fe3bf0",
   "metadata": {
    "collapsed": true,
    "jupyter": {
     "outputs_hidden": true
    },
    "tags": []
   },
   "outputs": [
    {
     "data": {
      "text/html": [
       "<div>\n",
       "<style scoped>\n",
       "    .dataframe tbody tr th:only-of-type {\n",
       "        vertical-align: middle;\n",
       "    }\n",
       "\n",
       "    .dataframe tbody tr th {\n",
       "        vertical-align: top;\n",
       "    }\n",
       "\n",
       "    .dataframe thead th {\n",
       "        text-align: right;\n",
       "    }\n",
       "</style>\n",
       "<table border=\"1\" class=\"dataframe\">\n",
       "  <thead>\n",
       "    <tr style=\"text-align: right;\">\n",
       "      <th></th>\n",
       "      <th>user_id</th>\n",
       "      <th>location</th>\n",
       "    </tr>\n",
       "  </thead>\n",
       "  <tbody>\n",
       "    <tr>\n",
       "      <th>0</th>\n",
       "      <td>8</td>\n",
       "      <td>timmins, ontario, canada</td>\n",
       "    </tr>\n",
       "    <tr>\n",
       "      <th>1</th>\n",
       "      <td>11400</td>\n",
       "      <td>ottawa, ontario, canada</td>\n",
       "    </tr>\n",
       "    <tr>\n",
       "      <th>2</th>\n",
       "      <td>11676</td>\n",
       "      <td>n/a, n/a, n/a</td>\n",
       "    </tr>\n",
       "    <tr>\n",
       "      <th>3</th>\n",
       "      <td>67544</td>\n",
       "      <td>toronto, ontario, canada</td>\n",
       "    </tr>\n",
       "    <tr>\n",
       "      <th>4</th>\n",
       "      <td>85526</td>\n",
       "      <td>victoria, british columbia, canada</td>\n",
       "    </tr>\n",
       "    <tr>\n",
       "      <th>...</th>\n",
       "      <td>...</td>\n",
       "      <td>...</td>\n",
       "    </tr>\n",
       "    <tr>\n",
       "      <th>68087</th>\n",
       "      <td>278376</td>\n",
       "      <td>danville, pennsylvania, usa</td>\n",
       "    </tr>\n",
       "    <tr>\n",
       "      <th>68088</th>\n",
       "      <td>278621</td>\n",
       "      <td>victoria, delaware, canada</td>\n",
       "    </tr>\n",
       "    <tr>\n",
       "      <th>68089</th>\n",
       "      <td>278636</td>\n",
       "      <td>irvington, alabama, usa</td>\n",
       "    </tr>\n",
       "    <tr>\n",
       "      <th>68090</th>\n",
       "      <td>278659</td>\n",
       "      <td>vancouver, washington, usa</td>\n",
       "    </tr>\n",
       "    <tr>\n",
       "      <th>68091</th>\n",
       "      <td>278713</td>\n",
       "      <td>albuquerque, new mexico, usa</td>\n",
       "    </tr>\n",
       "  </tbody>\n",
       "</table>\n",
       "<p>68092 rows × 2 columns</p>\n",
       "</div>"
      ],
      "text/plain": [
       "       user_id                            location\n",
       "0            8            timmins, ontario, canada\n",
       "1        11400             ottawa, ontario, canada\n",
       "2        11676                       n/a, n/a, n/a\n",
       "3        67544            toronto, ontario, canada\n",
       "4        85526  victoria, british columbia, canada\n",
       "...        ...                                 ...\n",
       "68087   278376         danville, pennsylvania, usa\n",
       "68088   278621          victoria, delaware, canada\n",
       "68089   278636             irvington, alabama, usa\n",
       "68090   278659          vancouver, washington, usa\n",
       "68091   278713        albuquerque, new mexico, usa\n",
       "\n",
       "[68092 rows x 2 columns]"
      ]
     },
     "execution_count": 110,
     "metadata": {},
     "output_type": "execute_result"
    }
   ],
   "source": [
    "users = users.drop('age', axis=1) # 1. age 자르기\n",
    "users"
   ]
  },
  {
   "cell_type": "code",
   "execution_count": 111,
   "id": "a2b09616-a664-4456-b5d5-811cc42ec04d",
   "metadata": {
    "collapsed": true,
    "jupyter": {
     "outputs_hidden": true
    },
    "tags": []
   },
   "outputs": [
    {
     "name": "stderr",
     "output_type": "stream",
     "text": [
      "/tmp/ipykernel_76574/1764423883.py:2: FutureWarning: The default value of regex will change from True to False in a future version.\n",
      "  users['location'] = users['location'].str.replace(r'[^0-9a-zA-Z:,]', '') # location에서 특문 삭제\n"
     ]
    },
    {
     "data": {
      "text/html": [
       "<div>\n",
       "<style scoped>\n",
       "    .dataframe tbody tr th:only-of-type {\n",
       "        vertical-align: middle;\n",
       "    }\n",
       "\n",
       "    .dataframe tbody tr th {\n",
       "        vertical-align: top;\n",
       "    }\n",
       "\n",
       "    .dataframe thead th {\n",
       "        text-align: right;\n",
       "    }\n",
       "</style>\n",
       "<table border=\"1\" class=\"dataframe\">\n",
       "  <thead>\n",
       "    <tr style=\"text-align: right;\">\n",
       "      <th></th>\n",
       "      <th>user_id</th>\n",
       "      <th>location</th>\n",
       "      <th>location_city</th>\n",
       "      <th>location_state</th>\n",
       "      <th>location_country</th>\n",
       "    </tr>\n",
       "  </thead>\n",
       "  <tbody>\n",
       "    <tr>\n",
       "      <th>0</th>\n",
       "      <td>8</td>\n",
       "      <td>timmins,ontario,canada</td>\n",
       "      <td>timmins</td>\n",
       "      <td>ontario</td>\n",
       "      <td>canada</td>\n",
       "    </tr>\n",
       "    <tr>\n",
       "      <th>1</th>\n",
       "      <td>11400</td>\n",
       "      <td>ottawa,ontario,canada</td>\n",
       "      <td>ottawa</td>\n",
       "      <td>ontario</td>\n",
       "      <td>canada</td>\n",
       "    </tr>\n",
       "    <tr>\n",
       "      <th>2</th>\n",
       "      <td>11676</td>\n",
       "      <td>na,na,na</td>\n",
       "      <td>NaN</td>\n",
       "      <td>NaN</td>\n",
       "      <td>NaN</td>\n",
       "    </tr>\n",
       "    <tr>\n",
       "      <th>3</th>\n",
       "      <td>67544</td>\n",
       "      <td>toronto,ontario,canada</td>\n",
       "      <td>toronto</td>\n",
       "      <td>ontario</td>\n",
       "      <td>canada</td>\n",
       "    </tr>\n",
       "    <tr>\n",
       "      <th>4</th>\n",
       "      <td>85526</td>\n",
       "      <td>victoria,britishcolumbia,canada</td>\n",
       "      <td>victoria</td>\n",
       "      <td>britishcolumbia</td>\n",
       "      <td>canada</td>\n",
       "    </tr>\n",
       "    <tr>\n",
       "      <th>...</th>\n",
       "      <td>...</td>\n",
       "      <td>...</td>\n",
       "      <td>...</td>\n",
       "      <td>...</td>\n",
       "      <td>...</td>\n",
       "    </tr>\n",
       "    <tr>\n",
       "      <th>68087</th>\n",
       "      <td>278376</td>\n",
       "      <td>danville,pennsylvania,usa</td>\n",
       "      <td>danville</td>\n",
       "      <td>pennsylvania</td>\n",
       "      <td>usa</td>\n",
       "    </tr>\n",
       "    <tr>\n",
       "      <th>68088</th>\n",
       "      <td>278621</td>\n",
       "      <td>victoria,delaware,canada</td>\n",
       "      <td>victoria</td>\n",
       "      <td>delaware</td>\n",
       "      <td>canada</td>\n",
       "    </tr>\n",
       "    <tr>\n",
       "      <th>68089</th>\n",
       "      <td>278636</td>\n",
       "      <td>irvington,alabama,usa</td>\n",
       "      <td>irvington</td>\n",
       "      <td>alabama</td>\n",
       "      <td>usa</td>\n",
       "    </tr>\n",
       "    <tr>\n",
       "      <th>68090</th>\n",
       "      <td>278659</td>\n",
       "      <td>vancouver,washington,usa</td>\n",
       "      <td>vancouver</td>\n",
       "      <td>washington</td>\n",
       "      <td>usa</td>\n",
       "    </tr>\n",
       "    <tr>\n",
       "      <th>68091</th>\n",
       "      <td>278713</td>\n",
       "      <td>albuquerque,newmexico,usa</td>\n",
       "      <td>albuquerque</td>\n",
       "      <td>newmexico</td>\n",
       "      <td>usa</td>\n",
       "    </tr>\n",
       "  </tbody>\n",
       "</table>\n",
       "<p>68092 rows × 5 columns</p>\n",
       "</div>"
      ],
      "text/plain": [
       "       user_id                         location location_city  \\\n",
       "0            8           timmins,ontario,canada       timmins   \n",
       "1        11400            ottawa,ontario,canada        ottawa   \n",
       "2        11676                         na,na,na           NaN   \n",
       "3        67544           toronto,ontario,canada       toronto   \n",
       "4        85526  victoria,britishcolumbia,canada      victoria   \n",
       "...        ...                              ...           ...   \n",
       "68087   278376        danville,pennsylvania,usa      danville   \n",
       "68088   278621         victoria,delaware,canada      victoria   \n",
       "68089   278636            irvington,alabama,usa     irvington   \n",
       "68090   278659         vancouver,washington,usa     vancouver   \n",
       "68091   278713        albuquerque,newmexico,usa   albuquerque   \n",
       "\n",
       "        location_state location_country  \n",
       "0              ontario           canada  \n",
       "1              ontario           canada  \n",
       "2                  NaN              NaN  \n",
       "3              ontario           canada  \n",
       "4      britishcolumbia           canada  \n",
       "...                ...              ...  \n",
       "68087     pennsylvania              usa  \n",
       "68088         delaware           canada  \n",
       "68089          alabama              usa  \n",
       "68090       washington              usa  \n",
       "68091        newmexico              usa  \n",
       "\n",
       "[68092 rows x 5 columns]"
      ]
     },
     "execution_count": 111,
     "metadata": {},
     "output_type": "execute_result"
    }
   ],
   "source": [
    "#2. location 분리하기 (city, state, country)\n",
    "users['location'] = users['location'].str.replace(r'[^0-9a-zA-Z:,]', '') # location에서 특문 삭제\n",
    "\n",
    "# split 하여 칼럼 할당\n",
    "users['location_city'] = users['location'].apply(lambda x: x.split(',')[0].strip())\n",
    "users['location_state'] = users['location'].apply(lambda x: x.split(',')[1].strip())\n",
    "users['location_country'] = users['location'].apply(lambda x: x.split(',')[2].strip())\n",
    "\n",
    "users = users.replace('na', np.nan) #특수문자 제거로 n/a가 na로 바뀌게 되었습니다. 따라서 이를 컴퓨터가 인식할 수 있는 결측값으로 변환합니다.\n",
    "users = users.replace('', np.nan) # 일부 경우 , , ,으로 입력된 경우가 있었으므로 이런 경우에도 결측값으로 변환합니다.\n",
    "users"
   ]
  },
  {
   "cell_type": "code",
   "execution_count": 112,
   "id": "3a9f508b-f8c5-4cfc-b5dd-492ea6bdf861",
   "metadata": {},
   "outputs": [],
   "source": [
    "# 도시로 나라를 채워보자!\n",
    "modify_location = users[(users['location_country'].isna())&(users['location_city'].notnull())]['location_city'].values # 나라는 없고 도시만 있는 도시 목록 -> 얘들 나라를 채워주자\n",
    "\n",
    "location_list = [] # 제대로 된 location을 모아 둠 이거 보고 위에 애들 나라 채워줄 것\n",
    "for location in modify_location:\n",
    "    try:\n",
    "        right_location = users[(users['location'].str.contains(location))&(users['location_country'].notnull())]['location'].value_counts().index[0]\n",
    "        location_list.append(right_location)\n",
    "    except:\n",
    "        pass\n",
    "    \n",
    "for location in location_list: # 위 리스트로 채워주기\n",
    "    users.loc[users[users['location_city']==location.split(',')[0]].index,'location_state'] = location.split(',')[1] # 주 채워주기\n",
    "    users.loc[users[users['location_city']==location.split(',')[0]].index,'location_country'] = location.split(',')[2] # 나라 채워주기"
   ]
  },
  {
   "cell_type": "code",
   "execution_count": 113,
   "id": "77fd152d-a513-4dfd-80b3-eb797f03a731",
   "metadata": {},
   "outputs": [
    {
     "data": {
      "text/plain": [
       "user_id                0\n",
       "location               0\n",
       "location_city        122\n",
       "location_state      1132\n",
       "location_country     271\n",
       "dtype: int64"
      ]
     },
     "execution_count": 113,
     "metadata": {},
     "output_type": "execute_result"
    }
   ],
   "source": [
    "users.isnull().sum() # city, state는 자를 거라서 없어도 괜찮은데 나라는 일단 others로 채워주자"
   ]
  },
  {
   "cell_type": "markdown",
   "id": "a1afab5d-868f-43a5-a674-9c642f37cae5",
   "metadata": {},
   "source": [
    "## 의문사항\n",
    "- state는 country에 종속적이라 볼 수 있는데, 살리는 게 맞나?\n",
    "- 만약 살린다면, 상위 3개를 끊는 것이 의미가 있나? 분명 미국 또는 캐나다의 state일텐데?\n",
    "- 그럼 상위 나라별 state 3개를 써야 하나? (그럼 9개)\n",
    "\n",
    "## 일단 잘라!"
   ]
  },
  {
   "cell_type": "code",
   "execution_count": 114,
   "id": "885fdfee-6153-4cfd-a835-df787c98dd84",
   "metadata": {},
   "outputs": [
    {
     "data": {
      "text/html": [
       "<div>\n",
       "<style scoped>\n",
       "    .dataframe tbody tr th:only-of-type {\n",
       "        vertical-align: middle;\n",
       "    }\n",
       "\n",
       "    .dataframe tbody tr th {\n",
       "        vertical-align: top;\n",
       "    }\n",
       "\n",
       "    .dataframe thead th {\n",
       "        text-align: right;\n",
       "    }\n",
       "</style>\n",
       "<table border=\"1\" class=\"dataframe\">\n",
       "  <thead>\n",
       "    <tr style=\"text-align: right;\">\n",
       "      <th></th>\n",
       "      <th>user_id</th>\n",
       "      <th>location</th>\n",
       "      <th>location_country</th>\n",
       "    </tr>\n",
       "  </thead>\n",
       "  <tbody>\n",
       "    <tr>\n",
       "      <th>0</th>\n",
       "      <td>8</td>\n",
       "      <td>timmins,ontario,canada</td>\n",
       "      <td>canada</td>\n",
       "    </tr>\n",
       "    <tr>\n",
       "      <th>1</th>\n",
       "      <td>11400</td>\n",
       "      <td>ottawa,ontario,canada</td>\n",
       "      <td>canada</td>\n",
       "    </tr>\n",
       "    <tr>\n",
       "      <th>2</th>\n",
       "      <td>11676</td>\n",
       "      <td>na,na,na</td>\n",
       "      <td>NaN</td>\n",
       "    </tr>\n",
       "    <tr>\n",
       "      <th>3</th>\n",
       "      <td>67544</td>\n",
       "      <td>toronto,ontario,canada</td>\n",
       "      <td>canada</td>\n",
       "    </tr>\n",
       "    <tr>\n",
       "      <th>4</th>\n",
       "      <td>85526</td>\n",
       "      <td>victoria,britishcolumbia,canada</td>\n",
       "      <td>canada</td>\n",
       "    </tr>\n",
       "    <tr>\n",
       "      <th>...</th>\n",
       "      <td>...</td>\n",
       "      <td>...</td>\n",
       "      <td>...</td>\n",
       "    </tr>\n",
       "    <tr>\n",
       "      <th>68087</th>\n",
       "      <td>278376</td>\n",
       "      <td>danville,pennsylvania,usa</td>\n",
       "      <td>usa</td>\n",
       "    </tr>\n",
       "    <tr>\n",
       "      <th>68088</th>\n",
       "      <td>278621</td>\n",
       "      <td>victoria,delaware,canada</td>\n",
       "      <td>canada</td>\n",
       "    </tr>\n",
       "    <tr>\n",
       "      <th>68089</th>\n",
       "      <td>278636</td>\n",
       "      <td>irvington,alabama,usa</td>\n",
       "      <td>usa</td>\n",
       "    </tr>\n",
       "    <tr>\n",
       "      <th>68090</th>\n",
       "      <td>278659</td>\n",
       "      <td>vancouver,washington,usa</td>\n",
       "      <td>canada</td>\n",
       "    </tr>\n",
       "    <tr>\n",
       "      <th>68091</th>\n",
       "      <td>278713</td>\n",
       "      <td>albuquerque,newmexico,usa</td>\n",
       "      <td>usa</td>\n",
       "    </tr>\n",
       "  </tbody>\n",
       "</table>\n",
       "<p>68092 rows × 3 columns</p>\n",
       "</div>"
      ],
      "text/plain": [
       "       user_id                         location location_country\n",
       "0            8           timmins,ontario,canada           canada\n",
       "1        11400            ottawa,ontario,canada           canada\n",
       "2        11676                         na,na,na              NaN\n",
       "3        67544           toronto,ontario,canada           canada\n",
       "4        85526  victoria,britishcolumbia,canada           canada\n",
       "...        ...                              ...              ...\n",
       "68087   278376        danville,pennsylvania,usa              usa\n",
       "68088   278621         victoria,delaware,canada           canada\n",
       "68089   278636            irvington,alabama,usa              usa\n",
       "68090   278659         vancouver,washington,usa           canada\n",
       "68091   278713        albuquerque,newmexico,usa              usa\n",
       "\n",
       "[68092 rows x 3 columns]"
      ]
     },
     "execution_count": 114,
     "metadata": {},
     "output_type": "execute_result"
    }
   ],
   "source": [
    "# 일단 state 삭제\n",
    "users = users.drop('location_city', axis=1)\n",
    "users = users.drop('location_state', axis=1)\n",
    "users"
   ]
  },
  {
   "cell_type": "code",
   "execution_count": 115,
   "id": "2fe149f5-8431-4998-a913-a2f3c3af96a3",
   "metadata": {},
   "outputs": [
    {
     "data": {
      "text/html": [
       "<div>\n",
       "<style scoped>\n",
       "    .dataframe tbody tr th:only-of-type {\n",
       "        vertical-align: middle;\n",
       "    }\n",
       "\n",
       "    .dataframe tbody tr th {\n",
       "        vertical-align: top;\n",
       "    }\n",
       "\n",
       "    .dataframe thead th {\n",
       "        text-align: right;\n",
       "    }\n",
       "</style>\n",
       "<table border=\"1\" class=\"dataframe\">\n",
       "  <thead>\n",
       "    <tr style=\"text-align: right;\">\n",
       "      <th></th>\n",
       "      <th>user_id</th>\n",
       "      <th>location_country</th>\n",
       "    </tr>\n",
       "  </thead>\n",
       "  <tbody>\n",
       "    <tr>\n",
       "      <th>0</th>\n",
       "      <td>8</td>\n",
       "      <td>canada</td>\n",
       "    </tr>\n",
       "    <tr>\n",
       "      <th>1</th>\n",
       "      <td>11400</td>\n",
       "      <td>canada</td>\n",
       "    </tr>\n",
       "    <tr>\n",
       "      <th>2</th>\n",
       "      <td>11676</td>\n",
       "      <td>NaN</td>\n",
       "    </tr>\n",
       "    <tr>\n",
       "      <th>3</th>\n",
       "      <td>67544</td>\n",
       "      <td>canada</td>\n",
       "    </tr>\n",
       "    <tr>\n",
       "      <th>4</th>\n",
       "      <td>85526</td>\n",
       "      <td>canada</td>\n",
       "    </tr>\n",
       "    <tr>\n",
       "      <th>...</th>\n",
       "      <td>...</td>\n",
       "      <td>...</td>\n",
       "    </tr>\n",
       "    <tr>\n",
       "      <th>68087</th>\n",
       "      <td>278376</td>\n",
       "      <td>usa</td>\n",
       "    </tr>\n",
       "    <tr>\n",
       "      <th>68088</th>\n",
       "      <td>278621</td>\n",
       "      <td>canada</td>\n",
       "    </tr>\n",
       "    <tr>\n",
       "      <th>68089</th>\n",
       "      <td>278636</td>\n",
       "      <td>usa</td>\n",
       "    </tr>\n",
       "    <tr>\n",
       "      <th>68090</th>\n",
       "      <td>278659</td>\n",
       "      <td>canada</td>\n",
       "    </tr>\n",
       "    <tr>\n",
       "      <th>68091</th>\n",
       "      <td>278713</td>\n",
       "      <td>usa</td>\n",
       "    </tr>\n",
       "  </tbody>\n",
       "</table>\n",
       "<p>68092 rows × 2 columns</p>\n",
       "</div>"
      ],
      "text/plain": [
       "       user_id location_country\n",
       "0            8           canada\n",
       "1        11400           canada\n",
       "2        11676              NaN\n",
       "3        67544           canada\n",
       "4        85526           canada\n",
       "...        ...              ...\n",
       "68087   278376              usa\n",
       "68088   278621           canada\n",
       "68089   278636              usa\n",
       "68090   278659           canada\n",
       "68091   278713              usa\n",
       "\n",
       "[68092 rows x 2 columns]"
      ]
     },
     "execution_count": 115,
     "metadata": {},
     "output_type": "execute_result"
    }
   ],
   "source": [
    "users = users.drop('location', axis=1) # location도 마저 잘라줌\n",
    "users"
   ]
  },
  {
   "cell_type": "code",
   "execution_count": 116,
   "id": "ae9240a3-2ed5-4e09-adc0-943f834a1b11",
   "metadata": {},
   "outputs": [
    {
     "data": {
      "text/html": [
       "<div>\n",
       "<style scoped>\n",
       "    .dataframe tbody tr th:only-of-type {\n",
       "        vertical-align: middle;\n",
       "    }\n",
       "\n",
       "    .dataframe tbody tr th {\n",
       "        vertical-align: top;\n",
       "    }\n",
       "\n",
       "    .dataframe thead th {\n",
       "        text-align: right;\n",
       "    }\n",
       "</style>\n",
       "<table border=\"1\" class=\"dataframe\">\n",
       "  <thead>\n",
       "    <tr style=\"text-align: right;\">\n",
       "      <th></th>\n",
       "      <th>user_id</th>\n",
       "      <th>location_country</th>\n",
       "    </tr>\n",
       "  </thead>\n",
       "  <tbody>\n",
       "    <tr>\n",
       "      <th>0</th>\n",
       "      <td>8</td>\n",
       "      <td>canada</td>\n",
       "    </tr>\n",
       "    <tr>\n",
       "      <th>1</th>\n",
       "      <td>11400</td>\n",
       "      <td>canada</td>\n",
       "    </tr>\n",
       "    <tr>\n",
       "      <th>2</th>\n",
       "      <td>11676</td>\n",
       "      <td>anycountry</td>\n",
       "    </tr>\n",
       "    <tr>\n",
       "      <th>3</th>\n",
       "      <td>67544</td>\n",
       "      <td>canada</td>\n",
       "    </tr>\n",
       "    <tr>\n",
       "      <th>4</th>\n",
       "      <td>85526</td>\n",
       "      <td>canada</td>\n",
       "    </tr>\n",
       "    <tr>\n",
       "      <th>...</th>\n",
       "      <td>...</td>\n",
       "      <td>...</td>\n",
       "    </tr>\n",
       "    <tr>\n",
       "      <th>68087</th>\n",
       "      <td>278376</td>\n",
       "      <td>usa</td>\n",
       "    </tr>\n",
       "    <tr>\n",
       "      <th>68088</th>\n",
       "      <td>278621</td>\n",
       "      <td>canada</td>\n",
       "    </tr>\n",
       "    <tr>\n",
       "      <th>68089</th>\n",
       "      <td>278636</td>\n",
       "      <td>usa</td>\n",
       "    </tr>\n",
       "    <tr>\n",
       "      <th>68090</th>\n",
       "      <td>278659</td>\n",
       "      <td>canada</td>\n",
       "    </tr>\n",
       "    <tr>\n",
       "      <th>68091</th>\n",
       "      <td>278713</td>\n",
       "      <td>usa</td>\n",
       "    </tr>\n",
       "  </tbody>\n",
       "</table>\n",
       "<p>68092 rows × 2 columns</p>\n",
       "</div>"
      ],
      "text/plain": [
       "       user_id location_country\n",
       "0            8           canada\n",
       "1        11400           canada\n",
       "2        11676       anycountry\n",
       "3        67544           canada\n",
       "4        85526           canada\n",
       "...        ...              ...\n",
       "68087   278376              usa\n",
       "68088   278621           canada\n",
       "68089   278636              usa\n",
       "68090   278659           canada\n",
       "68091   278713              usa\n",
       "\n",
       "[68092 rows x 2 columns]"
      ]
     },
     "execution_count": 116,
     "metadata": {},
     "output_type": "execute_result"
    }
   ],
   "source": [
    "users['location_country'] = users['location_country'].fillna('anycountry') # 일단 빈 것은 others로 채움\n",
    "users"
   ]
  },
  {
   "cell_type": "code",
   "execution_count": 117,
   "id": "eaf38e35-f3ff-40cf-b1b3-2701ca306158",
   "metadata": {},
   "outputs": [],
   "source": [
    "# country 잘못된 애들 교정\n",
    "country_fix_dict = {'usa': {'oklahoma','districtofcolumbia', 'connecticut', 'worcester', 'aroostook', 'texas',  'kern', 'orangeco', 'unitedstatesofamerica', 'fortbend', 'alachua', 'massachusetts', 'arizona', 'austin', 'hawaii', 'ohio', 'camden', 'arkansas', 'minnesota', 'losestadosunidosdenorteamerica', 'us', 'usanow', 'northcarolina', 'maine', 'colorado','oklahoma', 'alabama', 'anystate', 'districtofcolumbia', 'unitedstaes', 'pender', 'newhampshire', 'unitedstates', 'missouri', 'idaho', 'ca', 'newyork','tennessee', 'stthomasi', 'dc', 'washington', 'illinois', 'california', 'michigan', 'iowa', 'maryland', 'newjersey', 'vanwert', 'oregon'},\n",
    "                    'uk': {'alderney', 'wales',  'aberdeenshire', 'bermuda', 'nottinghamshire', 'scotland', 'usacurrentlylivinginengland', 'england', 'countycork', 'alderney', 'cambridgeshire', 'middlesex', 'northyorkshire', 'westyorkshire', 'cocarlow', 'sthelena'},\n",
    "                    'japan': {'okinawa'},\n",
    "                    'southkorea': {'seoul'},\n",
    "                    'canada': {'ontario', 'alberta', 'novascotia', 'newfoundland', 'newbrunswick', 'britishcolumbia'},\n",
    "                    'miyanma': {'burma'},\n",
    "                    'newzealand': {'auckland', 'nz', 'otago'},\n",
    "                    'spain': {'andalucia','pontevedra', 'gipuzkoa', 'lleida', 'catalunyaspain', 'galiza', 'espaa'},\n",
    "                    'germany': {'niedersachsen', 'deutschland'},\n",
    "                    'brazil': {'disritofederal'},\n",
    "                    'switzerland': {'lasuisse'},\n",
    "                    'italy': {'veneziagiulia', 'ferrara', 'italia'},\n",
    "                    'australia': {'nsw', 'queensland', 'newsouthwales'},\n",
    "                    'belgium': {'labelgique', 'bergued'},\n",
    "                    'uruguay': {'urugua'},\n",
    "                    'panama': {'republicofpanama'}\n",
    "                   }\n",
    "country_del_list = ['c', 'space', 'universe', 'unknown', 'quit', 'tdzimi', 'universe', 'tn', 'unknown', 'space', 'c', 'franciscomorazan', 'petrolwarnation', 'ineurope', 'hereandthere', 'faraway'] "
   ]
  },
  {
   "cell_type": "code",
   "execution_count": 118,
   "id": "545b5eb5-f67d-4668-b581-b57e0fdd9a61",
   "metadata": {},
   "outputs": [],
   "source": [
    "# 교정 및 이상한 나라를 가진 애들 모음\n",
    "del_idx = []\n",
    "for idx, row in enumerate(users['location_country']):\n",
    "    for key, value in country_fix_dict.items():\n",
    "        if row in value:\n",
    "            users.at[idx, 'location_country'] = key\n",
    "    if row in country_del_list:\n",
    "        del_idx.append(idx)"
   ]
  },
  {
   "cell_type": "code",
   "execution_count": 119,
   "id": "c5189fb2-a962-4734-ac23-f7e7601d701c",
   "metadata": {},
   "outputs": [],
   "source": [
    "# 이상한 나라를 가진 애들도 others에 넣기\n",
    "for i in del_idx:\n",
    "    users.at[i, 'location_country'] = 'anycountry'"
   ]
  },
  {
   "cell_type": "code",
   "execution_count": 120,
   "id": "7452afeb-0f3f-4bbd-87cb-e92f925e0c39",
   "metadata": {
    "tags": []
   },
   "outputs": [
    {
     "data": {
      "text/plain": [
       "usa              45301\n",
       "canada            6538\n",
       "germany           3609\n",
       "unitedkingdom     3148\n",
       "australia         1821\n",
       "spain             1692\n",
       "italy              830\n",
       "france             829\n",
       "newzealand         462\n",
       "switzerland        459\n",
       "Name: location_country, dtype: int64"
      ]
     },
     "execution_count": 120,
     "metadata": {},
     "output_type": "execute_result"
    }
   ],
   "source": [
    "users['location_country'].value_counts().head(10)"
   ]
  },
  {
   "cell_type": "markdown",
   "id": "436538a6-6124-4104-8f7e-cd82dd191905",
   "metadata": {},
   "source": [
    "# 상위 10개의 location_country는 아래와 같음\n",
    "- usa              45301\n",
    "- canada            6538\n",
    "- germany           3609\n",
    "- unitedkingdom     3148\n",
    "- australia         1821\n",
    "- spain             1692\n",
    "- italy              830 -이탈리아 사람이 프랑스 사람보다 많긴 하지만 책에서 이탈리아 뺐기 때문에 분류하지 않음-\n",
    "- france             829 - 프랑스 사람까지 분류-\n",
    "- newzealand         462\n",
    "- switzerland        459\n",
    "- 참고사항\n",
    "    - others는 원래 비어있었거나, 이상하게 입력된 것으로 기존 285개\n",
    "    - unitedkingdom부터 others로 편입시킬 것임"
   ]
  },
  {
   "cell_type": "code",
   "execution_count": 121,
   "id": "ee8809c8-1d57-4c42-a1ae-e7894eba354d",
   "metadata": {},
   "outputs": [],
   "source": [
    "users_country = ['usa', 'canada', 'germany', 'unitedkingdom', 'australia', 'spain', 'france'] # italy 빠짐\n",
    "for i in range(len(users)):\n",
    "    if users.at[i, 'location_country'] not in users_country:\n",
    "        users.at[i, 'location_country'] = 'anycountry'"
   ]
  },
  {
   "cell_type": "code",
   "execution_count": 123,
   "id": "3dd4507b-5ec3-4470-9112-e5de5decb703",
   "metadata": {},
   "outputs": [
    {
     "data": {
      "text/plain": [
       "usa              45301\n",
       "canada            6538\n",
       "anycountry        5154\n",
       "germany           3609\n",
       "unitedkingdom     3148\n",
       "australia         1821\n",
       "spain             1692\n",
       "france             829\n",
       "Name: location_country, dtype: int64"
      ]
     },
     "execution_count": 123,
     "metadata": {},
     "output_type": "execute_result"
    }
   ],
   "source": [
    "users['location_country'].value_counts().head(10) # anycountry가 5154개로 3위에 등극!"
   ]
  },
  {
   "cell_type": "code",
   "execution_count": 125,
   "id": "fdecae77-c3e9-4391-8111-53c267aa7ac1",
   "metadata": {
    "tags": []
   },
   "outputs": [
    {
     "data": {
      "text/plain": [
       "user_id             0\n",
       "location_country    0\n",
       "dtype: int64"
      ]
     },
     "execution_count": 125,
     "metadata": {},
     "output_type": "execute_result"
    }
   ],
   "source": [
    "users.isna().sum()"
   ]
  },
  {
   "cell_type": "code",
   "execution_count": 129,
   "id": "d7f61922-fbcc-427b-bc96-38181e38c4d1",
   "metadata": {},
   "outputs": [],
   "source": [
    "users.to_csv('./data/users_1102.csv', index=False)"
   ]
  },
  {
   "cell_type": "code",
   "execution_count": 131,
   "id": "3f2470f6-0fa4-4845-b2e5-31f5bbef3a72",
   "metadata": {},
   "outputs": [],
   "source": [
    "trains = pd.read_csv('../main_code/data/train_ratings.csv')"
   ]
  },
  {
   "cell_type": "code",
   "execution_count": 145,
   "id": "0f453f03-0976-4715-bbed-4b6d1e3f29f4",
   "metadata": {},
   "outputs": [
    {
     "data": {
      "text/html": [
       "<div>\n",
       "<style scoped>\n",
       "    .dataframe tbody tr th:only-of-type {\n",
       "        vertical-align: middle;\n",
       "    }\n",
       "\n",
       "    .dataframe tbody tr th {\n",
       "        vertical-align: top;\n",
       "    }\n",
       "\n",
       "    .dataframe thead th {\n",
       "        text-align: right;\n",
       "    }\n",
       "</style>\n",
       "<table border=\"1\" class=\"dataframe\">\n",
       "  <thead>\n",
       "    <tr style=\"text-align: right;\">\n",
       "      <th></th>\n",
       "      <th>user_id</th>\n",
       "      <th>isbn</th>\n",
       "      <th>rating</th>\n",
       "    </tr>\n",
       "  </thead>\n",
       "  <tbody>\n",
       "  </tbody>\n",
       "</table>\n",
       "</div>"
      ],
      "text/plain": [
       "Empty DataFrame\n",
       "Columns: [user_id, isbn, rating]\n",
       "Index: []"
      ]
     },
     "execution_count": 148,
     "metadata": {},
     "output_type": "execute_result"
    }
   ],
   "source": [
    "trains[trains['user_id'] == 176]"
   ]
  },
  {
   "cell_type": "code",
   "execution_count": 147,
   "id": "8f9f6794-14fe-4848-a162-a08b85851124",
   "metadata": {},
   "outputs": [
    {
     "data": {
      "text/plain": [
       "0    8\n",
       "Name: rating, dtype: int64"
      ]
     },
     "execution_count": 150,
     "metadata": {},
     "output_type": "execute_result"
    }
   ],
   "source": [
    "train['rating'].mean()"
   ]
  },
  {
   "cell_type": "code",
   "execution_count": 156,
   "id": "0263b343-b898-4de1-b22f-1c23e6a0644a",
   "metadata": {
    "tags": []
   },
   "outputs": [
    {
     "data": {
      "text/html": [
       "<div>\n",
       "<style scoped>\n",
       "    .dataframe tbody tr th:only-of-type {\n",
       "        vertical-align: middle;\n",
       "    }\n",
       "\n",
       "    .dataframe tbody tr th {\n",
       "        vertical-align: top;\n",
       "    }\n",
       "\n",
       "    .dataframe thead th {\n",
       "        text-align: right;\n",
       "    }\n",
       "</style>\n",
       "<table border=\"1\" class=\"dataframe\">\n",
       "  <thead>\n",
       "    <tr style=\"text-align: right;\">\n",
       "      <th></th>\n",
       "      <th>user_id</th>\n",
       "      <th>isbn</th>\n",
       "      <th>rating</th>\n",
       "    </tr>\n",
       "  </thead>\n",
       "  <tbody>\n",
       "    <tr>\n",
       "      <th>0</th>\n",
       "      <td>104429</td>\n",
       "      <td>0785268839</td>\n",
       "      <td>10.0</td>\n",
       "    </tr>\n",
       "    <tr>\n",
       "      <th>1</th>\n",
       "      <td>117583</td>\n",
       "      <td>NaN</td>\n",
       "      <td>NaN</td>\n",
       "    </tr>\n",
       "    <tr>\n",
       "      <th>2</th>\n",
       "      <td>118705</td>\n",
       "      <td>NaN</td>\n",
       "      <td>NaN</td>\n",
       "    </tr>\n",
       "    <tr>\n",
       "      <th>3</th>\n",
       "      <td>140036</td>\n",
       "      <td>NaN</td>\n",
       "      <td>NaN</td>\n",
       "    </tr>\n",
       "    <tr>\n",
       "      <th>4</th>\n",
       "      <td>258556</td>\n",
       "      <td>NaN</td>\n",
       "      <td>NaN</td>\n",
       "    </tr>\n",
       "  </tbody>\n",
       "</table>\n",
       "</div>"
      ],
      "text/plain": [
       "   user_id        isbn  rating\n",
       "0   104429  0785268839    10.0\n",
       "1   117583         NaN     NaN\n",
       "2   118705         NaN     NaN\n",
       "3   140036         NaN     NaN\n",
       "4   258556         NaN     NaN"
      ]
     },
     "execution_count": 156,
     "metadata": {},
     "output_type": "execute_result"
    }
   ],
   "source": [
    "trains[trains['isbn'] == '0785268839'].mode(0)"
   ]
  }
 ],
 "metadata": {
  "kernelspec": {
   "display_name": "Python 3 (ipykernel)",
   "language": "python",
   "name": "python3"
  },
  "language_info": {
   "codemirror_mode": {
    "name": "ipython",
    "version": 3
   },
   "file_extension": ".py",
   "mimetype": "text/x-python",
   "name": "python",
   "nbconvert_exporter": "python",
   "pygments_lexer": "ipython3",
   "version": "3.8.5"
  }
 },
 "nbformat": 4,
 "nbformat_minor": 5
}
