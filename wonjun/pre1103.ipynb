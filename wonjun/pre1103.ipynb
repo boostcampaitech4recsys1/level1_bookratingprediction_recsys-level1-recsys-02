{
 "cells": [
  {
   "cell_type": "code",
   "execution_count": 113,
   "id": "5714a938-b9b7-4199-89dd-a4269b7317cd",
   "metadata": {},
   "outputs": [],
   "source": [
    "import pandas as pd\n",
    "import numpy as np\n",
    "import scipy.stats as ss\n",
    "from tqdm import tqdm\n",
    "import re"
   ]
  },
  {
   "cell_type": "code",
   "execution_count": 114,
   "id": "b4a333cf-7df5-400d-b16c-1410fb2370f2",
   "metadata": {},
   "outputs": [],
   "source": [
    "import pandas as pd\n",
    "import numpy as np\n",
    "import re\n",
    "import seaborn as sns\n",
    "import matplotlib.pyplot as plt\n",
    "import scipy.stats as ss"
   ]
  },
  {
   "cell_type": "markdown",
   "id": "f8924131-ce74-41cd-a757-2bbd107d6cf2",
   "metadata": {},
   "source": [
    "# users"
   ]
  },
  {
   "cell_type": "code",
   "execution_count": 115,
   "id": "637a4708-39a2-48b2-b211-ed5ff8f0868b",
   "metadata": {
    "tags": []
   },
   "outputs": [],
   "source": [
    "users = pd.read_csv('../main_code/data/users.csv')"
   ]
  },
  {
   "cell_type": "code",
   "execution_count": 116,
   "id": "ccbb05d6-c70d-4f1e-8efa-da9aec580d47",
   "metadata": {
    "tags": []
   },
   "outputs": [],
   "source": [
    "# USERS ----------------------------------------\n",
    "def fix_location(location: str, right_location: pd.Series) -> str:\n",
    "    try:\n",
    "        if right_location.loc[location]:\n",
    "            return location\n",
    "        else:\n",
    "            return right_location.index[0]\n",
    "    except:\n",
    "        return right_location.index[0]\n",
    "\n",
    "\n",
    "def location_preprocessing_func(users: pd.DataFrame) -> pd.DataFrame:\n",
    "    \"\"\"\n",
    "    users의 location을 나누고 정리하는 함수\n",
    "    1. city, state, country로 나누고\n",
    "    2. country, city가 같다면 state도 같다는 점을 이용해 state를 채움\n",
    "    3. country, state, city 중 하나라도 na인 row를 삭제\n",
    "    4. country 이상한 애들 직접 수정\n",
    "    \"\"\"\n",
    "\n",
    "    # (1) city, state, country를 나눔\n",
    "    users[\"location\"] = users[\"location\"].str.replace(r\"[^0-9a-zA-Z,]\", \"\")  # 특수문자 제거\n",
    "\n",
    "    users[\"location_city\"] = users[\"location\"].apply(lambda x: x.split(\",\")[0].strip())\n",
    "    users[\"location_state\"] = users[\"location\"].apply(lambda x: x.split(\",\")[1].strip())\n",
    "    users[\"location_country\"] = users[\"location\"].apply(\n",
    "        lambda x: x.split(\",\")[2].strip()\n",
    "    )\n",
    "\n",
    "    users = users.replace(\n",
    "        \"na\", np.nan\n",
    "    )  # 특수문자 제거로 n/a가 na로 바뀌게 되었습니다. 따라서 이를 컴퓨터가 인식할 수 있는 결측값으로 변환합니다.\n",
    "    users = users.replace(\n",
    "        \"\", np.nan\n",
    "    )  # 일부 경우 , , ,으로 입력된 경우가 있었으므로 이런 경우에도 결측값으로 변환합니다.\n",
    "\n",
    "    modify_location = users[\n",
    "        (users[\"location_country\"].isna()) & (users[\"location_city\"].notnull())\n",
    "    ][\"location_city\"].values\n",
    "    location = (\n",
    "        users[\n",
    "            (users[\"location\"].str.contains(\"seattle\"))\n",
    "            & (users[\"location_country\"].notnull())\n",
    "        ][\"location\"]\n",
    "        .value_counts()\n",
    "        .index[0]\n",
    "    )\n",
    "\n",
    "    location_list = []\n",
    "    for location in modify_location:\n",
    "        try:\n",
    "            right_location = (\n",
    "                users[\n",
    "                    (users[\"location\"].str.contains(location))\n",
    "                    & (users[\"location_country\"].notnull())\n",
    "                ][\"location\"]\n",
    "                .value_counts()\n",
    "                .index[0]\n",
    "            )\n",
    "            location_list.append(right_location)\n",
    "        except:\n",
    "            pass\n",
    "\n",
    "    for location in location_list:\n",
    "        users.loc[\n",
    "            users[users[\"location_city\"] == location.split(\",\")[0]].index,\n",
    "            \"location_state\",\n",
    "        ] = location.split(\",\")[1]\n",
    "        users.loc[\n",
    "            users[users[\"location_city\"] == location.split(\",\")[0]].index,\n",
    "            \"location_country\",\n",
    "        ] = location.split(\",\")[2]\n",
    "\n",
    "    # (2) country, city가 같다면 state도 같다는 점을 이용해 state를 채움\n",
    "    modify_city = users[\"location_city\"].unique()\n",
    "    for city in tqdm(modify_city):\n",
    "        try:\n",
    "            right_state = users[\n",
    "                (users[\"location\"].str.contains(city))\n",
    "                & (users[\"location_state\"].notnull())\n",
    "            ][\"location_state\"].value_counts()\n",
    "            right_country = users[\n",
    "                (users[\"location\"].str.contains(city))\n",
    "                & (users[\"location_country\"].notnull())\n",
    "            ][\"location_country\"].value_counts()\n",
    "\n",
    "            right_state = right_state / right_state.sum() > 0.08\n",
    "            right_country = right_country / right_country.sum() > 0.08\n",
    "\n",
    "            modify_index = users.loc[users[\"location_city\"] == city].index\n",
    "\n",
    "            users.loc[modify_index, \"location_state\"] = users.loc[\n",
    "                modify_index, \"location_state\"\n",
    "            ].apply(fix_location, args=(right_state,))\n",
    "            users.loc[modify_index, \"location_country\"] = users.loc[\n",
    "                modify_index, \"location_country\"\n",
    "            ].apply(fix_location, args=(right_country,))\n",
    "\n",
    "        except:\n",
    "            pass\n",
    "\n",
    "    # # (3) na인 row를 삭제\n",
    "    # users = users.dropna(\n",
    "    #     subset=[\"location_state\", \"location_city\", \"location_country\"]\n",
    "    # ).reset_index(drop=True)\n",
    "    \n",
    "    users['location_country'] = users['location_country'].fillna('others')\n",
    "    \n",
    "\n",
    "    # (4) country 이상한 애들 직접 수정\n",
    "    country_fix_dict = {\n",
    "        \"usa\": {\n",
    "            \"oklahoma\",\n",
    "            \"districtofcolumbia\",\n",
    "            \"connecticut\",\n",
    "            \"worcester\",\n",
    "            \"aroostook\",\n",
    "            \"texas\",\n",
    "            \"kern\",\n",
    "            \"orangeco\",\n",
    "            \"unitedstatesofamerica\",\n",
    "            \"fortbend\",\n",
    "            \"alachua\",\n",
    "            \"massachusetts\",\n",
    "            \"arizona\",\n",
    "            \"austin\",\n",
    "            \"hawaii\",\n",
    "            \"ohio\",\n",
    "            \"camden\",\n",
    "            \"arkansas\",\n",
    "            \"minnesota\",\n",
    "            \"losestadosunidosdenorteamerica\",\n",
    "            \"us\",\n",
    "            \"usanow\",\n",
    "            \"northcarolina\",\n",
    "            \"maine\",\n",
    "            \"colorado\",\n",
    "            \"oklahoma\",\n",
    "            \"alabama\",\n",
    "            \"anystate\",\n",
    "            \"districtofcolumbia\",\n",
    "            \"unitedstaes\",\n",
    "            \"pender\",\n",
    "            \"newhampshire\",\n",
    "            \"unitedstates\",\n",
    "            \"missouri\",\n",
    "            \"idaho\",\n",
    "            \"ca\",\n",
    "            \"newyork\",\n",
    "            \"tennessee\",\n",
    "            \"stthomasi\",\n",
    "            \"dc\",\n",
    "            \"washington\",\n",
    "            \"illinois\",\n",
    "            \"california\",\n",
    "            \"michigan\",\n",
    "            \"iowa\",\n",
    "            \"maryland\",\n",
    "            \"newjersey\",\n",
    "            \"vanwert\",\n",
    "            \"oregon\",\n",
    "        },\n",
    "        \"uk\": {\n",
    "            \"alderney\",\n",
    "            \"wales\",\n",
    "            \"aberdeenshire\",\n",
    "            \"bermuda\",\n",
    "            \"nottinghamshire\",\n",
    "            \"scotland\",\n",
    "            \"usacurrentlylivinginengland\",\n",
    "            \"england\",\n",
    "            \"countycork\",\n",
    "            \"alderney\",\n",
    "            \"cambridgeshire\",\n",
    "            \"middlesex\",\n",
    "            \"northyorkshire\",\n",
    "            \"westyorkshire\",\n",
    "            \"cocarlow\",\n",
    "            \"sthelena\",\n",
    "        },\n",
    "        \"japan\": {\"okinawa\"},\n",
    "        \"southkorea\": {\"seoul\"},\n",
    "        \"canada\": {\n",
    "            \"ontario\",\n",
    "            \"alberta\",\n",
    "            \"novascotia\",\n",
    "            \"newfoundland\",\n",
    "            \"newbrunswick\",\n",
    "            \"britishcolumbia\",\n",
    "        },\n",
    "        \"miyanma\": {\"burma\"},\n",
    "        \"newzealand\": {\"auckland\", \"nz\", \"otago\"},\n",
    "        \"spain\": {\n",
    "            \"andalucia\",\n",
    "            \"pontevedra\",\n",
    "            \"gipuzkoa\",\n",
    "            \"lleida\",\n",
    "            \"catalunyaspain\",\n",
    "            \"galiza\",\n",
    "            \"espaa\",\n",
    "        },\n",
    "        \"germany\": {\"niedersachsen\", \"deutschland\"},\n",
    "        \"brazil\": {\"disritofederal\"},\n",
    "        \"switzerland\": {\"lasuisse\"},\n",
    "        \"italy\": {\"veneziagiulia\", \"ferrara\", \"italia\"},\n",
    "        \"australia\": {\"nsw\", \"queensland\", \"newsouthwales\"},\n",
    "        \"belgium\": {\"labelgique\", \"bergued\"},\n",
    "        \"uruguay\": {\"urugua\"},\n",
    "        \"panama\": {\"republicofpanama\"},\n",
    "    }\n",
    "    country_del_list = [\n",
    "        \"c\",\n",
    "        \"space\",\n",
    "        \"universe\",\n",
    "        \"unknown\",\n",
    "        \"quit\",\n",
    "        \"tdzimi\",\n",
    "        \"universe\",\n",
    "        \"tn\",\n",
    "        \"unknown\",\n",
    "        \"space\",\n",
    "        \"c\",\n",
    "        \"franciscomorazan\",\n",
    "        \"petrolwarnation\",\n",
    "        \"ineurope\",\n",
    "        \"hereandthere\",\n",
    "        \"faraway\",\n",
    "    ]\n",
    "    del_idx = []\n",
    "    for idx, row in enumerate(users[\"location_country\"]):\n",
    "        for key, value in country_fix_dict.items():\n",
    "            if row in value:\n",
    "                users.at[idx, \"location_country\"] = key\n",
    "        if row in country_del_list:\n",
    "            del_idx.append(idx)\n",
    "    # users = users.drop(del_idx, axis=0).reset_index(drop=True)\n",
    "    for i in del_idx:\n",
    "        users.at[i, 'location_country'] = 'others'\n",
    "\n",
    "    return users"
   ]
  },
  {
   "cell_type": "code",
   "execution_count": 117,
   "id": "81aff2eb-4281-4370-a94e-fcad1994da98",
   "metadata": {},
   "outputs": [
    {
     "name": "stderr",
     "output_type": "stream",
     "text": [
      "/tmp/ipykernel_91318/2744620385.py:22: FutureWarning: The default value of regex will change from True to False in a future version.\n",
      "  users[\"location\"] = users[\"location\"].str.replace(r\"[^0-9a-zA-Z,]\", \"\")  # 특수문자 제거\n",
      "100%|██████████| 11995/11995 [13:53<00:00, 14.39it/s]\n"
     ]
    }
   ],
   "source": [
    "users = location_preprocessing_func(users)"
   ]
  },
  {
   "cell_type": "code",
   "execution_count": 128,
   "id": "d63348b7-e5c4-4217-80aa-651a6b937ab3",
   "metadata": {},
   "outputs": [],
   "source": [
    "users = users.drop(['location', 'location_city', 'location_state'], axis = 1)"
   ]
  },
  {
   "cell_type": "code",
   "execution_count": 133,
   "id": "5e046472-b3f2-41de-986e-0547fc4de45b",
   "metadata": {},
   "outputs": [
    {
     "data": {
      "text/plain": [
       "usa              45412\n",
       "canada            6548\n",
       "germany           3649\n",
       "unitedkingdom     3121\n",
       "australia         1850\n",
       "spain             1700\n",
       "italy              843\n",
       "france             817\n",
       "newzealand         467\n",
       "switzerland        442\n",
       "Name: location_country, dtype: int64"
      ]
     },
     "execution_count": 133,
     "metadata": {},
     "output_type": "execute_result"
    }
   ],
   "source": [
    "users['location_country'].value_counts().head(10)"
   ]
  },
  {
   "cell_type": "code",
   "execution_count": 134,
   "id": "af09f8a2-c65b-4704-a9f0-83a796cd790b",
   "metadata": {},
   "outputs": [],
   "source": [
    "users_country = ['usa', 'canada', 'germany', 'unitedkingdom', 'australia', 'spain', 'france'] # italy 빠짐\n",
    "for i in range(len(users)):\n",
    "    if users.at[i, 'location_country'] not in users_country:\n",
    "        users.at[i, 'location_country'] = 'others'"
   ]
  },
  {
   "cell_type": "code",
   "execution_count": 135,
   "id": "85d7abee-2d4d-482a-bfd6-e3c60d630909",
   "metadata": {},
   "outputs": [
    {
     "data": {
      "text/plain": [
       "usa              45412\n",
       "canada            6548\n",
       "others            4995\n",
       "germany           3649\n",
       "unitedkingdom     3121\n",
       "australia         1850\n",
       "spain             1700\n",
       "france             817\n",
       "Name: location_country, dtype: int64"
      ]
     },
     "execution_count": 135,
     "metadata": {},
     "output_type": "execute_result"
    }
   ],
   "source": [
    "users['location_country'].value_counts().head(10)"
   ]
  },
  {
   "cell_type": "code",
   "execution_count": 137,
   "id": "e4bd2d51-3095-472d-b705-71cfdb47a6ac",
   "metadata": {},
   "outputs": [
    {
     "data": {
      "text/html": [
       "<div>\n",
       "<style scoped>\n",
       "    .dataframe tbody tr th:only-of-type {\n",
       "        vertical-align: middle;\n",
       "    }\n",
       "\n",
       "    .dataframe tbody tr th {\n",
       "        vertical-align: top;\n",
       "    }\n",
       "\n",
       "    .dataframe thead th {\n",
       "        text-align: right;\n",
       "    }\n",
       "</style>\n",
       "<table border=\"1\" class=\"dataframe\">\n",
       "  <thead>\n",
       "    <tr style=\"text-align: right;\">\n",
       "      <th></th>\n",
       "      <th>user_id</th>\n",
       "      <th>age</th>\n",
       "      <th>location_country</th>\n",
       "    </tr>\n",
       "  </thead>\n",
       "  <tbody>\n",
       "    <tr>\n",
       "      <th>0</th>\n",
       "      <td>8</td>\n",
       "      <td>NaN</td>\n",
       "      <td>canada</td>\n",
       "    </tr>\n",
       "    <tr>\n",
       "      <th>1</th>\n",
       "      <td>11400</td>\n",
       "      <td>49.0</td>\n",
       "      <td>canada</td>\n",
       "    </tr>\n",
       "    <tr>\n",
       "      <th>2</th>\n",
       "      <td>11676</td>\n",
       "      <td>NaN</td>\n",
       "      <td>others</td>\n",
       "    </tr>\n",
       "    <tr>\n",
       "      <th>3</th>\n",
       "      <td>67544</td>\n",
       "      <td>30.0</td>\n",
       "      <td>canada</td>\n",
       "    </tr>\n",
       "    <tr>\n",
       "      <th>4</th>\n",
       "      <td>85526</td>\n",
       "      <td>36.0</td>\n",
       "      <td>canada</td>\n",
       "    </tr>\n",
       "    <tr>\n",
       "      <th>...</th>\n",
       "      <td>...</td>\n",
       "      <td>...</td>\n",
       "      <td>...</td>\n",
       "    </tr>\n",
       "    <tr>\n",
       "      <th>68087</th>\n",
       "      <td>278376</td>\n",
       "      <td>54.0</td>\n",
       "      <td>usa</td>\n",
       "    </tr>\n",
       "    <tr>\n",
       "      <th>68088</th>\n",
       "      <td>278621</td>\n",
       "      <td>74.0</td>\n",
       "      <td>canada</td>\n",
       "    </tr>\n",
       "    <tr>\n",
       "      <th>68089</th>\n",
       "      <td>278636</td>\n",
       "      <td>NaN</td>\n",
       "      <td>usa</td>\n",
       "    </tr>\n",
       "    <tr>\n",
       "      <th>68090</th>\n",
       "      <td>278659</td>\n",
       "      <td>33.0</td>\n",
       "      <td>canada</td>\n",
       "    </tr>\n",
       "    <tr>\n",
       "      <th>68091</th>\n",
       "      <td>278713</td>\n",
       "      <td>63.0</td>\n",
       "      <td>usa</td>\n",
       "    </tr>\n",
       "  </tbody>\n",
       "</table>\n",
       "<p>68092 rows × 3 columns</p>\n",
       "</div>"
      ],
      "text/plain": [
       "       user_id   age location_country\n",
       "0            8   NaN           canada\n",
       "1        11400  49.0           canada\n",
       "2        11676   NaN           others\n",
       "3        67544  30.0           canada\n",
       "4        85526  36.0           canada\n",
       "...        ...   ...              ...\n",
       "68087   278376  54.0              usa\n",
       "68088   278621  74.0           canada\n",
       "68089   278636   NaN              usa\n",
       "68090   278659  33.0           canada\n",
       "68091   278713  63.0              usa\n",
       "\n",
       "[68092 rows x 3 columns]"
      ]
     },
     "execution_count": 137,
     "metadata": {},
     "output_type": "execute_result"
    }
   ],
   "source": [
    "users"
   ]
  },
  {
   "cell_type": "code",
   "execution_count": 138,
   "id": "02a6961e-654c-4369-b1f7-82be26ea12ca",
   "metadata": {},
   "outputs": [],
   "source": [
    "users.to_csv('userspp.csv', index = False)"
   ]
  },
  {
   "cell_type": "markdown",
   "id": "f7c445c1-b456-458b-a2cf-f15c8307eab3",
   "metadata": {
    "tags": []
   },
   "source": [
    "# books"
   ]
  },
  {
   "cell_type": "code",
   "execution_count": 120,
   "id": "6a03f69f-8179-48ba-889c-652823adec31",
   "metadata": {},
   "outputs": [],
   "source": [
    "books = pd.read_csv(\"../main_code/data/books.csv\", encoding='utf-8')"
   ]
  },
  {
   "cell_type": "code",
   "execution_count": 118,
   "id": "4e4ae307-70f2-4bb7-b11d-7b4061997fa9",
   "metadata": {},
   "outputs": [],
   "source": [
    "def text_preprocessing_func(text : str ) -> str :\n",
    "    \"\"\"\n",
    "    깨진 문자를 변환하고 특수문자를 삭제하는 함수\n",
    "    \"\"\"\n",
    "    text = text.replace('Ã?Â©️','e') # 원래는 é인데 걍 e로 메움\n",
    "    text = text.replace('Ã©️', 'e')\n",
    "    text = text.replace('Ã?Â?','e') # 원래는 é인데 걍 e로 메움\n",
    "    text = text.lower()   \n",
    "    text = text.replace('ã','a')\n",
    "    text = text.replace('\\xa0', ' ')\n",
    "    text = text.replace('â', 'a')\n",
    "    text = text.replace('\\n', ' ')\n",
    "    text = text.replace('&#39;', \"'\")\n",
    "    text = text.replace('&quot;', '')\n",
    "    text = text.replace('à','a')\n",
    "    text = text.replace('--', '-')\n",
    "    text = re.sub(r'[^a-z\\d ]', '', text)\n",
    "    del_list = ['³', 'º', 'ª', '¼', 'µ', '¹', '²', '½']\n",
    "    for del_word in del_list:\n",
    "        text = text.replace(del_word, '')\n",
    "    text = text.strip()\n",
    "    return text"
   ]
  },
  {
   "cell_type": "code",
   "execution_count": 119,
   "id": "cfcacce0-107e-4a54-98d0-21e241e7a885",
   "metadata": {},
   "outputs": [],
   "source": [
    "def year_map(x: int) -> int:\n",
    "    x = int(x)\n",
    "    if x > 2000:\n",
    "        return 1\n",
    "    elif x >= 1993 and x < 2000:\n",
    "        return 2\n",
    "    elif x >= 1989 and x < 1993:\n",
    "        return 3\n",
    "    elif x >= 1980 and x < 1989:\n",
    "        return 4\n",
    "    elif x >= 1970 and x < 1980:\n",
    "        return 5\n",
    "    else:\n",
    "        return 6"
   ]
  },
  {
   "cell_type": "code",
   "execution_count": null,
   "id": "eb887af7-8f5e-4fd0-b691-94387da78b81",
   "metadata": {},
   "outputs": [],
   "source": []
  },
  {
   "cell_type": "code",
   "execution_count": null,
   "id": "0be89e16-ca61-4c19-8739-198174b07cdd",
   "metadata": {},
   "outputs": [],
   "source": [
    "books['year_of_publication'] = books['year_of_publication'].astype(int)"
   ]
  },
  {
   "cell_type": "code",
   "execution_count": null,
   "id": "ceaa445c-16f5-4fba-b283-1c2c6db28298",
   "metadata": {},
   "outputs": [],
   "source": []
  },
  {
   "cell_type": "code",
   "execution_count": null,
   "id": "1b7a35f6-7ab5-476c-bd76-555fc20ed2eb",
   "metadata": {},
   "outputs": [],
   "source": []
  },
  {
   "cell_type": "code",
   "execution_count": null,
   "id": "be497761-9041-4565-9e31-39b73461c100",
   "metadata": {},
   "outputs": [],
   "source": []
  },
  {
   "cell_type": "code",
   "execution_count": 96,
   "id": "1c089965-32d6-49b5-b889-d846670c4635",
   "metadata": {},
   "outputs": [],
   "source": [
    "books = pd.read_csv(\"./data/books.csv\", encoding='utf-8')"
   ]
  },
  {
   "cell_type": "code",
   "execution_count": 97,
   "id": "4275456d-6cb8-44e3-a9d4-fdc7b3d9af64",
   "metadata": {},
   "outputs": [],
   "source": [
    "books['book_author'] = books['book_author'].apply(text_preprocessing_func) # 작가 깨진거 수정\n",
    "books['book_title'] = books['book_title'].apply(text_preprocessing_func) # 책 제목 깨진거 수정"
   ]
  },
  {
   "cell_type": "code",
   "execution_count": 98,
   "id": "0f1d2f94-f86c-4b64-8721-f7ab265dcdad",
   "metadata": {},
   "outputs": [],
   "source": [
    "books['year_of_publication'] = books['year_of_publication'].astype(int) # 출판년도를 정수로"
   ]
  },
  {
   "cell_type": "code",
   "execution_count": 73,
   "id": "31c26449-a895-4f48-894b-e9ba9a26e2b6",
   "metadata": {
    "collapsed": true,
    "jupyter": {
     "outputs_hidden": true
    },
    "tags": []
   },
   "outputs": [
    {
     "data": {
      "text/plain": [
       "2002    11669\n",
       "2001    11020\n",
       "1999    10480\n",
       "2000    10391\n",
       "2003     9430\n",
       "1998     9300\n",
       "1994     9058\n",
       "1997     8439\n",
       "1996     7853\n",
       "1995     7494\n",
       "1993     5554\n",
       "1992     5209\n",
       "1991     4692\n",
       "1990     4279\n",
       "2004     3771\n",
       "1989     3751\n",
       "1988     3473\n",
       "1987     2976\n",
       "1986     2616\n",
       "1985     2433\n",
       "1984     2214\n",
       "1983     1972\n",
       "1982     1848\n",
       "1981     1438\n",
       "1980     1088\n",
       "1978      944\n",
       "1979      931\n",
       "1977      837\n",
       "1976      697\n",
       "1975      541\n",
       "1974      440\n",
       "1973      410\n",
       "1972      366\n",
       "1971      249\n",
       "1970      221\n",
       "1969      178\n",
       "1968      124\n",
       "1965       94\n",
       "1966       92\n",
       "1967       89\n",
       "1961       76\n",
       "1962       73\n",
       "1964       72\n",
       "1963       70\n",
       "1960       65\n",
       "1959       60\n",
       "1953       48\n",
       "1957       47\n",
       "1955       45\n",
       "1958       45\n",
       "Name: year_of_publication, dtype: int64"
      ]
     },
     "execution_count": 73,
     "metadata": {},
     "output_type": "execute_result"
    }
   ],
   "source": [
    "books['year_of_publication'].value_counts().head(50)"
   ]
  },
  {
   "cell_type": "code",
   "execution_count": 99,
   "id": "ba7f61df-f887-46db-812f-a745ffe06ed1",
   "metadata": {},
   "outputs": [],
   "source": [
    "books['year_of_publication'] = books['year_of_publication'].apply(year_map)"
   ]
  },
  {
   "cell_type": "code",
   "execution_count": 100,
   "id": "a9d24da4-1cea-47d5-9273-1358fcc98ff8",
   "metadata": {},
   "outputs": [
    {
     "data": {
      "text/plain": [
       "2    58178\n",
       "1    35910\n",
       "4    20058\n",
       "3    17931\n",
       "6    11857\n",
       "5     5636\n",
       "Name: year_of_publication, dtype: int64"
      ]
     },
     "execution_count": 100,
     "metadata": {},
     "output_type": "execute_result"
    }
   ],
   "source": [
    "books['year_of_publication'].value_counts()"
   ]
  },
  {
   "cell_type": "code",
   "execution_count": null,
   "id": "0b91ac4a-d572-4256-879e-17ec70e6023a",
   "metadata": {},
   "outputs": [],
   "source": [
    "books[books['year_of_publication'], ]"
   ]
  },
  {
   "cell_type": "code",
   "execution_count": null,
   "id": "88fc23ec-c2ed-409e-91f2-3d89777b4bfb",
   "metadata": {},
   "outputs": [],
   "source": []
  },
  {
   "cell_type": "code",
   "execution_count": null,
   "id": "164d0e8d-3346-4bb7-81e7-47fbcad1504c",
   "metadata": {},
   "outputs": [],
   "source": []
  },
  {
   "cell_type": "code",
   "execution_count": 77,
   "id": "cd806246-c04b-4ecd-ad4a-9dd33ad3066f",
   "metadata": {
    "tags": []
   },
   "outputs": [
    {
     "data": {
      "text/plain": [
       "(1900.0, 2010.0)"
      ]
     },
     "execution_count": 77,
     "metadata": {},
     "output_type": "execute_result"
    },
    {
     "data": {
      "image/png": "[encoded data removed]",
      "text/plain": [
       "<Figure size 500x500 with 1 Axes>"
      ]
     },
     "metadata": {},
     "output_type": "display_data"
    }
   ],
   "source": [
    "sns.displot(books['year_of_publication'])\n",
    "plt.xlim(1900, 2010)"
   ]
  },
  {
   "cell_type": "code",
   "execution_count": 81,
   "id": "d134d36b-b173-455a-93e8-09c32dc380f1",
   "metadata": {},
   "outputs": [
    {
     "data": {
      "text/plain": [
       "(1900.0, 2010.0)"
      ]
     },
     "execution_count": 81,
     "metadata": {},
     "output_type": "execute_result"
    },
    {
     "data": {
      "image/png": "[encoded data removed]",
      "text/plain": [
       "<Figure size 640x480 with 1 Axes>"
      ]
     },
     "metadata": {},
     "output_type": "display_data"
    }
   ],
   "source": [
    "sns.violinplot(books['year_of_publication'])\n",
    "plt.ylim(1900, 2010)"
   ]
  },
  {
   "cell_type": "code",
   "execution_count": 83,
   "id": "fb1edec7-f578-443f-b653-c69e02b1882f",
   "metadata": {},
   "outputs": [
    {
     "data": {
      "text/plain": [
       "0.25    1991.0\n",
       "0.50    1996.0\n",
       "0.75    2000.0\n",
       "Name: year_of_publication, dtype: float64"
      ]
     },
     "execution_count": 83,
     "metadata": {},
     "output_type": "execute_result"
    }
   ],
   "source": [
    "books['year_of_publication'].quantile([0.25, 0.5, 0.75])"
   ]
  },
  {
   "cell_type": "code",
   "execution_count": 91,
   "id": "b892eaef-0c3e-4ea4-ab84-5e7c817616b0",
   "metadata": {},
   "outputs": [
    {
     "data": {
      "text/plain": [
       "7102"
      ]
     },
     "execution_count": 91,
     "metadata": {},
     "output_type": "execute_result"
    }
   ],
   "source": [
    "len(books[books['year_of_publication'] < 1980])"
   ]
  },
  {
   "cell_type": "code",
   "execution_count": 62,
   "id": "6fe78593-7adf-4e8a-bbc7-5890eb70a8ac",
   "metadata": {},
   "outputs": [],
   "source": [
    "books = books.drop('summary', axis=1) # summary 삭제"
   ]
  },
  {
   "cell_type": "code",
   "execution_count": 63,
   "id": "49a971c3-a529-49d3-b4d9-16b49653362b",
   "metadata": {},
   "outputs": [],
   "source": [
    "groupings = {'Fiction': ['fiction', 'ficti'], # 너무 넓으니 맨 위로 빼자\n",
    "             'Literature & Poem': ['liter', 'poem', 'poetry', 'novel', 'sonnet'],\n",
    "             'Science & Math': ['science', 'math', 'logy', 'chemis', 'physics', 'electron'], # science, logy 범위가 너무 넓으니 맨 위로\n",
    "             'Parenting & Relationships': ['baby', 'babies', 'parent', 'family', 'friend', 'tionship', 'brother', 'sister', 'families', 'friendship', 'mother', 'father'], # 좀 큼\n",
    "             'Medical Books': ['medi', 'psycho'], # psy의 세분화 가능\n",
    "             'Adventure' : ['adventu'],\n",
    "             'Animal & Nature': ['animal', 'ecolo', 'plant', 'nature', 'cat', 'dog', 'pets', 'bird', 'bear', 'horse', 'frog', 'duck', 'rabbit', 'dolphin', 'mice', 'deer',\n",
    "             'panda', 'kangaroo', 'lizzard', 'gorilla', 'chimpangee', 'bat', 'insect'],\n",
    "             'Arts & Photography': ['art', 'photo', 'drawing', 'picture'], # art는 겹치는 글자가 너무 많음\n",
    "             'Authors' : ['authors'],\n",
    "             'Biographies & Memoirs': ['biog', 'memo'],\n",
    "             'Business & Money': ['busi', 'money', 'econo', 'finance'],\n",
    "             'Calendars': ['calen'],\n",
    "             'Children\\'s Books': ['child', 'baby'],\n",
    "             'Christian Books & Bibles': ['christi', 'bible'], #크리스마스때매\n",
    "             'Christmas' : ['christma'],\n",
    "             'Comics & Graphic Novels': ['comics', 'graphic novel'],\n",
    "             'Computers & Technology': ['computer', 'techno', 'archi'],\n",
    "             'Cookbooks, Food & Wine': ['cook', 'wine', 'food'],\n",
    "             'Countries & Cities' : ['united states', 'russia', 'france', 'africa', 'china', 'japan', 'egypt', 'germany', 'ireland', 'california', 'berline', 'london', 'new york', 'canada',\n",
    "             'chile', 'italy', 'europe', 'australia', 'great britain', 'arizona', 'chicago', 'netherlands', 'calif', 'mexico', 'colombia', 'greece',\n",
    "             'florida', 'algeria', 'new zealand', 'austria', 'denmark', 'washington', 'india', 'england', 'brazil'],\n",
    "             'Crafts, Hobbies & Home': ['crafts', 'hobb', 'home', 'house', 'garden'],\n",
    "             'Crime & Murder' : ['crime', 'murder', 'criminal', 'homicide', 'mafia', 'gang', 'drug'],\n",
    "             'Critic' : ['critic'],\n",
    "             'Education & Teaching': ['educa', 'teach'],\n",
    "             'Drama' : ['drama'],\n",
    "             'Design' : ['design'],\n",
    "             'Engineering & Transportation': ['engine', 'transp'],\n",
    "             'Encyclopedia & Dictionary' : ['encyclo', 'dictiona', 'vocabulary'],\n",
    "             'Essay' : ['essay'],\n",
    "             'Health, Fitness & Dieting': ['health', 'fitness', 'diet'],\n",
    "             'History': ['histo', 'war'],\n",
    "             'Humor & Entertainment': ['humor', 'entertai', 'comed', 'game', 'comic'],\n",
    "             'Law': ['law'],\n",
    "             'Language' : ['language'],\n",
    "             'LGBTQ+ Books': ['lesbian', 'gay', 'bisex'],\n",
    "             'Mystery, Thriller & Suspense': ['myste', 'thril', 'suspen', 'horror', 'occult'],\n",
    "             'Music & Dance' : ['music', 'dance', 'instrument', 'ballet', 'classic'],\n",
    "             'Movie' : ['motion pictur', 'actor', 'actres', 'acting', 'cinema', 'theater', 'director', 'television'],\n",
    "             'Politics': ['politic', 'president'],\n",
    "             'Philosophy' : ['philoso'],\n",
    "             'Reference': ['reference'],\n",
    "             'Religion & Spirituality': ['religi', 'buddh', 'spirit', 'god', 'prayer', 'belief', 'doubt'],\n",
    "             'Romance': ['romance'],\n",
    "             'Science Fiction & Fantasy': ['imagin', 'science fiction', 'fantasy', 'fairy', 'fairies', 'vampire', 'epidemic', 'ghost', 'alien', 'supernatural', 'magic', 'dragons', 'elves', 'angel', 'devil'],\n",
    "             'Short story' : ['short'],\n",
    "             'Social Science' : ['social', 'ethic', 'communism', 'capitalism', 'generation', 'culture'],\n",
    "             'Self-Help': ['self'], # self 검색시 모두 자기계발 관련\n",
    "             'Study': ['test', 'school', 'examina', 'study aids', 'college'],\n",
    "             'Sports & Outdoors': ['exerc','sport','outdoor', 'baseball', 'soccer', 'hockey', 'cricket', 'basketball', 'footbal'],\n",
    "             'Teen & Young Adult': ['teen', 'adol', 'juven'], #nonfiction이란 말은 청소년 관련뿐\n",
    "             'Travel': ['travel'],\n",
    "             'Women' : ['women'],\n",
    "             }"
   ]
  },
  {
   "cell_type": "code",
   "execution_count": 64,
   "id": "a681b1e8-f4ad-4809-8511-b5e5930fbf70",
   "metadata": {},
   "outputs": [],
   "source": [
    "# 카테고리 작업\n",
    "books.loc[books[books['category'].notnull()].index, 'category'] = books[books['category'].notnull()]['category'].apply(lambda x: re.sub('[\\W_]+',' ',x).strip()) # 일단 category에서 대괄호 밖으로 빼기\n",
    "books['category'] = books['category'].str.lower() # 소문자로 바꾸기\n",
    "books['category_high'] = books['category'].copy() # category_high로 category를 복사\n",
    "books['category_high'] = books['category_high'].fillna('Unclassified') # 안 채워진 건 미분류 항목으로 넣기"
   ]
  },
  {
   "cell_type": "code",
   "execution_count": 65,
   "id": "b2ce4079-5a31-4be3-891c-5cb80a4e38be",
   "metadata": {},
   "outputs": [],
   "source": [
    "for new_group, small in groupings.items(): # 파편화된 카테고리를 새 그룹으로 묶어주기\n",
    "    for s in small:\n",
    "        books.loc[books[books['category'].str.contains(s, na = False)].index, 'category_high'] = new_group"
   ]
  },
  {
   "cell_type": "code",
   "execution_count": 66,
   "id": "e9bbab26-6f48-4212-8723-70bba44483ec",
   "metadata": {},
   "outputs": [],
   "source": [
    "books.loc[books[books['category'].str.contains('fiction', na = False)].index, 'category_fnf'] = 'Fiction'"
   ]
  },
  {
   "cell_type": "code",
   "execution_count": 67,
   "id": "ca0f9763-dac1-4504-9b8e-eec8b1ea3f3b",
   "metadata": {},
   "outputs": [],
   "source": [
    "books.loc[books[books['category'].str.contains('nonfiction', na = False)].index, 'category_fnf'] = 'Nonfiction'"
   ]
  },
  {
   "cell_type": "code",
   "execution_count": 69,
   "id": "a22afc6b-d08a-4555-bebf-692abc25bf75",
   "metadata": {},
   "outputs": [],
   "source": [
    "books['category_fnf'] = books['category_fnf'].fillna('Unclassified')"
   ]
  },
  {
   "cell_type": "code",
   "execution_count": 70,
   "id": "b27db989-30b4-4dd5-9539-062f9efbf151",
   "metadata": {},
   "outputs": [
    {
     "data": {
      "text/plain": [
       "Unclassified    108299\n",
       "Fiction          39844\n",
       "Nonfiction        1427\n",
       "Name: category_fnf, dtype: int64"
      ]
     },
     "execution_count": 70,
     "metadata": {},
     "output_type": "execute_result"
    }
   ],
   "source": [
    "books['category_fnf'].value_counts()"
   ]
  },
  {
   "cell_type": "code",
   "execution_count": null,
   "id": "7fac2c60-92e1-44a3-9622-c5de259e6bbb",
   "metadata": {},
   "outputs": [],
   "source": []
  },
  {
   "cell_type": "code",
   "execution_count": null,
   "id": "4b0e8915-6198-4a8d-910b-c9f60f92eacf",
   "metadata": {},
   "outputs": [],
   "source": []
  },
  {
   "cell_type": "code",
   "execution_count": null,
   "id": "c04e981e-5ecc-4354-9b81-a95d7ab12f8e",
   "metadata": {},
   "outputs": [],
   "source": []
  },
  {
   "cell_type": "code",
   "execution_count": null,
   "id": "82cd7588-74c0-425c-9bc6-d0785cc07c5d",
   "metadata": {},
   "outputs": [],
   "source": []
  },
  {
   "cell_type": "code",
   "execution_count": null,
   "id": "ee769e80-da1a-4560-bbd0-a98c5502d82a",
   "metadata": {},
   "outputs": [],
   "source": []
  },
  {
   "cell_type": "code",
   "execution_count": null,
   "id": "06d9b43d-6faf-466a-91d6-bd40c04a74cd",
   "metadata": {},
   "outputs": [],
   "source": []
  },
  {
   "cell_type": "code",
   "execution_count": null,
   "id": "269eb8d0-1c4a-463c-8719-27f4990b805a",
   "metadata": {},
   "outputs": [],
   "source": []
  },
  {
   "cell_type": "code",
   "execution_count": null,
   "id": "392bdb33-0262-4eb9-8fbe-4351f9e55aec",
   "metadata": {},
   "outputs": [],
   "source": []
  },
  {
   "cell_type": "code",
   "execution_count": null,
   "id": "424af49d-e06c-4b24-9688-e972966502e8",
   "metadata": {},
   "outputs": [],
   "source": []
  },
  {
   "cell_type": "code",
   "execution_count": null,
   "id": "f2b91094-3e6d-4b51-ac74-4a647378597d",
   "metadata": {},
   "outputs": [],
   "source": []
  }
 ],
 "metadata": {
  "kernelspec": {
   "display_name": "Python 3 (ipykernel)",
   "language": "python",
   "name": "python3"
  },
  "language_info": {
   "codemirror_mode": {
    "name": "ipython",
    "version": 3
   },
   "file_extension": ".py",
   "mimetype": "text/x-python",
   "name": "python",
   "nbconvert_exporter": "python",
   "pygments_lexer": "ipython3",
   "version": "3.8.5"
  }
 },
 "nbformat": 4,
 "nbformat_minor": 5
}
