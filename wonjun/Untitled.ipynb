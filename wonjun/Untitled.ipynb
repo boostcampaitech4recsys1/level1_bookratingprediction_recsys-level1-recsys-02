{
 "cells": [
  {
   "cell_type": "code",
   "execution_count": 2,
   "id": "30faec91-75ee-4e42-9895-e60ec82c5b72",
   "metadata": {},
   "outputs": [],
   "source": [
    "import pandas as pd"
   ]
  },
  {
   "cell_type": "code",
   "execution_count": 3,
   "id": "cffd0d46-493d-4945-adc2-2356d91b0e50",
   "metadata": {},
   "outputs": [],
   "source": [
    "userspp = pd.read_csv('userspp.csv')"
   ]
  },
  {
   "cell_type": "code",
   "execution_count": 6,
   "id": "fa24d099-b71e-4e37-b26d-7f31379fe182",
   "metadata": {},
   "outputs": [],
   "source": [
    "userspp = userspp.drop('age', axis = 1)"
   ]
  },
  {
   "cell_type": "code",
   "execution_count": 12,
   "id": "cf64680a-c0fe-4f6b-b47a-541bf565fe93",
   "metadata": {},
   "outputs": [
    {
     "data": {
      "text/html": [
       "<div>\n",
       "<style scoped>\n",
       "    .dataframe tbody tr th:only-of-type {\n",
       "        vertical-align: middle;\n",
       "    }\n",
       "\n",
       "    .dataframe tbody tr th {\n",
       "        vertical-align: top;\n",
       "    }\n",
       "\n",
       "    .dataframe thead th {\n",
       "        text-align: right;\n",
       "    }\n",
       "</style>\n",
       "<table border=\"1\" class=\"dataframe\">\n",
       "  <thead>\n",
       "    <tr style=\"text-align: right;\">\n",
       "      <th></th>\n",
       "      <th>user_id</th>\n",
       "      <th>location_country</th>\n",
       "    </tr>\n",
       "  </thead>\n",
       "  <tbody>\n",
       "    <tr>\n",
       "      <th>0</th>\n",
       "      <td>8</td>\n",
       "      <td>canada</td>\n",
       "    </tr>\n",
       "    <tr>\n",
       "      <th>1</th>\n",
       "      <td>11400</td>\n",
       "      <td>canada</td>\n",
       "    </tr>\n",
       "    <tr>\n",
       "      <th>2</th>\n",
       "      <td>11676</td>\n",
       "      <td>others</td>\n",
       "    </tr>\n",
       "    <tr>\n",
       "      <th>3</th>\n",
       "      <td>67544</td>\n",
       "      <td>canada</td>\n",
       "    </tr>\n",
       "    <tr>\n",
       "      <th>4</th>\n",
       "      <td>85526</td>\n",
       "      <td>canada</td>\n",
       "    </tr>\n",
       "    <tr>\n",
       "      <th>...</th>\n",
       "      <td>...</td>\n",
       "      <td>...</td>\n",
       "    </tr>\n",
       "    <tr>\n",
       "      <th>68087</th>\n",
       "      <td>278376</td>\n",
       "      <td>usa</td>\n",
       "    </tr>\n",
       "    <tr>\n",
       "      <th>68088</th>\n",
       "      <td>278621</td>\n",
       "      <td>canada</td>\n",
       "    </tr>\n",
       "    <tr>\n",
       "      <th>68089</th>\n",
       "      <td>278636</td>\n",
       "      <td>usa</td>\n",
       "    </tr>\n",
       "    <tr>\n",
       "      <th>68090</th>\n",
       "      <td>278659</td>\n",
       "      <td>canada</td>\n",
       "    </tr>\n",
       "    <tr>\n",
       "      <th>68091</th>\n",
       "      <td>278713</td>\n",
       "      <td>usa</td>\n",
       "    </tr>\n",
       "  </tbody>\n",
       "</table>\n",
       "<p>68092 rows × 2 columns</p>\n",
       "</div>"
      ],
      "text/plain": [
       "       user_id location_country\n",
       "0            8           canada\n",
       "1        11400           canada\n",
       "2        11676           others\n",
       "3        67544           canada\n",
       "4        85526           canada\n",
       "...        ...              ...\n",
       "68087   278376              usa\n",
       "68088   278621           canada\n",
       "68089   278636              usa\n",
       "68090   278659           canada\n",
       "68091   278713              usa\n",
       "\n",
       "[68092 rows x 2 columns]"
      ]
     },
     "execution_count": 12,
     "metadata": {},
     "output_type": "execute_result"
    }
   ],
   "source": [
    "userspp"
   ]
  },
  {
   "cell_type": "code",
   "execution_count": 7,
   "id": "2e7b9d5b-caa7-4847-b7f2-1a2f5eabe4fe",
   "metadata": {},
   "outputs": [],
   "source": [
    "userspp.to_csv('userspp2.csv', index = False)"
   ]
  },
  {
   "cell_type": "code",
   "execution_count": 8,
   "id": "cb01ee7f-b9b9-4aea-be8e-8bad317a7f01",
   "metadata": {},
   "outputs": [],
   "source": [
    "bookspp = pd.read_csv('./data/bookspp.csv')"
   ]
  },
  {
   "cell_type": "code",
   "execution_count": 11,
   "id": "8dd0d65b-9af1-42b6-84c4-d217d4e4d0c2",
   "metadata": {},
   "outputs": [
    {
     "data": {
      "text/plain": [
       "2    82749\n",
       "1    35910\n",
       "3    23809\n",
       "4     5636\n",
       "5     1466\n",
       "Name: year_of_publication, dtype: int64"
      ]
     },
     "execution_count": 11,
     "metadata": {},
     "output_type": "execute_result"
    }
   ],
   "source": [
    "bookspp['year_of_publication'].value_counts()"
   ]
  }
 ],
 "metadata": {
  "kernelspec": {
   "display_name": "Python 3 (ipykernel)",
   "language": "python",
   "name": "python3"
  },
  "language_info": {
   "codemirror_mode": {
    "name": "ipython",
    "version": 3
   },
   "file_extension": ".py",
   "mimetype": "text/x-python",
   "name": "python",
   "nbconvert_exporter": "python",
   "pygments_lexer": "ipython3",
   "version": "3.8.5"
  }
 },
 "nbformat": 4,
 "nbformat_minor": 5
}
