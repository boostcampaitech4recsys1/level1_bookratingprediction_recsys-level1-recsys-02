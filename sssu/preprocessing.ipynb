{
 "cells": [
  {
   "cell_type": "code",
   "execution_count": 1,
   "id": "4795eac4-a4e7-4b50-ae80-a11bef85db90",
   "metadata": {},
   "outputs": [
    {
     "name": "stdout",
     "output_type": "stream",
     "text": [
      "/opt/ml/input/code\n"
     ]
    }
   ],
   "source": [
    "!pwd"
   ]
  },
  {
   "cell_type": "code",
   "execution_count": 2,
   "id": "a3a15165-282f-4ddf-bf71-4c82479d1e6e",
   "metadata": {},
   "outputs": [],
   "source": [
    "# !pip install seaborn"
   ]
  },
  {
   "cell_type": "code",
   "execution_count": 3,
   "id": "5993dacd-86ae-4ff0-909b-a730b9860169",
   "metadata": {},
   "outputs": [],
   "source": [
    "import pandas as pd\n",
    "import numpy as np\n",
    "import re\n",
    "import seaborn as sns\n",
    "import matplotlib.pyplot as plt\n",
    "import scipy.stats as ss\n",
    "# from autocorrect import Speller\n",
    "# import nltk\n",
    "# nltk.download('punkt') => 이거까진 필요없어"
   ]
  },
  {
   "cell_type": "code",
   "execution_count": 61,
   "id": "95d4e828-fafc-42ad-b163-6f26e3dc68d7",
   "metadata": {},
   "outputs": [],
   "source": [
    "users_origin = pd.read_csv('./data/users.csv')\n",
    "books_origin = pd.read_csv(\"./data/books.csv\", encoding='utf-8')\n",
    "ratings_origin = pd.read_csv('./data/train_ratings.csv')\n",
    "test_origin = pd.read_csv('./data/test_ratings.csv')"
   ]
  },
  {
   "cell_type": "code",
   "execution_count": 4,
   "id": "5af69fb0-207f-4d27-b81c-aeda77323ec7",
   "metadata": {},
   "outputs": [],
   "source": [
    "users = pd.read_csv('./data/users.csv')\n",
    "books = pd.read_csv(\"./data/books.csv\", encoding='utf-8')\n",
    "ratings = pd.read_csv('./data/train_ratings.csv')\n",
    "test = pd.read_csv('./data/test_ratings.csv')"
   ]
  },
  {
   "cell_type": "code",
   "execution_count": 5,
   "id": "33cc806b-c165-4bea-8ee8-8a1e05efa46d",
   "metadata": {},
   "outputs": [],
   "source": [
    "def text_preprocessing_func(text : str ) -> str :\n",
    "    \"\"\"\n",
    "    깨진 문자를 변환하는 함수\n",
    "    \"\"\"\n",
    "    text = text.replace('Ã?Â©','e') # 원래는 é인데 걍 e로 메움\n",
    "    text = text.replace('Ã©', 'e')\n",
    "    text = text.replace('Ã?Â?','e') # 원래는 é인데 걍 e로 메움\n",
    "    text = text.lower()\n",
    "    return text"
   ]
  },
  {
   "cell_type": "code",
   "execution_count": 6,
   "id": "837c4171-b2b4-4b3d-9d8c-0e110c032e8e",
   "metadata": {},
   "outputs": [
    {
     "data": {
      "text/html": [
       "<div>\n",
       "<style scoped>\n",
       "    .dataframe tbody tr th:only-of-type {\n",
       "        vertical-align: middle;\n",
       "    }\n",
       "\n",
       "    .dataframe tbody tr th {\n",
       "        vertical-align: top;\n",
       "    }\n",
       "\n",
       "    .dataframe thead th {\n",
       "        text-align: right;\n",
       "    }\n",
       "</style>\n",
       "<table border=\"1\" class=\"dataframe\">\n",
       "  <thead>\n",
       "    <tr style=\"text-align: right;\">\n",
       "      <th></th>\n",
       "      <th>user_id</th>\n",
       "      <th>location</th>\n",
       "      <th>age</th>\n",
       "    </tr>\n",
       "  </thead>\n",
       "  <tbody>\n",
       "    <tr>\n",
       "      <th>0</th>\n",
       "      <td>8</td>\n",
       "      <td>timmins, ontario, canada</td>\n",
       "      <td>NaN</td>\n",
       "    </tr>\n",
       "    <tr>\n",
       "      <th>1</th>\n",
       "      <td>11400</td>\n",
       "      <td>ottawa, ontario, canada</td>\n",
       "      <td>49.0</td>\n",
       "    </tr>\n",
       "    <tr>\n",
       "      <th>2</th>\n",
       "      <td>11676</td>\n",
       "      <td>n/a, n/a, n/a</td>\n",
       "      <td>NaN</td>\n",
       "    </tr>\n",
       "    <tr>\n",
       "      <th>3</th>\n",
       "      <td>67544</td>\n",
       "      <td>toronto, ontario, canada</td>\n",
       "      <td>30.0</td>\n",
       "    </tr>\n",
       "    <tr>\n",
       "      <th>4</th>\n",
       "      <td>85526</td>\n",
       "      <td>victoria, british columbia, canada</td>\n",
       "      <td>36.0</td>\n",
       "    </tr>\n",
       "    <tr>\n",
       "      <th>...</th>\n",
       "      <td>...</td>\n",
       "      <td>...</td>\n",
       "      <td>...</td>\n",
       "    </tr>\n",
       "    <tr>\n",
       "      <th>68087</th>\n",
       "      <td>278376</td>\n",
       "      <td>danville, pennsylvania, usa</td>\n",
       "      <td>54.0</td>\n",
       "    </tr>\n",
       "    <tr>\n",
       "      <th>68088</th>\n",
       "      <td>278621</td>\n",
       "      <td>victoria, delaware, canada</td>\n",
       "      <td>74.0</td>\n",
       "    </tr>\n",
       "    <tr>\n",
       "      <th>68089</th>\n",
       "      <td>278636</td>\n",
       "      <td>irvington, alabama, usa</td>\n",
       "      <td>NaN</td>\n",
       "    </tr>\n",
       "    <tr>\n",
       "      <th>68090</th>\n",
       "      <td>278659</td>\n",
       "      <td>vancouver, washington, usa</td>\n",
       "      <td>33.0</td>\n",
       "    </tr>\n",
       "    <tr>\n",
       "      <th>68091</th>\n",
       "      <td>278713</td>\n",
       "      <td>albuquerque, new mexico, usa</td>\n",
       "      <td>63.0</td>\n",
       "    </tr>\n",
       "  </tbody>\n",
       "</table>\n",
       "<p>68092 rows × 3 columns</p>\n",
       "</div>"
      ],
      "text/plain": [
       "       user_id                            location   age\n",
       "0            8            timmins, ontario, canada   NaN\n",
       "1        11400             ottawa, ontario, canada  49.0\n",
       "2        11676                       n/a, n/a, n/a   NaN\n",
       "3        67544            toronto, ontario, canada  30.0\n",
       "4        85526  victoria, british columbia, canada  36.0\n",
       "...        ...                                 ...   ...\n",
       "68087   278376         danville, pennsylvania, usa  54.0\n",
       "68088   278621          victoria, delaware, canada  74.0\n",
       "68089   278636             irvington, alabama, usa   NaN\n",
       "68090   278659          vancouver, washington, usa  33.0\n",
       "68091   278713        albuquerque, new mexico, usa  63.0\n",
       "\n",
       "[68092 rows x 3 columns]"
      ]
     },
     "execution_count": 6,
     "metadata": {},
     "output_type": "execute_result"
    }
   ],
   "source": [
    "users"
   ]
  },
  {
   "cell_type": "markdown",
   "id": "0d2ebd7f-cbc0-42f0-939f-caadbb29973e",
   "metadata": {},
   "source": [
    "# USERS\n",
    "- AGE column은 삭제합니다"
   ]
  },
  {
   "cell_type": "code",
   "execution_count": 7,
   "id": "3ca9916c-5e9a-41ac-a016-c093a923c0fa",
   "metadata": {},
   "outputs": [
    {
     "data": {
      "text/plain": [
       "68092"
      ]
     },
     "execution_count": 7,
     "metadata": {},
     "output_type": "execute_result"
    }
   ],
   "source": [
    "users['user_id'].nunique()"
   ]
  },
  {
   "cell_type": "markdown",
   "id": "e95ea497-f602-4a3a-a80f-04d38f583af1",
   "metadata": {},
   "source": [
    "#### AGE COLUMN 삭제"
   ]
  },
  {
   "cell_type": "code",
   "execution_count": 8,
   "id": "75524bc8-bff7-4bae-9798-2fcc27d263dc",
   "metadata": {},
   "outputs": [
    {
     "data": {
      "text/plain": [
       "user_id         0\n",
       "location        0\n",
       "age         27833\n",
       "dtype: int64"
      ]
     },
     "execution_count": 8,
     "metadata": {},
     "output_type": "execute_result"
    }
   ],
   "source": [
    "users.isna().sum()"
   ]
  },
  {
   "cell_type": "code",
   "execution_count": 9,
   "id": "8932749f-a9f3-4158-b7f4-33bc3c0e6254",
   "metadata": {},
   "outputs": [],
   "source": [
    "users = users.drop('age', axis=1)"
   ]
  },
  {
   "cell_type": "markdown",
   "id": "85844388-270d-429e-b51f-37889106d464",
   "metadata": {},
   "source": [
    "## LOCATION\n",
    "- location state, city, country 가 na인 row들 날려줌\n",
    "- location country 이상한 애들 직접 확인해서 수정\n",
    "- location, location city column 삭제\n",
    "- location state는 원하는대로 결정하기"
   ]
  },
  {
   "cell_type": "code",
   "execution_count": 10,
   "id": "e3fea8f9-94ba-403d-bf27-9883ea516b51",
   "metadata": {},
   "outputs": [
    {
     "name": "stderr",
     "output_type": "stream",
     "text": [
      "/tmp/ipykernel_17913/1343807041.py:3: FutureWarning: The default value of regex will change from True to False in a future version.\n",
      "  users['location'] = users['location'].str.replace(r'[^0-9a-zA-Z:,]', '') # 특수문자 제거\n"
     ]
    }
   ],
   "source": [
    "# USERS에서 location을 location country, city, state로 나눠줌\n",
    "\n",
    "users['location'] = users['location'].str.replace(r'[^0-9a-zA-Z:,]', '') # 특수문자 제거\n",
    "\n",
    "users['location_city'] = users['location'].apply(lambda x: x.split(',')[0].strip())\n",
    "users['location_state'] = users['location'].apply(lambda x: x.split(',')[1].strip())\n",
    "users['location_country'] = users['location'].apply(lambda x: x.split(',')[2].strip())\n",
    "\n",
    "users = users.replace('na', np.nan) #특수문자 제거로 n/a가 na로 바뀌게 되었습니다. 따라서 이를 컴퓨터가 인식할 수 있는 결측값으로 변환합니다.\n",
    "users = users.replace('', np.nan) # 일부 경우 , , ,으로 입력된 경우가 있었으므로 이런 경우에도 결측값으로 변환합니다.\n",
    "\n",
    "modify_location = users[(users['location_country'].isna())&(users['location_city'].notnull())]['location_city'].values\n",
    "location = users[(users['location'].str.contains('seattle'))&(users['location_country'].notnull())]['location'].value_counts().index[0]\n",
    "\n",
    "location_list = []\n",
    "for location in modify_location:\n",
    "    try:\n",
    "        right_location = users[(users['location'].str.contains(location))&(users['location_country'].notnull())]['location'].value_counts().index[0]\n",
    "        location_list.append(right_location)\n",
    "    except:\n",
    "        pass\n",
    "    \n",
    "for location in location_list:\n",
    "    users.loc[users[users['location_city']==location.split(',')[0]].index,'location_state'] = location.split(',')[1]\n",
    "    users.loc[users[users['location_city']==location.split(',')[0]].index,'location_country'] = location.split(',')[2]"
   ]
  },
  {
   "cell_type": "code",
   "execution_count": 11,
   "id": "1317f7d7-c898-4946-8092-5db02a9f04de",
   "metadata": {},
   "outputs": [
    {
     "data": {
      "text/plain": [
       "user_id                0\n",
       "location               0\n",
       "location_city        122\n",
       "location_state      1132\n",
       "location_country     271\n",
       "dtype: int64"
      ]
     },
     "execution_count": 11,
     "metadata": {},
     "output_type": "execute_result"
    }
   ],
   "source": [
    "users.isna().sum()"
   ]
  },
  {
   "cell_type": "markdown",
   "id": "53bf2cd1-b2a1-47bb-8f03-7e5049b5dd60",
   "metadata": {},
   "source": [
    "#### location state, city, country가 na인 애들 날려줌 (왜냐! 몇개없음)"
   ]
  },
  {
   "cell_type": "code",
   "execution_count": 12,
   "id": "2573af9f-00b6-4c37-b472-9f8a99eca462",
   "metadata": {},
   "outputs": [],
   "source": [
    "users = users.dropna(subset=['location_state', 'location_city', 'location_country']).reset_index(drop=True)"
   ]
  },
  {
   "cell_type": "markdown",
   "id": "61e54b74-fee4-4ff0-9bf1-3b4db641bba3",
   "metadata": {},
   "source": [
    "#### locationcolumn도 날려줌 (분리했으니까)"
   ]
  },
  {
   "cell_type": "code",
   "execution_count": 13,
   "id": "5b5ce431-ddea-4836-b277-496b09352ec5",
   "metadata": {},
   "outputs": [],
   "source": [
    "users = users.drop('location', axis=1)"
   ]
  },
  {
   "cell_type": "markdown",
   "id": "7b0a951e-3ee2-424a-a0cb-091f590d7871",
   "metadata": {},
   "source": [
    "### location country에서 이상한 애들 확인"
   ]
  },
  {
   "cell_type": "code",
   "execution_count": 14,
   "id": "4928462f-3e47-4166-9bc7-6c4b66caa8b1",
   "metadata": {},
   "outputs": [
    {
     "data": {
      "text/plain": [
       "1"
      ]
     },
     "execution_count": 14,
     "metadata": {},
     "output_type": "execute_result"
    }
   ],
   "source": [
    "min(users['location_country'].apply(len))"
   ]
  },
  {
   "cell_type": "markdown",
   "id": "b0167d0d-ba61-43da-9ccb-3fdc8f5359ce",
   "metadata": {},
   "source": [
    "#### location_country가 이상한 애들은 직접 수정해드렸습니다^^"
   ]
  },
  {
   "cell_type": "code",
   "execution_count": 15,
   "id": "5d25c739-b113-492b-8085-baa3de54bbff",
   "metadata": {},
   "outputs": [
    {
     "data": {
      "text/html": [
       "<div>\n",
       "<style scoped>\n",
       "    .dataframe tbody tr th:only-of-type {\n",
       "        vertical-align: middle;\n",
       "    }\n",
       "\n",
       "    .dataframe tbody tr th {\n",
       "        vertical-align: top;\n",
       "    }\n",
       "\n",
       "    .dataframe thead th {\n",
       "        text-align: right;\n",
       "    }\n",
       "</style>\n",
       "<table border=\"1\" class=\"dataframe\">\n",
       "  <thead>\n",
       "    <tr style=\"text-align: right;\">\n",
       "      <th></th>\n",
       "      <th>user_id</th>\n",
       "      <th>location_city</th>\n",
       "      <th>location_state</th>\n",
       "      <th>location_country</th>\n",
       "    </tr>\n",
       "  </thead>\n",
       "  <tbody>\n",
       "    <tr>\n",
       "      <th>44506</th>\n",
       "      <td>41195</td>\n",
       "      <td>c</td>\n",
       "      <td>c</td>\n",
       "      <td>c</td>\n",
       "    </tr>\n",
       "  </tbody>\n",
       "</table>\n",
       "</div>"
      ],
      "text/plain": [
       "       user_id location_city location_state location_country\n",
       "44506    41195             c              c                c"
      ]
     },
     "execution_count": 15,
     "metadata": {},
     "output_type": "execute_result"
    }
   ],
   "source": [
    "users[users['location_country'].apply(len)==1]"
   ]
  },
  {
   "cell_type": "code",
   "execution_count": 16,
   "id": "a212f566-9b60-4536-aabe-6afa42107ce2",
   "metadata": {},
   "outputs": [
    {
     "data": {
      "text/html": [
       "<div>\n",
       "<style scoped>\n",
       "    .dataframe tbody tr th:only-of-type {\n",
       "        vertical-align: middle;\n",
       "    }\n",
       "\n",
       "    .dataframe tbody tr th {\n",
       "        vertical-align: top;\n",
       "    }\n",
       "\n",
       "    .dataframe thead th {\n",
       "        text-align: right;\n",
       "    }\n",
       "</style>\n",
       "<table border=\"1\" class=\"dataframe\">\n",
       "  <thead>\n",
       "    <tr style=\"text-align: right;\">\n",
       "      <th></th>\n",
       "      <th>user_id</th>\n",
       "      <th>location_city</th>\n",
       "      <th>location_state</th>\n",
       "      <th>location_country</th>\n",
       "    </tr>\n",
       "  </thead>\n",
       "  <tbody>\n",
       "  </tbody>\n",
       "</table>\n",
       "</div>"
      ],
      "text/plain": [
       "Empty DataFrame\n",
       "Columns: [user_id, location_city, location_state, location_country]\n",
       "Index: []"
      ]
     },
     "execution_count": 16,
     "metadata": {},
     "output_type": "execute_result"
    }
   ],
   "source": [
    "# 너무 더러운데.. 어쩌지\n",
    "users[users['location_country']=='']"
   ]
  },
  {
   "cell_type": "code",
   "execution_count": 17,
   "id": "fbe9eeac-a145-4df5-8104-1da3bdebd88d",
   "metadata": {},
   "outputs": [],
   "source": [
    "country_fix_dict = {'usa': {'oklahoma','districtofcolumbia', 'connecticut', 'worcester', 'aroostook', 'texas',  'kern', 'orangeco', 'unitedstatesofamerica', 'fortbend', 'alachua', 'massachusetts', 'arizona', 'austin', 'hawaii', 'ohio', 'camden', 'arkansas', 'minnesota', 'losestadosunidosdenorteamerica', 'us', 'usanow', 'northcarolina', 'maine', 'colorado','oklahoma', 'alabama', 'anystate', 'districtofcolumbia', 'unitedstaes', 'pender', 'newhampshire', 'unitedstates', 'missouri', 'idaho', 'ca', 'newyork','tennessee', 'stthomasi', 'dc', 'washington', 'illinois', 'california', 'michigan', 'iowa', 'maryland', 'newjersey', 'vanwert', 'oregon'},\n",
    "                    'uk': {'alderney', 'wales',  'aberdeenshire', 'bermuda', 'nottinghamshire', 'scotland', 'usacurrentlylivinginengland', 'england', 'countycork', 'alderney', 'cambridgeshire', 'middlesex', 'northyorkshire', 'westyorkshire', 'cocarlow', 'sthelena'},\n",
    "                    'japan': {'okinawa'},\n",
    "                    'southkorea': {'seoul'},\n",
    "                    'canada': {'ontario', 'alberta', 'novascotia', 'newfoundland', 'newbrunswick', 'britishcolumbia'},\n",
    "                    'miyanma': {'burma'},\n",
    "                    'newzealand': {'auckland', 'nz', 'otago'},\n",
    "                    'spain': {'andalucia','pontevedra', 'gipuzkoa', 'lleida', 'catalunyaspain', 'galiza', 'espaa'},\n",
    "                    'germany': {'niedersachsen', 'deutschland'},\n",
    "                    'brazil': {'disritofederal'},\n",
    "                    'switzerland': {'lasuisse'},\n",
    "                    'italy': {'veneziagiulia', 'ferrara', 'italia'},\n",
    "                    'australia': {'nsw', 'queensland', 'newsouthwales'},\n",
    "                    'belgium': {'labelgique', 'bergued'},\n",
    "                    'uruguay': {'urugua'},\n",
    "                    'panama': {'republicofpanama'}\n",
    "                   }\n",
    "country_del_list = ['c', 'space', 'universe', 'unknown', 'quit', 'tdzimi', 'universe', 'tn', 'unknown', 'space', 'c', 'franciscomorazan', 'petrolwarnation', 'ineurope', 'hereandthere', 'faraway']"
   ]
  },
  {
   "cell_type": "code",
   "execution_count": 18,
   "id": "41b707d6-3028-4694-a574-6438df3cff09",
   "metadata": {},
   "outputs": [
    {
     "data": {
      "text/html": [
       "<div>\n",
       "<style scoped>\n",
       "    .dataframe tbody tr th:only-of-type {\n",
       "        vertical-align: middle;\n",
       "    }\n",
       "\n",
       "    .dataframe tbody tr th {\n",
       "        vertical-align: top;\n",
       "    }\n",
       "\n",
       "    .dataframe thead th {\n",
       "        text-align: right;\n",
       "    }\n",
       "</style>\n",
       "<table border=\"1\" class=\"dataframe\">\n",
       "  <thead>\n",
       "    <tr style=\"text-align: right;\">\n",
       "      <th></th>\n",
       "      <th>user_id</th>\n",
       "      <th>location_city</th>\n",
       "      <th>location_state</th>\n",
       "      <th>location_country</th>\n",
       "    </tr>\n",
       "  </thead>\n",
       "  <tbody>\n",
       "    <tr>\n",
       "      <th>0</th>\n",
       "      <td>8</td>\n",
       "      <td>timmins</td>\n",
       "      <td>ontario</td>\n",
       "      <td>canada</td>\n",
       "    </tr>\n",
       "    <tr>\n",
       "      <th>1</th>\n",
       "      <td>11400</td>\n",
       "      <td>ottawa</td>\n",
       "      <td>ontario</td>\n",
       "      <td>canada</td>\n",
       "    </tr>\n",
       "    <tr>\n",
       "      <th>2</th>\n",
       "      <td>67544</td>\n",
       "      <td>toronto</td>\n",
       "      <td>ontario</td>\n",
       "      <td>canada</td>\n",
       "    </tr>\n",
       "    <tr>\n",
       "      <th>3</th>\n",
       "      <td>85526</td>\n",
       "      <td>victoria</td>\n",
       "      <td>britishcolumbia</td>\n",
       "      <td>canada</td>\n",
       "    </tr>\n",
       "    <tr>\n",
       "      <th>4</th>\n",
       "      <td>96054</td>\n",
       "      <td>ottawa</td>\n",
       "      <td>ontario</td>\n",
       "      <td>canada</td>\n",
       "    </tr>\n",
       "    <tr>\n",
       "      <th>...</th>\n",
       "      <td>...</td>\n",
       "      <td>...</td>\n",
       "      <td>...</td>\n",
       "      <td>...</td>\n",
       "    </tr>\n",
       "    <tr>\n",
       "      <th>66798</th>\n",
       "      <td>278376</td>\n",
       "      <td>danville</td>\n",
       "      <td>california</td>\n",
       "      <td>usa</td>\n",
       "    </tr>\n",
       "    <tr>\n",
       "      <th>66799</th>\n",
       "      <td>278621</td>\n",
       "      <td>victoria</td>\n",
       "      <td>delaware</td>\n",
       "      <td>canada</td>\n",
       "    </tr>\n",
       "    <tr>\n",
       "      <th>66800</th>\n",
       "      <td>278636</td>\n",
       "      <td>irvington</td>\n",
       "      <td>alabama</td>\n",
       "      <td>usa</td>\n",
       "    </tr>\n",
       "    <tr>\n",
       "      <th>66801</th>\n",
       "      <td>278659</td>\n",
       "      <td>vancouver</td>\n",
       "      <td>britishcolumbia</td>\n",
       "      <td>canada</td>\n",
       "    </tr>\n",
       "    <tr>\n",
       "      <th>66802</th>\n",
       "      <td>278713</td>\n",
       "      <td>albuquerque</td>\n",
       "      <td>newmexico</td>\n",
       "      <td>usa</td>\n",
       "    </tr>\n",
       "  </tbody>\n",
       "</table>\n",
       "<p>66803 rows × 4 columns</p>\n",
       "</div>"
      ],
      "text/plain": [
       "       user_id location_city   location_state location_country\n",
       "0            8       timmins          ontario           canada\n",
       "1        11400        ottawa          ontario           canada\n",
       "2        67544       toronto          ontario           canada\n",
       "3        85526      victoria  britishcolumbia           canada\n",
       "4        96054        ottawa          ontario           canada\n",
       "...        ...           ...              ...              ...\n",
       "66798   278376      danville       california              usa\n",
       "66799   278621      victoria         delaware           canada\n",
       "66800   278636     irvington          alabama              usa\n",
       "66801   278659     vancouver  britishcolumbia           canada\n",
       "66802   278713   albuquerque        newmexico              usa\n",
       "\n",
       "[66803 rows x 4 columns]"
      ]
     },
     "execution_count": 18,
     "metadata": {},
     "output_type": "execute_result"
    }
   ],
   "source": [
    "users"
   ]
  },
  {
   "cell_type": "code",
   "execution_count": 19,
   "id": "d438cd33-0bab-4dd6-8221-d9f1e00bae1b",
   "metadata": {},
   "outputs": [],
   "source": [
    "del_idx = []\n",
    "for idx, row in enumerate(users['location_country']):\n",
    "    for key, value in country_fix_dict.items():\n",
    "        if row in value:\n",
    "            users.at[idx, 'location_country'] = key\n",
    "    if row in country_del_list:\n",
    "        del_idx.append(idx)"
   ]
  },
  {
   "cell_type": "code",
   "execution_count": 20,
   "id": "cb576115-c152-4368-953e-643d08c98f53",
   "metadata": {},
   "outputs": [],
   "source": [
    "users = users.drop(del_idx, axis=0).reset_index(drop=True)"
   ]
  },
  {
   "cell_type": "markdown",
   "id": "ba6110b8-9218-4583-86be-ce7eef9a8a2c",
   "metadata": {},
   "source": [
    "#### location_state 맛만 보겠습니다"
   ]
  },
  {
   "cell_type": "code",
   "execution_count": 21,
   "id": "9dbe4b49-3fd7-4da4-92f4-f63a226849b7",
   "metadata": {},
   "outputs": [
    {
     "data": {
      "text/plain": [
       "california         6873\n",
       "ontario            2504\n",
       "texas              2504\n",
       "newyork            2398\n",
       "england            2230\n",
       "                   ... \n",
       "grancanaria           1\n",
       "vallsoccidental       1\n",
       "soria                 1\n",
       "galway                1\n",
       "ccp                   1\n",
       "Name: location_state, Length: 1298, dtype: int64"
      ]
     },
     "execution_count": 21,
     "metadata": {},
     "output_type": "execute_result"
    }
   ],
   "source": [
    "users['location_state'].value_counts()"
   ]
  },
  {
   "cell_type": "markdown",
   "id": "02f2d553-8f91-43c3-b301-400c6be9e80b",
   "metadata": {},
   "source": [
    "#### location_city 날립니다\n",
    "- location_state를 날리고 싶다면 알아서 하세요"
   ]
  },
  {
   "cell_type": "code",
   "execution_count": 22,
   "id": "08373b6b-845f-4bac-85e5-e8f48a333ac2",
   "metadata": {},
   "outputs": [],
   "source": [
    "# 날릴까 말까 => state를 날리고 싶다면 주석 푸세요\n",
    "# users = users.drop('location_state', axis=1)\n",
    "users = users.drop('location_city', axis=1)"
   ]
  },
  {
   "cell_type": "code",
   "execution_count": 23,
   "id": "6ead51fb-0908-4ada-b2e1-bcde518d95b7",
   "metadata": {},
   "outputs": [
    {
     "data": {
      "text/html": [
       "<div>\n",
       "<style scoped>\n",
       "    .dataframe tbody tr th:only-of-type {\n",
       "        vertical-align: middle;\n",
       "    }\n",
       "\n",
       "    .dataframe tbody tr th {\n",
       "        vertical-align: top;\n",
       "    }\n",
       "\n",
       "    .dataframe thead th {\n",
       "        text-align: right;\n",
       "    }\n",
       "</style>\n",
       "<table border=\"1\" class=\"dataframe\">\n",
       "  <thead>\n",
       "    <tr style=\"text-align: right;\">\n",
       "      <th></th>\n",
       "      <th>user_id</th>\n",
       "      <th>location_state</th>\n",
       "      <th>location_country</th>\n",
       "    </tr>\n",
       "  </thead>\n",
       "  <tbody>\n",
       "    <tr>\n",
       "      <th>0</th>\n",
       "      <td>8</td>\n",
       "      <td>ontario</td>\n",
       "      <td>canada</td>\n",
       "    </tr>\n",
       "    <tr>\n",
       "      <th>1</th>\n",
       "      <td>11400</td>\n",
       "      <td>ontario</td>\n",
       "      <td>canada</td>\n",
       "    </tr>\n",
       "    <tr>\n",
       "      <th>2</th>\n",
       "      <td>67544</td>\n",
       "      <td>ontario</td>\n",
       "      <td>canada</td>\n",
       "    </tr>\n",
       "    <tr>\n",
       "      <th>3</th>\n",
       "      <td>85526</td>\n",
       "      <td>britishcolumbia</td>\n",
       "      <td>canada</td>\n",
       "    </tr>\n",
       "    <tr>\n",
       "      <th>4</th>\n",
       "      <td>96054</td>\n",
       "      <td>ontario</td>\n",
       "      <td>canada</td>\n",
       "    </tr>\n",
       "    <tr>\n",
       "      <th>...</th>\n",
       "      <td>...</td>\n",
       "      <td>...</td>\n",
       "      <td>...</td>\n",
       "    </tr>\n",
       "    <tr>\n",
       "      <th>66785</th>\n",
       "      <td>278376</td>\n",
       "      <td>california</td>\n",
       "      <td>usa</td>\n",
       "    </tr>\n",
       "    <tr>\n",
       "      <th>66786</th>\n",
       "      <td>278621</td>\n",
       "      <td>delaware</td>\n",
       "      <td>canada</td>\n",
       "    </tr>\n",
       "    <tr>\n",
       "      <th>66787</th>\n",
       "      <td>278636</td>\n",
       "      <td>alabama</td>\n",
       "      <td>usa</td>\n",
       "    </tr>\n",
       "    <tr>\n",
       "      <th>66788</th>\n",
       "      <td>278659</td>\n",
       "      <td>britishcolumbia</td>\n",
       "      <td>canada</td>\n",
       "    </tr>\n",
       "    <tr>\n",
       "      <th>66789</th>\n",
       "      <td>278713</td>\n",
       "      <td>newmexico</td>\n",
       "      <td>usa</td>\n",
       "    </tr>\n",
       "  </tbody>\n",
       "</table>\n",
       "<p>66790 rows × 3 columns</p>\n",
       "</div>"
      ],
      "text/plain": [
       "       user_id   location_state location_country\n",
       "0            8          ontario           canada\n",
       "1        11400          ontario           canada\n",
       "2        67544          ontario           canada\n",
       "3        85526  britishcolumbia           canada\n",
       "4        96054          ontario           canada\n",
       "...        ...              ...              ...\n",
       "66785   278376       california              usa\n",
       "66786   278621         delaware           canada\n",
       "66787   278636          alabama              usa\n",
       "66788   278659  britishcolumbia           canada\n",
       "66789   278713        newmexico              usa\n",
       "\n",
       "[66790 rows x 3 columns]"
      ]
     },
     "execution_count": 23,
     "metadata": {},
     "output_type": "execute_result"
    }
   ],
   "source": [
    "users"
   ]
  },
  {
   "cell_type": "markdown",
   "id": "20f338bc-abc4-40ec-a150-5afe952cd645",
   "metadata": {},
   "source": [
    "# BOOKS\n",
    "- summary : 날리자! 사유는 언어가 다 다른데 이거 모델에 넣고 돌리기 too much 노동 크롤링 하면 안 되니까 할 수 없다..가 의견입니다.\n",
    "- year_of_publication : float -> int\n",
    "- category : 보류\n",
    "- language : isbn 코드로 채워주자\n",
    "  https://en.wikipedia.org/wiki/List_of_ISBN_registration_groups"
   ]
  },
  {
   "cell_type": "code",
   "execution_count": 24,
   "id": "62379952-b751-4c46-933d-11d123e4fd65",
   "metadata": {},
   "outputs": [],
   "source": [
    "# float이라서 int로 바꿔줌\n",
    "books['year_of_publication'] = books['year_of_publication'].astype(int)"
   ]
  },
  {
   "cell_type": "markdown",
   "id": "83678b86-c847-48ba-92d6-1996150106ba",
   "metadata": {},
   "source": [
    "## Summary 삭제"
   ]
  },
  {
   "cell_type": "code",
   "execution_count": 25,
   "id": "7dca8f16-a671-4140-9b9c-d3e5cda07e48",
   "metadata": {},
   "outputs": [
    {
     "data": {
      "text/html": [
       "<div>\n",
       "<style scoped>\n",
       "    .dataframe tbody tr th:only-of-type {\n",
       "        vertical-align: middle;\n",
       "    }\n",
       "\n",
       "    .dataframe tbody tr th {\n",
       "        vertical-align: top;\n",
       "    }\n",
       "\n",
       "    .dataframe thead th {\n",
       "        text-align: right;\n",
       "    }\n",
       "</style>\n",
       "<table border=\"1\" class=\"dataframe\">\n",
       "  <thead>\n",
       "    <tr style=\"text-align: right;\">\n",
       "      <th></th>\n",
       "      <th>isbn</th>\n",
       "      <th>book_title</th>\n",
       "      <th>book_author</th>\n",
       "      <th>year_of_publication</th>\n",
       "      <th>publisher</th>\n",
       "      <th>img_url</th>\n",
       "      <th>language</th>\n",
       "      <th>category</th>\n",
       "      <th>img_path</th>\n",
       "    </tr>\n",
       "  </thead>\n",
       "  <tbody>\n",
       "    <tr>\n",
       "      <th>0</th>\n",
       "      <td>0002005018</td>\n",
       "      <td>Clara Callan</td>\n",
       "      <td>Richard Bruce Wright</td>\n",
       "      <td>2001</td>\n",
       "      <td>HarperFlamingo Canada</td>\n",
       "      <td>http://images.amazon.com/images/P/0002005018.0...</td>\n",
       "      <td>en</td>\n",
       "      <td>['Actresses']</td>\n",
       "      <td>images/0002005018.01.THUMBZZZ.jpg</td>\n",
       "    </tr>\n",
       "    <tr>\n",
       "      <th>1</th>\n",
       "      <td>0060973129</td>\n",
       "      <td>Decision in Normandy</td>\n",
       "      <td>Carlo D'Este</td>\n",
       "      <td>1991</td>\n",
       "      <td>HarperPerennial</td>\n",
       "      <td>http://images.amazon.com/images/P/0060973129.0...</td>\n",
       "      <td>en</td>\n",
       "      <td>['1940-1949']</td>\n",
       "      <td>images/0060973129.01.THUMBZZZ.jpg</td>\n",
       "    </tr>\n",
       "    <tr>\n",
       "      <th>2</th>\n",
       "      <td>0374157065</td>\n",
       "      <td>Flu: The Story of the Great Influenza Pandemic...</td>\n",
       "      <td>Gina Bari Kolata</td>\n",
       "      <td>1999</td>\n",
       "      <td>Farrar Straus Giroux</td>\n",
       "      <td>http://images.amazon.com/images/P/0374157065.0...</td>\n",
       "      <td>en</td>\n",
       "      <td>['Medical']</td>\n",
       "      <td>images/0374157065.01.THUMBZZZ.jpg</td>\n",
       "    </tr>\n",
       "    <tr>\n",
       "      <th>3</th>\n",
       "      <td>0399135782</td>\n",
       "      <td>The Kitchen God's Wife</td>\n",
       "      <td>Amy Tan</td>\n",
       "      <td>1991</td>\n",
       "      <td>Putnam Pub Group</td>\n",
       "      <td>http://images.amazon.com/images/P/0399135782.0...</td>\n",
       "      <td>en</td>\n",
       "      <td>['Fiction']</td>\n",
       "      <td>images/0399135782.01.THUMBZZZ.jpg</td>\n",
       "    </tr>\n",
       "    <tr>\n",
       "      <th>4</th>\n",
       "      <td>0425176428</td>\n",
       "      <td>What If?: The World's Foremost Military Histor...</td>\n",
       "      <td>Robert Cowley</td>\n",
       "      <td>2000</td>\n",
       "      <td>Berkley Publishing Group</td>\n",
       "      <td>http://images.amazon.com/images/P/0425176428.0...</td>\n",
       "      <td>en</td>\n",
       "      <td>['History']</td>\n",
       "      <td>images/0425176428.01.THUMBZZZ.jpg</td>\n",
       "    </tr>\n",
       "    <tr>\n",
       "      <th>...</th>\n",
       "      <td>...</td>\n",
       "      <td>...</td>\n",
       "      <td>...</td>\n",
       "      <td>...</td>\n",
       "      <td>...</td>\n",
       "      <td>...</td>\n",
       "      <td>...</td>\n",
       "      <td>...</td>\n",
       "      <td>...</td>\n",
       "    </tr>\n",
       "    <tr>\n",
       "      <th>149565</th>\n",
       "      <td>067161746X</td>\n",
       "      <td>The Bachelor Home Companion: A Practical Guide...</td>\n",
       "      <td>P.J. O'Rourke</td>\n",
       "      <td>1987</td>\n",
       "      <td>Pocket Books</td>\n",
       "      <td>http://images.amazon.com/images/P/067161746X.0...</td>\n",
       "      <td>en</td>\n",
       "      <td>['Humor']</td>\n",
       "      <td>images/067161746X.01.THUMBZZZ.jpg</td>\n",
       "    </tr>\n",
       "    <tr>\n",
       "      <th>149566</th>\n",
       "      <td>0767907566</td>\n",
       "      <td>All Elevations Unknown: An Adventure in the He...</td>\n",
       "      <td>Sam Lightner</td>\n",
       "      <td>2001</td>\n",
       "      <td>Broadway Books</td>\n",
       "      <td>http://images.amazon.com/images/P/0767907566.0...</td>\n",
       "      <td>en</td>\n",
       "      <td>['Nature']</td>\n",
       "      <td>images/0767907566.01.THUMBZZZ.jpg</td>\n",
       "    </tr>\n",
       "    <tr>\n",
       "      <th>149567</th>\n",
       "      <td>0884159221</td>\n",
       "      <td>Why stop?: A guide to Texas historical roadsid...</td>\n",
       "      <td>Claude Dooley</td>\n",
       "      <td>1985</td>\n",
       "      <td>Lone Star Books</td>\n",
       "      <td>http://images.amazon.com/images/P/0884159221.0...</td>\n",
       "      <td>NaN</td>\n",
       "      <td>NaN</td>\n",
       "      <td>images/0884159221.01.THUMBZZZ.jpg</td>\n",
       "    </tr>\n",
       "    <tr>\n",
       "      <th>149568</th>\n",
       "      <td>0912333022</td>\n",
       "      <td>The Are You Being Served? Stories: 'Camping In...</td>\n",
       "      <td>Jeremy Lloyd</td>\n",
       "      <td>1997</td>\n",
       "      <td>Kqed Books</td>\n",
       "      <td>http://images.amazon.com/images/P/0912333022.0...</td>\n",
       "      <td>en</td>\n",
       "      <td>['Fiction']</td>\n",
       "      <td>images/0912333022.01.THUMBZZZ.jpg</td>\n",
       "    </tr>\n",
       "    <tr>\n",
       "      <th>149569</th>\n",
       "      <td>1569661057</td>\n",
       "      <td>Dallas Street Map Guide and Directory, 2000 Ed...</td>\n",
       "      <td>Mapsco</td>\n",
       "      <td>1999</td>\n",
       "      <td>American Map Corporation</td>\n",
       "      <td>http://images.amazon.com/images/P/1569661057.0...</td>\n",
       "      <td>NaN</td>\n",
       "      <td>NaN</td>\n",
       "      <td>images/1569661057.01.THUMBZZZ.jpg</td>\n",
       "    </tr>\n",
       "  </tbody>\n",
       "</table>\n",
       "<p>149570 rows × 9 columns</p>\n",
       "</div>"
      ],
      "text/plain": [
       "              isbn                                         book_title  \\\n",
       "0       0002005018                                       Clara Callan   \n",
       "1       0060973129                               Decision in Normandy   \n",
       "2       0374157065  Flu: The Story of the Great Influenza Pandemic...   \n",
       "3       0399135782                             The Kitchen God's Wife   \n",
       "4       0425176428  What If?: The World's Foremost Military Histor...   \n",
       "...            ...                                                ...   \n",
       "149565  067161746X  The Bachelor Home Companion: A Practical Guide...   \n",
       "149566  0767907566  All Elevations Unknown: An Adventure in the He...   \n",
       "149567  0884159221  Why stop?: A guide to Texas historical roadsid...   \n",
       "149568  0912333022  The Are You Being Served? Stories: 'Camping In...   \n",
       "149569  1569661057  Dallas Street Map Guide and Directory, 2000 Ed...   \n",
       "\n",
       "                 book_author  year_of_publication                 publisher  \\\n",
       "0       Richard Bruce Wright                 2001     HarperFlamingo Canada   \n",
       "1               Carlo D'Este                 1991           HarperPerennial   \n",
       "2           Gina Bari Kolata                 1999      Farrar Straus Giroux   \n",
       "3                    Amy Tan                 1991          Putnam Pub Group   \n",
       "4              Robert Cowley                 2000  Berkley Publishing Group   \n",
       "...                      ...                  ...                       ...   \n",
       "149565         P.J. O'Rourke                 1987              Pocket Books   \n",
       "149566          Sam Lightner                 2001            Broadway Books   \n",
       "149567         Claude Dooley                 1985           Lone Star Books   \n",
       "149568          Jeremy Lloyd                 1997                Kqed Books   \n",
       "149569                Mapsco                 1999  American Map Corporation   \n",
       "\n",
       "                                                  img_url language  \\\n",
       "0       http://images.amazon.com/images/P/0002005018.0...       en   \n",
       "1       http://images.amazon.com/images/P/0060973129.0...       en   \n",
       "2       http://images.amazon.com/images/P/0374157065.0...       en   \n",
       "3       http://images.amazon.com/images/P/0399135782.0...       en   \n",
       "4       http://images.amazon.com/images/P/0425176428.0...       en   \n",
       "...                                                   ...      ...   \n",
       "149565  http://images.amazon.com/images/P/067161746X.0...       en   \n",
       "149566  http://images.amazon.com/images/P/0767907566.0...       en   \n",
       "149567  http://images.amazon.com/images/P/0884159221.0...      NaN   \n",
       "149568  http://images.amazon.com/images/P/0912333022.0...       en   \n",
       "149569  http://images.amazon.com/images/P/1569661057.0...      NaN   \n",
       "\n",
       "             category                           img_path  \n",
       "0       ['Actresses']  images/0002005018.01.THUMBZZZ.jpg  \n",
       "1       ['1940-1949']  images/0060973129.01.THUMBZZZ.jpg  \n",
       "2         ['Medical']  images/0374157065.01.THUMBZZZ.jpg  \n",
       "3         ['Fiction']  images/0399135782.01.THUMBZZZ.jpg  \n",
       "4         ['History']  images/0425176428.01.THUMBZZZ.jpg  \n",
       "...               ...                                ...  \n",
       "149565      ['Humor']  images/067161746X.01.THUMBZZZ.jpg  \n",
       "149566     ['Nature']  images/0767907566.01.THUMBZZZ.jpg  \n",
       "149567            NaN  images/0884159221.01.THUMBZZZ.jpg  \n",
       "149568    ['Fiction']  images/0912333022.01.THUMBZZZ.jpg  \n",
       "149569            NaN  images/1569661057.01.THUMBZZZ.jpg  \n",
       "\n",
       "[149570 rows x 9 columns]"
      ]
     },
     "execution_count": 25,
     "metadata": {},
     "output_type": "execute_result"
    }
   ],
   "source": [
    "books = books.drop('summary', axis=1) ; books"
   ]
  },
  {
   "cell_type": "markdown",
   "id": "07b7ca11-7184-4464-9b4c-8c07118060df",
   "metadata": {
    "tags": []
   },
   "source": [
    "## category\n",
    "- category high로 묶어주기\n",
    "- category null값 book_title, book_author 같을 때 na 아닌 거 있으면 걔로 채워넣어주기"
   ]
  },
  {
   "cell_type": "code",
   "execution_count": null,
   "id": "d012cd4a-dab3-4dc0-af9a-4266c779d768",
   "metadata": {},
   "outputs": [],
   "source": [
    "# 일단 category에서 대괄호 밖으로 빼기\n",
    "books.loc[books[books['category'].notnull()].index, 'category'] = books[books['category'].notnull()]['category'].apply(lambda x: re.sub('[\\W_]+',' ',x).strip())\n",
    "# 소문자로 바꾸기\n",
    "books['category'] = books['category'].str.lower()"
   ]
  },
  {
   "cell_type": "markdown",
   "id": "d9141334-bd4e-48ae-a6db-aac3bf3452b4",
   "metadata": {},
   "source": [
    "##### category_high"
   ]
  },
  {
   "cell_type": "code",
   "execution_count": 158,
   "id": "40462481-fe2b-42dd-9547-a215a7fdf4bd",
   "metadata": {},
   "outputs": [],
   "source": [
    "# 카테고리를 좀 더 큰 카테고리로 묶어주자\n",
    "books['category_high'] = books['category'].copy()"
   ]
  },
  {
   "cell_type": "code",
   "execution_count": 159,
   "id": "d10163b8-dfba-408a-b58e-9a579ea461ba",
   "metadata": {},
   "outputs": [],
   "source": [
    "# category에 history가 들어가는 애들은 다 history로 묶어주기\n",
    "books.loc[books[books['category'].str.contains('history',na=False)].index,'category_high'] = 'history'"
   ]
  },
  {
   "cell_type": "code",
   "execution_count": 243,
   "id": "c5ac92b4-ec5c-4c8a-80bb-86942b951ff3",
   "metadata": {},
   "outputs": [
    {
     "data": {
      "text/plain": [
       "unix computer file                                 1\n",
       "romania                                            1\n",
       "aeronautics military                               1\n",
       "icarian community                                  1\n",
       "bisexuality                                        1\n",
       "glasnost                                           1\n",
       "asp computer network protocol                      1\n",
       "buddhists                                          1\n",
       "voyages around the world                           1\n",
       "brichter peter fictitious character                1\n",
       "baltimore metropolitan area md                     1\n",
       "afrikaners                                         1\n",
       "fugitives from justice                             1\n",
       "maigret jules fictitious character                 1\n",
       "miracles                                           1\n",
       "pharmaceutical industry                            1\n",
       "friendships                                        1\n",
       "birth customs                                      1\n",
       "electronic journals                                1\n",
       "coasts                                             1\n",
       "united states marshals                             1\n",
       "humorous stories brazilian                         1\n",
       "elections                                          1\n",
       "french wit and humor                               1\n",
       "hyperspace                                         1\n",
       "film criticism                                     1\n",
       "etiquette for women                                1\n",
       "computer software industry                         1\n",
       "novela española siglo xx                           1\n",
       "women television producers and directors           1\n",
       "vocational guidance                                1\n",
       "star trek television show                          1\n",
       "recovered memory                                   1\n",
       "eschatology                                        1\n",
       "dogsledding                                        1\n",
       "brenner simon fictitious character                 1\n",
       "gone with the wind motion picture 1939             1\n",
       "disguise                                           1\n",
       "country lawyers                                    1\n",
       "authors canadian english 20th century biography    1\n",
       "Name: category, dtype: int64"
      ]
     },
     "execution_count": 243,
     "metadata": {},
     "output_type": "execute_result"
    }
   ],
   "source": [
    "books['category'].value_counts().tail(40)"
   ]
  },
  {
   "cell_type": "code",
   "execution_count": 244,
   "id": "7039ade8-5fcb-4f2b-a2f0-43c88b32b335",
   "metadata": {},
   "outputs": [],
   "source": [
    "categories = ['history', 'fiction', 'nonfiction','physics','adventure','fiction','nonfiction','science','science fiction',\n",
    " 'jouvenile fiction', 'jouvenille nonfiction','disease','mathemat','agricult',\n",
    " 'business','poetry','drama','literary','travel','motion picture','children','literature','electronic',\n",
    " 'humor','computer','house','family','architect','camp','language', 'comic', 'sports', 'novel']\n",
    "groupings = {'hobby' : ['crafts', 'hobbies', 'hobby', 'garden'],\n",
    "             'art/media' : ['art', 'photograph', 'music'],\n",
    "             'house/cook' : ['cook', 'house'],\n",
    "             'business' : ['economics', 'business'],\n",
    "             'religion' : ['christian', 'bible', 'religion'],\n",
    "             'animal' : ['animal', 'bird'],\n",
    "             'social science' : ['philosophy', 'psycholog', 'social', 'sociology'],\n",
    "             'criminal' : ['criminal', 'homicide'],\n",
    "             'eco' : ['ecology', 'environment', 'nature']}"
   ]
  },
  {
   "cell_type": "code",
   "execution_count": 245,
   "id": "d4a07511-6d0b-4623-98ea-036ea1bfb5b1",
   "metadata": {},
   "outputs": [],
   "source": [
    "grouping_values = [value for lists in groupings.values() for value in lists]"
   ]
  },
  {
   "cell_type": "code",
   "execution_count": 260,
   "id": "10820004-df55-49e9-9326-cb7fc507bcf5",
   "metadata": {},
   "outputs": [
    {
     "ename": "KeyError",
     "evalue": "'crafts'",
     "output_type": "error",
     "traceback": [
      "\u001b[0;31m---------------------------------------------------------------------------\u001b[0m",
      "\u001b[0;31mKeyError\u001b[0m                                  Traceback (most recent call last)",
      "Cell \u001b[0;32mIn [260], line 6\u001b[0m\n\u001b[1;32m      4\u001b[0m \u001b[38;5;66;03m# grouping 하기\u001b[39;00m\n\u001b[1;32m      5\u001b[0m \u001b[38;5;28;01mfor\u001b[39;00m value \u001b[38;5;129;01min\u001b[39;00m grouping_values:\n\u001b[0;32m----> 6\u001b[0m     books\u001b[38;5;241m.\u001b[39mloc[books[books[\u001b[38;5;124m'\u001b[39m\u001b[38;5;124mcategory\u001b[39m\u001b[38;5;124m'\u001b[39m]\u001b[38;5;241m.\u001b[39mstr\u001b[38;5;241m.\u001b[39mcontains(value, na \u001b[38;5;241m=\u001b[39m \u001b[38;5;28;01mFalse\u001b[39;00m)]\u001b[38;5;241m.\u001b[39mindex, \u001b[38;5;124m'\u001b[39m\u001b[38;5;124mcategory_high\u001b[39m\u001b[38;5;124m'\u001b[39m] \u001b[38;5;241m=\u001b[39m \u001b[43mgroupings\u001b[49m\u001b[43m[\u001b[49m\u001b[43mvalue\u001b[49m\u001b[43m]\u001b[49m\n",
      "\u001b[0;31mKeyError\u001b[0m: 'crafts'"
     ]
    }
   ],
   "source": [
    "# 상위 카테고리 묶기\n",
    "for category in categories:\n",
    "    books.loc[books[books['category'].str.contains(category,na=False)].index,'category_high'] = category\n",
    "# grouping 하기\n",
    "for value in grouping_values:\n",
    "    books.loc[books[books['category'].str.contains(value, na = False)].index, 'category_high'] = groupings[value]"
   ]
  },
  {
   "cell_type": "code",
   "execution_count": 257,
   "id": "94085b6f-7139-4412-b452-8fd0a9912bf7",
   "metadata": {},
   "outputs": [
    {
     "data": {
      "text/plain": [
       "0         False\n",
       "1         False\n",
       "2         False\n",
       "3         False\n",
       "4         False\n",
       "          ...  \n",
       "149565    False\n",
       "149566    False\n",
       "149567    False\n",
       "149568    False\n",
       "149569    False\n",
       "Name: category, Length: 149570, dtype: bool"
      ]
     },
     "execution_count": 257,
     "metadata": {},
     "output_type": "execute_result"
    }
   ],
   "source": [
    "books['category'].str.contains(grouping_values[0], na = False)"
   ]
  },
  {
   "cell_type": "markdown",
   "id": "ec582e23-f0b4-4d46-9c9a-73baf5f2ffd2",
   "metadata": {},
   "source": [
    "##### category null 값 묶기"
   ]
  },
  {
   "cell_type": "code",
   "execution_count": 28,
   "id": "0d9456ff-6df6-4ecd-ae9e-bddc210e0455",
   "metadata": {},
   "outputs": [],
   "source": [
    "books['category_new'] = books['category_high'].copy()\n",
    "books['category_new'] = books['category_new'].fillna('0')"
   ]
  },
  {
   "cell_type": "code",
   "execution_count": 29,
   "id": "e8349bc4-d867-4f34-8172-44cce8a643d0",
   "metadata": {},
   "outputs": [
    {
     "data": {
      "text/plain": [
       "isbn                       0\n",
       "book_title                 0\n",
       "book_author                0\n",
       "year_of_publication        0\n",
       "publisher                  0\n",
       "img_url                    0\n",
       "language               67227\n",
       "category               68851\n",
       "img_path                   0\n",
       "category_high          68851\n",
       "category_new               0\n",
       "dtype: int64"
      ]
     },
     "execution_count": 29,
     "metadata": {},
     "output_type": "execute_result"
    }
   ],
   "source": [
    "books.isna().sum()"
   ]
  },
  {
   "cell_type": "code",
   "execution_count": 30,
   "id": "b94e605a-109b-4c54-961c-5c8d58d88074",
   "metadata": {},
   "outputs": [],
   "source": [
    "tmp = books.groupby(['book_title', 'book_author'])['category_new'].apply(lambda x : ' / '.join(x)).to_frame()"
   ]
  },
  {
   "cell_type": "code",
   "execution_count": 31,
   "id": "af8dec10-d598-4e79-831c-07e31dd7dede",
   "metadata": {},
   "outputs": [
    {
     "data": {
      "text/plain": [
       "avarice / chocolate / fiction / fiction / 0 / 0                                        1\n",
       "pets / biography autobiography                                                         1\n",
       "health fitness / others                                                                1\n",
       "0 / 0 / fiction / fiction / others / 0 / nonfiction / 0 / 0 / fiction / fiction / 0    1\n",
       "0 / fiction / 0 / 0 / children                                                         1\n",
       "0 / adultery                                                                           1\n",
       "fiction / ghost stories                                                                1\n",
       "spiritual life / religion / religion                                                   1\n",
       "african americans / social                                                             1\n",
       "0 / humor / humor                                                                      1\n",
       "fiction / magic                                                                        1\n",
       "0 / 0 / history / 0 / 0                                                                1\n",
       "babysitters / fiction                                                                  1\n",
       "others / fiction / 0 / fiction                                                         1\n",
       "family / 0 / family                                                                    1\n",
       "fiction / fiction / colorado                                                           1\n",
       "fiction / india / 0 / 0                                                                1\n",
       "0 / 0 / drama / 0 / 0 / 0                                                              1\n",
       "self help / family                                                                     1\n",
       "authors american / bashfulness                                                         1\n",
       "Name: category_new, dtype: int64"
      ]
     },
     "execution_count": 31,
     "metadata": {},
     "output_type": "execute_result"
    }
   ],
   "source": [
    "tmp.reset_index(drop=False)['category_new'].value_counts().tail(20)"
   ]
  },
  {
   "cell_type": "code",
   "execution_count": 32,
   "id": "843d99e8-c35c-4ac8-b0d9-1632549908f5",
   "metadata": {},
   "outputs": [
    {
     "data": {
      "text/html": [
       "<div>\n",
       "<style scoped>\n",
       "    .dataframe tbody tr th:only-of-type {\n",
       "        vertical-align: middle;\n",
       "    }\n",
       "\n",
       "    .dataframe tbody tr th {\n",
       "        vertical-align: top;\n",
       "    }\n",
       "\n",
       "    .dataframe thead th {\n",
       "        text-align: right;\n",
       "    }\n",
       "</style>\n",
       "<table border=\"1\" class=\"dataframe\">\n",
       "  <thead>\n",
       "    <tr style=\"text-align: right;\">\n",
       "      <th></th>\n",
       "      <th>book_title</th>\n",
       "      <th>book_author</th>\n",
       "      <th>category_new</th>\n",
       "    </tr>\n",
       "  </thead>\n",
       "  <tbody>\n",
       "    <tr>\n",
       "      <th>0</th>\n",
       "      <td>A Light in the Storm: The Civil War Diary of ...</td>\n",
       "      <td>Karen Hesse</td>\n",
       "      <td>fiction</td>\n",
       "    </tr>\n",
       "    <tr>\n",
       "      <th>1</th>\n",
       "      <td>Ask Lily (Young Women of Faith: Lily Series, ...</td>\n",
       "      <td>Nancy N. Rue</td>\n",
       "      <td>fiction</td>\n",
       "    </tr>\n",
       "    <tr>\n",
       "      <th>2</th>\n",
       "      <td>Dark Justice</td>\n",
       "      <td>Jack Higgins</td>\n",
       "      <td>fiction</td>\n",
       "    </tr>\n",
       "    <tr>\n",
       "      <th>3</th>\n",
       "      <td>Earth Prayers From around the World: 365 Pray...</td>\n",
       "      <td>Elizabeth Roberts</td>\n",
       "      <td>0</td>\n",
       "    </tr>\n",
       "    <tr>\n",
       "      <th>4</th>\n",
       "      <td>Final Fantasy Anthology: Official Strategy Gu...</td>\n",
       "      <td>David Cassady</td>\n",
       "      <td>games</td>\n",
       "    </tr>\n",
       "    <tr>\n",
       "      <th>...</th>\n",
       "      <td>...</td>\n",
       "      <td>...</td>\n",
       "      <td>...</td>\n",
       "    </tr>\n",
       "    <tr>\n",
       "      <th>139500</th>\n",
       "      <td>Ã?Â?bernachten mit Stil. Die schÃ?Â¶nsten Coun...</td>\n",
       "      <td>Christopher Fennel</td>\n",
       "      <td>0</td>\n",
       "    </tr>\n",
       "    <tr>\n",
       "      <th>139501</th>\n",
       "      <td>Ã?Â?rger mit Produkt X. Roman.</td>\n",
       "      <td>Joan Aiken</td>\n",
       "      <td>0</td>\n",
       "    </tr>\n",
       "    <tr>\n",
       "      <th>139502</th>\n",
       "      <td>Ã?Â?sterlich leben.</td>\n",
       "      <td>Anselm GrÃ?Â¼n</td>\n",
       "      <td>0</td>\n",
       "    </tr>\n",
       "    <tr>\n",
       "      <th>139503</th>\n",
       "      <td>Ã?Â?stlich der Berge.</td>\n",
       "      <td>David Guterson</td>\n",
       "      <td>0</td>\n",
       "    </tr>\n",
       "    <tr>\n",
       "      <th>139504</th>\n",
       "      <td>Ã?Â?thique en toc</td>\n",
       "      <td>Didier Daeninckx</td>\n",
       "      <td>literature</td>\n",
       "    </tr>\n",
       "  </tbody>\n",
       "</table>\n",
       "<p>139505 rows × 3 columns</p>\n",
       "</div>"
      ],
      "text/plain": [
       "                                               book_title         book_author  \\\n",
       "0        A Light in the Storm: The Civil War Diary of ...         Karen Hesse   \n",
       "1        Ask Lily (Young Women of Faith: Lily Series, ...        Nancy N. Rue   \n",
       "2                                            Dark Justice        Jack Higgins   \n",
       "3        Earth Prayers From around the World: 365 Pray...   Elizabeth Roberts   \n",
       "4        Final Fantasy Anthology: Official Strategy Gu...       David Cassady   \n",
       "...                                                   ...                 ...   \n",
       "139500  Ã?Â?bernachten mit Stil. Die schÃ?Â¶nsten Coun...  Christopher Fennel   \n",
       "139501                     Ã?Â?rger mit Produkt X. Roman.          Joan Aiken   \n",
       "139502                                Ã?Â?sterlich leben.      Anselm GrÃ?Â¼n   \n",
       "139503                              Ã?Â?stlich der Berge.      David Guterson   \n",
       "139504                                  Ã?Â?thique en toc    Didier Daeninckx   \n",
       "\n",
       "       category_new  \n",
       "0           fiction  \n",
       "1           fiction  \n",
       "2           fiction  \n",
       "3                 0  \n",
       "4             games  \n",
       "...             ...  \n",
       "139500            0  \n",
       "139501            0  \n",
       "139502            0  \n",
       "139503            0  \n",
       "139504   literature  \n",
       "\n",
       "[139505 rows x 3 columns]"
      ]
     },
     "execution_count": 32,
     "metadata": {},
     "output_type": "execute_result"
    }
   ],
   "source": [
    "tmp = tmp.reset_index(drop=False) ; tmp"
   ]
  },
  {
   "cell_type": "markdown",
   "id": "0384769a-3f31-4154-8d75-e6883bc38367",
   "metadata": {},
   "source": [
    "## Book_title\n",
    "- 글자 깨진거 수정, 소문자처리"
   ]
  },
  {
   "cell_type": "code",
   "execution_count": 55,
   "id": "6831e5f3-cc94-4dac-afe2-977c3ceec075",
   "metadata": {},
   "outputs": [],
   "source": [
    "books['book_title'] = books['book_title'].apply(text_preprocessing_func)"
   ]
  },
  {
   "cell_type": "code",
   "execution_count": 56,
   "id": "acf5b75c-608c-4a9e-923b-caa4bb3b3bc0",
   "metadata": {},
   "outputs": [
    {
     "data": {
      "text/plain": [
       "0                                              clara callan\n",
       "1                                      decision in normandy\n",
       "2         flu: the story of the great influenza pandemic...\n",
       "3                                    the kitchen god's wife\n",
       "4         what if?: the world's foremost military histor...\n",
       "                                ...                        \n",
       "149565    the bachelor home companion: a practical guide...\n",
       "149566    all elevations unknown: an adventure in the he...\n",
       "149567    why stop?: a guide to texas historical roadsid...\n",
       "149568    the are you being served? stories: 'camping in...\n",
       "149569    dallas street map guide and directory, 2000 ed...\n",
       "Name: book_title, Length: 149570, dtype: object"
      ]
     },
     "execution_count": 56,
     "metadata": {},
     "output_type": "execute_result"
    }
   ],
   "source": [
    "books['book_title']"
   ]
  },
  {
   "cell_type": "markdown",
   "id": "bb4486cd-a9e2-423d-8df0-60cb158fc2f1",
   "metadata": {},
   "source": [
    "## publisher\n",
    "- 기본 텍스트 전처리\n",
    "- 유명 출판사의 경우 표기 방법의 차이 및 오타로 인해같은 그룹으로 묶이지 못하는 항목들이 있으므로 이런 항목들을 수정 => 기본 EDA 코드 활용"
   ]
  },
  {
   "cell_type": "code",
   "execution_count": 66,
   "id": "e4a60857-4ef3-46dd-a893-f4ab988453f6",
   "metadata": {},
   "outputs": [],
   "source": [
    "# 기본 텍스트 전처리\n",
    "books['publisher'] = books['publisher'].apply(text_preprocessing_func)"
   ]
  },
  {
   "cell_type": "code",
   "execution_count": 67,
   "id": "f550e773-a8ae-4b63-808e-75a779fec1b2",
   "metadata": {},
   "outputs": [],
   "source": [
    "publisher_dict=(books['publisher'].value_counts()).to_dict()\n",
    "publisher_count_df= pd.DataFrame(list(publisher_dict.items()),columns = ['publisher','count'])\n",
    "\n",
    "publisher_count_df = publisher_count_df.sort_values(by=['count'], ascending = False)\n",
    "\n",
    "modify_list = publisher_count_df[publisher_count_df['count']>1].publisher.values\n",
    "for publisher in modify_list:\n",
    "    try:\n",
    "        number = books[books['publisher']==publisher]['isbn'].apply(lambda x: x[:4]).value_counts().index[0]\n",
    "        right_publisher = books[books['isbn'].apply(lambda x: x[:4])==number]['publisher'].value_counts().index[0]\n",
    "        books.loc[books[books['isbn'].apply(lambda x: x[:4])==number].index,'publisher'] = right_publisher\n",
    "    except: \n",
    "        pass"
   ]
  },
  {
   "cell_type": "code",
   "execution_count": 68,
   "id": "c5d32833-f837-46c8-a56e-5f1ae3571db0",
   "metadata": {},
   "outputs": [
    {
     "data": {
      "text/plain": [
       "(11571, 1504)"
      ]
     },
     "execution_count": 68,
     "metadata": {},
     "output_type": "execute_result"
    }
   ],
   "source": [
    "books_origin['publisher'].nunique(), books['publisher'].nunique()"
   ]
  },
  {
   "cell_type": "markdown",
   "id": "9f877e54-c5c0-4c96-b8bb-d01f042706e8",
   "metadata": {},
   "source": [
    "## Language -> Country\n",
    "- isbn으로 언어를 출판 국가로 바꿔줍니다"
   ]
  },
  {
   "cell_type": "code",
   "execution_count": 117,
   "id": "d744aa0b-55c9-42d9-ad13-01b78d0ccf8d",
   "metadata": {},
   "outputs": [],
   "source": [
    "isbn_dict = {}\n",
    "isbn_dict = { books['language'][idx] : [isbn[:3]] if books['language'][idx] not in isbn_dict.keys() else isbn_dict[books['language'][idx]].append(isbn[:2]) for idx, isbn in enumerate(books['isbn'])}"
   ]
  },
  {
   "cell_type": "code",
   "execution_count": 118,
   "id": "4a9bf632-2036-41e5-a96a-8241774e7c3f",
   "metadata": {},
   "outputs": [
    {
     "data": {
      "text/plain": [
       "{'en': ['091'],\n",
       " nan: ['156'],\n",
       " 'de': ['349'],\n",
       " 'fr': ['225'],\n",
       " 'es': ['843'],\n",
       " 'ca': ['848'],\n",
       " 'it': ['880'],\n",
       " 'da': ['344'],\n",
       " 'nl': ['902'],\n",
       " 'pt': ['972'],\n",
       " 'ro': ['359'],\n",
       " 'no': ['820'],\n",
       " 'ms': ['186'],\n",
       " 'la': ['052'],\n",
       " 'ru': ['140'],\n",
       " 'el': ['158'],\n",
       " 'zh-CN': ['081'],\n",
       " 'th': ['014'],\n",
       " 'gl': ['848'],\n",
       " 'ja': ['477'],\n",
       " 'fa': ['964'],\n",
       " 'eo': ['084'],\n",
       " 'gd': ['084'],\n",
       " 'ga': ['185'],\n",
       " 'vi': ['080'],\n",
       " 'zh-TW': ['068'],\n",
       " 'ko': ['043']}"
      ]
     },
     "execution_count": 118,
     "metadata": {},
     "output_type": "execute_result"
    }
   ],
   "source": [
    "isbn_dict"
   ]
  },
  {
   "cell_type": "code",
   "execution_count": 142,
   "id": "c2790752-d276-4296-b657-04deb33cb2ce",
   "metadata": {},
   "outputs": [],
   "source": [
    "isbn_code = {'0' : 'english', '1' : 'english', '2': 'franch', '3' : 'german', '4' : 'japan', '5' : 'russia', '7' : 'china',\n",
    "             '65' : 'brazil', '80' : 'czecho', '81' : 'india', '82' : 'norway', '83' : 'poland', '84' : 'espanol', '85' : 'brazil', '86' : 'yugoslavia', '87' : 'danish', '88' : 'italy', '89' : 'korean', '90' : 'netherlands', '91' : 'sweden',\n",
    "            '92' : 'international ngo', '93' : 'inida', '94' : 'netherlands', '600' : 'iran', '601' : 'kazakhstan', '602' : 'indonesia', '603' : 'saudi arabia', '604' : 'vietnam', '605' : 'turkey',\n",
    "            '606' : 'romania', '607' : 'mexico', '608' : 'north macedonia', '609' : 'lithuania', '611' : 'thailand', '612' : 'peru', '613' : 'mauritius',\n",
    "            '614' : 'lebanon', '615' : 'hungary', '616' : 'thailand', '617' : 'ukraine', '618' : 'greece', '619' : 'bulgaria', '620' : 'mauritius', '621' : 'phillippines',\n",
    "            '622' : 'iran', '623' : 'indonesia', '624' : 'sri lanka', '625' : 'turkey', '626' : 'taiwan', '627' : 'pakistan', '628' : 'colombia', '629' : 'malaysia', '630' : 'romania',\n",
    "            '950' : 'argentina', '951' : 'finland', '952' : 'finland', '953' : 'croatia', '954' : 'bulgaria', '955' : 'sri lanka',\n",
    "            '956' : 'chile', '957' : 'taiwan', '958' : 'colombia', '959' : 'cuba', '960' : 'greece' , '961' : 'slovenia', '962' : 'hong kong',\n",
    "            '963' : 'hungary', '964' : 'iran', '965' : 'israel', '966' : 'urkaine', '967' : 'malaysia', '968' : 'mexico', '969' : 'pakistan', '970' : 'mexico',\n",
    "            '971' : 'phillippines', '972' : 'portugal', '973' : 'romania', '974' : 'thailand', '975' : 'turkey', '976' : 'caribbean community', '977' : 'egypt', '978' : 'nigeria', \n",
    "            '979' : 'indonesia', '980' : 'venezuela', '981' : 'singapore', '982' : 'south pacific', '983' : 'malaysia', '984' : 'bangladesh', '985' : 'velarus', '986' : 'taiwan',\n",
    "            '987' : 'argentina', '988' : 'hong kong', '989' : 'portugal',\n",
    "            '9960':'saudi arabia', '9963' : 'cyprus', '9968' : 'costa rica', '9971' : 'singapore', '9972' : 'peru', '9974' : 'uruguay',\n",
    "            '9976' : 'tanzania', '9977' : 'costa rica', '9979' : 'iceland', '9986' : 'lithuania',\n",
    "            '99903' : 'mauritius', '99905' : ' bolivia', '99909' : 'malta', '99912' : 'botswana', '99920' : 'andorra', '99928' : 'georgia',\n",
    "            '99935' : 'haiti', '99936' : 'bhutan', '99942' : 'armenia', '99943' : 'albania', '99974' : 'bolivia',\n",
    "            '99975' : 'mongolia', '99989' : 'paraguay'}"
   ]
  },
  {
   "cell_type": "code",
   "execution_count": 146,
   "id": "c42379f2-aa50-4edb-97b4-6c67dd05859d",
   "metadata": {},
   "outputs": [],
   "source": [
    "check_list = []\n",
    "books['isbn_country'] = 'na'\n",
    "for idx in range(len(books)):\n",
    "    isbn = books['isbn'][idx][:5]\n",
    "    if isbn[0] in isbn_code.keys():\n",
    "        books.at[idx, 'isbn_country'] = isbn_code[isbn[0]]\n",
    "    elif isbn[:2] in isbn_code.keys():\n",
    "        books.at[idx, 'isbn_country'] = isbn_code[isbn[0:2]]\n",
    "    elif isbn[:3] in isbn_code.keys():\n",
    "        books.at[idx, 'isbn_country'] = isbn_code[isbn[0:3]]\n",
    "    elif isbn[:4] in isbn_code.keys():\n",
    "        books.at[idx, 'isbn_country'] = isbn_code[isbn[:4]]\n",
    "    elif isbn[:] in isbn_code.keys():\n",
    "        books.at[idx, 'isbn_country'] = isbn_code[isbn[:]]\n",
    "    else:\n",
    "        check_list.append(isbn)"
   ]
  },
  {
   "cell_type": "code",
   "execution_count": 149,
   "id": "7f228a14-6fce-4bda-9879-dd7def046e00",
   "metadata": {},
   "outputs": [
    {
     "data": {
      "text/plain": [
       "{'99999', 'B0000', 'B0001', 'B0002'}"
      ]
     },
     "execution_count": 149,
     "metadata": {},
     "output_type": "execute_result"
    }
   ],
   "source": [
    "set(check_list)"
   ]
  },
  {
   "cell_type": "markdown",
   "id": "3f1cf152-8c04-4d87-b385-768bcd2a53aa",
   "metadata": {},
   "source": [
    "출판사가 headline이거나 putnam pub group인 경우에 이상한 isbn을 달고 있음  \n",
    "검색결과 putnam pub group은 penguin books의 또다른 이름으로, NYC의 미국 출판사임  \n",
    "headline 또한 영국의 퍼블리싱 브랜드임 -> 둘 다 english로 바꿔줌"
   ]
  },
  {
   "cell_type": "code",
   "execution_count": 153,
   "id": "34302abc-0900-49f2-9426-0e6bde7ef749",
   "metadata": {},
   "outputs": [
    {
     "data": {
      "text/html": [
       "<div>\n",
       "<style scoped>\n",
       "    .dataframe tbody tr th:only-of-type {\n",
       "        vertical-align: middle;\n",
       "    }\n",
       "\n",
       "    .dataframe tbody tr th {\n",
       "        vertical-align: top;\n",
       "    }\n",
       "\n",
       "    .dataframe thead th {\n",
       "        text-align: right;\n",
       "    }\n",
       "</style>\n",
       "<table border=\"1\" class=\"dataframe\">\n",
       "  <thead>\n",
       "    <tr style=\"text-align: right;\">\n",
       "      <th></th>\n",
       "      <th>isbn</th>\n",
       "      <th>book_title</th>\n",
       "      <th>book_author</th>\n",
       "      <th>year_of_publication</th>\n",
       "      <th>publisher</th>\n",
       "      <th>img_url</th>\n",
       "      <th>language</th>\n",
       "      <th>category</th>\n",
       "      <th>img_path</th>\n",
       "      <th>category_high</th>\n",
       "      <th>category_new</th>\n",
       "      <th>isbn_country</th>\n",
       "    </tr>\n",
       "  </thead>\n",
       "  <tbody>\n",
       "    <tr>\n",
       "      <th>2886</th>\n",
       "      <td>B0000DAPP1</td>\n",
       "      <td>discover your genius: how to think like histor...</td>\n",
       "      <td>michael j. gelb</td>\n",
       "      <td>2002</td>\n",
       "      <td>putnam pub group</td>\n",
       "      <td>http://images.amazon.com/images/P/B0000DAPP1.0...</td>\n",
       "      <td>NaN</td>\n",
       "      <td>NaN</td>\n",
       "      <td>images/B0000DAPP1.01.THUMBZZZ.jpg</td>\n",
       "      <td>NaN</td>\n",
       "      <td>0</td>\n",
       "      <td>na</td>\n",
       "    </tr>\n",
       "    <tr>\n",
       "      <th>15104</th>\n",
       "      <td>B0000A2U93</td>\n",
       "      <td>carmilla</td>\n",
       "      <td>joseph sheridan le fanu</td>\n",
       "      <td>1994</td>\n",
       "      <td>putnam pub group</td>\n",
       "      <td>http://images.amazon.com/images/P/B0000A2U93.0...</td>\n",
       "      <td>NaN</td>\n",
       "      <td>NaN</td>\n",
       "      <td>images/B0000A2U93.01.THUMBZZZ.jpg</td>\n",
       "      <td>NaN</td>\n",
       "      <td>0</td>\n",
       "      <td>na</td>\n",
       "    </tr>\n",
       "    <tr>\n",
       "      <th>16173</th>\n",
       "      <td>B0000633PU</td>\n",
       "      <td>the story of aladdin and the wonderful lamp</td>\n",
       "      <td>s. lane poole</td>\n",
       "      <td>1994</td>\n",
       "      <td>putnam pub group</td>\n",
       "      <td>http://images.amazon.com/images/P/B0000633PU.0...</td>\n",
       "      <td>NaN</td>\n",
       "      <td>NaN</td>\n",
       "      <td>images/B0000633PU.01.THUMBZZZ.jpg</td>\n",
       "      <td>NaN</td>\n",
       "      <td>0</td>\n",
       "      <td>na</td>\n",
       "    </tr>\n",
       "    <tr>\n",
       "      <th>24710</th>\n",
       "      <td>B0000DYXID</td>\n",
       "      <td>a kid's guide to how to save the planet</td>\n",
       "      <td>billy goodman</td>\n",
       "      <td>1994</td>\n",
       "      <td>putnam pub group</td>\n",
       "      <td>http://images.amazon.com/images/P/B0000DYXID.0...</td>\n",
       "      <td>NaN</td>\n",
       "      <td>NaN</td>\n",
       "      <td>images/B0000DYXID.01.THUMBZZZ.jpg</td>\n",
       "      <td>NaN</td>\n",
       "      <td>0</td>\n",
       "      <td>na</td>\n",
       "    </tr>\n",
       "    <tr>\n",
       "      <th>29467</th>\n",
       "      <td>B00006CRTE</td>\n",
       "      <td>devil knows you're dead, the: a matthew scudde...</td>\n",
       "      <td>lawrence block</td>\n",
       "      <td>1994</td>\n",
       "      <td>putnam pub group</td>\n",
       "      <td>http://images.amazon.com/images/P/B00006CRTE.0...</td>\n",
       "      <td>NaN</td>\n",
       "      <td>NaN</td>\n",
       "      <td>images/B00006CRTE.01.THUMBZZZ.jpg</td>\n",
       "      <td>NaN</td>\n",
       "      <td>0</td>\n",
       "      <td>na</td>\n",
       "    </tr>\n",
       "  </tbody>\n",
       "</table>\n",
       "</div>"
      ],
      "text/plain": [
       "             isbn                                         book_title  \\\n",
       "2886   B0000DAPP1  discover your genius: how to think like histor...   \n",
       "15104  B0000A2U93                                           carmilla   \n",
       "16173  B0000633PU        the story of aladdin and the wonderful lamp   \n",
       "24710  B0000DYXID            a kid's guide to how to save the planet   \n",
       "29467  B00006CRTE  devil knows you're dead, the: a matthew scudde...   \n",
       "\n",
       "                   book_author  year_of_publication         publisher  \\\n",
       "2886           michael j. gelb                 2002  putnam pub group   \n",
       "15104  joseph sheridan le fanu                 1994  putnam pub group   \n",
       "16173            s. lane poole                 1994  putnam pub group   \n",
       "24710            billy goodman                 1994  putnam pub group   \n",
       "29467           lawrence block                 1994  putnam pub group   \n",
       "\n",
       "                                                 img_url language category  \\\n",
       "2886   http://images.amazon.com/images/P/B0000DAPP1.0...      NaN      NaN   \n",
       "15104  http://images.amazon.com/images/P/B0000A2U93.0...      NaN      NaN   \n",
       "16173  http://images.amazon.com/images/P/B0000633PU.0...      NaN      NaN   \n",
       "24710  http://images.amazon.com/images/P/B0000DYXID.0...      NaN      NaN   \n",
       "29467  http://images.amazon.com/images/P/B00006CRTE.0...      NaN      NaN   \n",
       "\n",
       "                                img_path category_high category_new  \\\n",
       "2886   images/B0000DAPP1.01.THUMBZZZ.jpg           NaN            0   \n",
       "15104  images/B0000A2U93.01.THUMBZZZ.jpg           NaN            0   \n",
       "16173  images/B0000633PU.01.THUMBZZZ.jpg           NaN            0   \n",
       "24710  images/B0000DYXID.01.THUMBZZZ.jpg           NaN            0   \n",
       "29467  images/B00006CRTE.01.THUMBZZZ.jpg           NaN            0   \n",
       "\n",
       "      isbn_country  \n",
       "2886            na  \n",
       "15104           na  \n",
       "16173           na  \n",
       "24710           na  \n",
       "29467           na  "
      ]
     },
     "execution_count": 153,
     "metadata": {},
     "output_type": "execute_result"
    }
   ],
   "source": [
    "books[books['isbn'].apply(lambda x : x[:5]).isin(check_list)].head()"
   ]
  },
  {
   "cell_type": "code",
   "execution_count": 156,
   "id": "989fe820-435d-48a7-b522-7170467dde74",
   "metadata": {},
   "outputs": [
    {
     "name": "stderr",
     "output_type": "stream",
     "text": [
      "/tmp/ipykernel_17913/587793286.py:1: SettingWithCopyWarning: \n",
      "A value is trying to be set on a copy of a slice from a DataFrame.\n",
      "Try using .loc[row_indexer,col_indexer] = value instead\n",
      "\n",
      "See the caveats in the documentation: https://pandas.pydata.org/pandas-docs/stable/user_guide/indexing.html#returning-a-view-versus-a-copy\n",
      "  books[books['isbn_country'] == 'na']['isbn_country'] = 'english'\n"
     ]
    }
   ],
   "source": [
    "books[books['isbn_country'] == 'na']['isbn_country'] = 'english'"
   ]
  },
  {
   "cell_type": "markdown",
   "id": "2da990e4-f2a7-4ab5-a9cc-7f1fc71a6702",
   "metadata": {},
   "source": [
    "### 다 수정하고 확인"
   ]
  },
  {
   "cell_type": "code",
   "execution_count": 157,
   "id": "26a9bd8a-a48c-4a90-bf92-6ff7de0f1c70",
   "metadata": {},
   "outputs": [
    {
     "data": {
      "text/plain": [
       "english         134405\n",
       "german            6706\n",
       "franch            3405\n",
       "espanol           3399\n",
       "italy              482\n",
       "                 ...  \n",
       "botswana             1\n",
       "saudi arabia         1\n",
       "iceland              1\n",
       "uruguay              1\n",
       "paraguay             1\n",
       "Name: isbn_country, Length: 67, dtype: int64"
      ]
     },
     "execution_count": 157,
     "metadata": {},
     "output_type": "execute_result"
    }
   ],
   "source": [
    "books['isbn_country'].value_counts()"
   ]
  },
  {
   "cell_type": "markdown",
   "id": "4717580d-7086-40b2-8de5-8115d711b4b6",
   "metadata": {},
   "source": [
    "## author\n",
    "- 기본 텍스트 전처리 (text_preprocessing_func)"
   ]
  },
  {
   "cell_type": "code",
   "execution_count": 64,
   "id": "11f4b2cc-e644-44e6-974e-70fb820a96ab",
   "metadata": {},
   "outputs": [],
   "source": [
    "books['book_author'] = books['book_author'].apply(text_preprocessing_func)"
   ]
  },
  {
   "cell_type": "code",
   "execution_count": 65,
   "id": "addec11e-0e9d-4654-b1d9-c0698fd30173",
   "metadata": {},
   "outputs": [
    {
     "data": {
      "text/html": [
       "<div>\n",
       "<style scoped>\n",
       "    .dataframe tbody tr th:only-of-type {\n",
       "        vertical-align: middle;\n",
       "    }\n",
       "\n",
       "    .dataframe tbody tr th {\n",
       "        vertical-align: top;\n",
       "    }\n",
       "\n",
       "    .dataframe thead th {\n",
       "        text-align: right;\n",
       "    }\n",
       "</style>\n",
       "<table border=\"1\" class=\"dataframe\">\n",
       "  <thead>\n",
       "    <tr style=\"text-align: right;\">\n",
       "      <th></th>\n",
       "      <th>isbn</th>\n",
       "      <th>book_title</th>\n",
       "      <th>book_author</th>\n",
       "      <th>year_of_publication</th>\n",
       "      <th>publisher</th>\n",
       "      <th>img_url</th>\n",
       "      <th>language</th>\n",
       "      <th>category</th>\n",
       "      <th>img_path</th>\n",
       "      <th>category_high</th>\n",
       "      <th>category_new</th>\n",
       "    </tr>\n",
       "  </thead>\n",
       "  <tbody>\n",
       "    <tr>\n",
       "      <th>0</th>\n",
       "      <td>0002005018</td>\n",
       "      <td>clara callan</td>\n",
       "      <td>richard bruce wright</td>\n",
       "      <td>2001</td>\n",
       "      <td>Collins</td>\n",
       "      <td>http://images.amazon.com/images/P/0002005018.0...</td>\n",
       "      <td>en</td>\n",
       "      <td>actresses</td>\n",
       "      <td>images/0002005018.01.THUMBZZZ.jpg</td>\n",
       "      <td>actresses</td>\n",
       "      <td>actresses</td>\n",
       "    </tr>\n",
       "    <tr>\n",
       "      <th>1</th>\n",
       "      <td>0060973129</td>\n",
       "      <td>decision in normandy</td>\n",
       "      <td>carlo d'este</td>\n",
       "      <td>1991</td>\n",
       "      <td>Perennial</td>\n",
       "      <td>http://images.amazon.com/images/P/0060973129.0...</td>\n",
       "      <td>en</td>\n",
       "      <td>1940 1949</td>\n",
       "      <td>images/0060973129.01.THUMBZZZ.jpg</td>\n",
       "      <td>others</td>\n",
       "      <td>others</td>\n",
       "    </tr>\n",
       "    <tr>\n",
       "      <th>2</th>\n",
       "      <td>0374157065</td>\n",
       "      <td>flu: the story of the great influenza pandemic...</td>\n",
       "      <td>gina bari kolata</td>\n",
       "      <td>1999</td>\n",
       "      <td>Farrar Straus Giroux</td>\n",
       "      <td>http://images.amazon.com/images/P/0374157065.0...</td>\n",
       "      <td>en</td>\n",
       "      <td>medical</td>\n",
       "      <td>images/0374157065.01.THUMBZZZ.jpg</td>\n",
       "      <td>medical</td>\n",
       "      <td>medical</td>\n",
       "    </tr>\n",
       "    <tr>\n",
       "      <th>3</th>\n",
       "      <td>0399135782</td>\n",
       "      <td>the kitchen god's wife</td>\n",
       "      <td>amy tan</td>\n",
       "      <td>1991</td>\n",
       "      <td>Putnam Pub Group</td>\n",
       "      <td>http://images.amazon.com/images/P/0399135782.0...</td>\n",
       "      <td>en</td>\n",
       "      <td>fiction</td>\n",
       "      <td>images/0399135782.01.THUMBZZZ.jpg</td>\n",
       "      <td>fiction</td>\n",
       "      <td>fiction</td>\n",
       "    </tr>\n",
       "    <tr>\n",
       "      <th>4</th>\n",
       "      <td>0425176428</td>\n",
       "      <td>what if?: the world's foremost military histor...</td>\n",
       "      <td>robert cowley</td>\n",
       "      <td>2000</td>\n",
       "      <td>Berkley Publishing Group</td>\n",
       "      <td>http://images.amazon.com/images/P/0425176428.0...</td>\n",
       "      <td>en</td>\n",
       "      <td>history</td>\n",
       "      <td>images/0425176428.01.THUMBZZZ.jpg</td>\n",
       "      <td>history</td>\n",
       "      <td>history</td>\n",
       "    </tr>\n",
       "  </tbody>\n",
       "</table>\n",
       "</div>"
      ],
      "text/plain": [
       "         isbn                                         book_title  \\\n",
       "0  0002005018                                       clara callan   \n",
       "1  0060973129                               decision in normandy   \n",
       "2  0374157065  flu: the story of the great influenza pandemic...   \n",
       "3  0399135782                             the kitchen god's wife   \n",
       "4  0425176428  what if?: the world's foremost military histor...   \n",
       "\n",
       "            book_author  year_of_publication                 publisher  \\\n",
       "0  richard bruce wright                 2001                   Collins   \n",
       "1          carlo d'este                 1991                 Perennial   \n",
       "2      gina bari kolata                 1999      Farrar Straus Giroux   \n",
       "3               amy tan                 1991          Putnam Pub Group   \n",
       "4         robert cowley                 2000  Berkley Publishing Group   \n",
       "\n",
       "                                             img_url language   category  \\\n",
       "0  http://images.amazon.com/images/P/0002005018.0...       en  actresses   \n",
       "1  http://images.amazon.com/images/P/0060973129.0...       en  1940 1949   \n",
       "2  http://images.amazon.com/images/P/0374157065.0...       en    medical   \n",
       "3  http://images.amazon.com/images/P/0399135782.0...       en    fiction   \n",
       "4  http://images.amazon.com/images/P/0425176428.0...       en    history   \n",
       "\n",
       "                            img_path category_high category_new  \n",
       "0  images/0002005018.01.THUMBZZZ.jpg     actresses    actresses  \n",
       "1  images/0060973129.01.THUMBZZZ.jpg        others       others  \n",
       "2  images/0374157065.01.THUMBZZZ.jpg       medical      medical  \n",
       "3  images/0399135782.01.THUMBZZZ.jpg       fiction      fiction  \n",
       "4  images/0425176428.01.THUMBZZZ.jpg       history      history  "
      ]
     },
     "execution_count": 65,
     "metadata": {},
     "output_type": "execute_result"
    }
   ],
   "source": [
    "books.head()"
   ]
  },
  {
   "cell_type": "markdown",
   "id": "464f7b8d-6d5d-4de9-94ff-dad0ef60fc2f",
   "metadata": {
    "tags": []
   },
   "source": [
    "# 전체 다 데이터 합쳐서 확인해보려고 함"
   ]
  },
  {
   "cell_type": "code",
   "execution_count": 34,
   "id": "7fd5ee84-fc9b-4b8b-bd50-fc9fc7b5a0eb",
   "metadata": {},
   "outputs": [
    {
     "data": {
      "text/html": [
       "<div>\n",
       "<style scoped>\n",
       "    .dataframe tbody tr th:only-of-type {\n",
       "        vertical-align: middle;\n",
       "    }\n",
       "\n",
       "    .dataframe tbody tr th {\n",
       "        vertical-align: top;\n",
       "    }\n",
       "\n",
       "    .dataframe thead th {\n",
       "        text-align: right;\n",
       "    }\n",
       "</style>\n",
       "<table border=\"1\" class=\"dataframe\">\n",
       "  <thead>\n",
       "    <tr style=\"text-align: right;\">\n",
       "      <th></th>\n",
       "      <th>user_id</th>\n",
       "      <th>location_state</th>\n",
       "      <th>location_country</th>\n",
       "    </tr>\n",
       "  </thead>\n",
       "  <tbody>\n",
       "    <tr>\n",
       "      <th>0</th>\n",
       "      <td>8</td>\n",
       "      <td>ontario</td>\n",
       "      <td>canada</td>\n",
       "    </tr>\n",
       "    <tr>\n",
       "      <th>1</th>\n",
       "      <td>11400</td>\n",
       "      <td>ontario</td>\n",
       "      <td>canada</td>\n",
       "    </tr>\n",
       "    <tr>\n",
       "      <th>2</th>\n",
       "      <td>67544</td>\n",
       "      <td>ontario</td>\n",
       "      <td>canada</td>\n",
       "    </tr>\n",
       "    <tr>\n",
       "      <th>3</th>\n",
       "      <td>85526</td>\n",
       "      <td>britishcolumbia</td>\n",
       "      <td>canada</td>\n",
       "    </tr>\n",
       "    <tr>\n",
       "      <th>4</th>\n",
       "      <td>96054</td>\n",
       "      <td>ontario</td>\n",
       "      <td>canada</td>\n",
       "    </tr>\n",
       "    <tr>\n",
       "      <th>...</th>\n",
       "      <td>...</td>\n",
       "      <td>...</td>\n",
       "      <td>...</td>\n",
       "    </tr>\n",
       "    <tr>\n",
       "      <th>66785</th>\n",
       "      <td>278376</td>\n",
       "      <td>california</td>\n",
       "      <td>usa</td>\n",
       "    </tr>\n",
       "    <tr>\n",
       "      <th>66786</th>\n",
       "      <td>278621</td>\n",
       "      <td>delaware</td>\n",
       "      <td>canada</td>\n",
       "    </tr>\n",
       "    <tr>\n",
       "      <th>66787</th>\n",
       "      <td>278636</td>\n",
       "      <td>alabama</td>\n",
       "      <td>usa</td>\n",
       "    </tr>\n",
       "    <tr>\n",
       "      <th>66788</th>\n",
       "      <td>278659</td>\n",
       "      <td>britishcolumbia</td>\n",
       "      <td>canada</td>\n",
       "    </tr>\n",
       "    <tr>\n",
       "      <th>66789</th>\n",
       "      <td>278713</td>\n",
       "      <td>newmexico</td>\n",
       "      <td>usa</td>\n",
       "    </tr>\n",
       "  </tbody>\n",
       "</table>\n",
       "<p>66790 rows × 3 columns</p>\n",
       "</div>"
      ],
      "text/plain": [
       "       user_id   location_state location_country\n",
       "0            8          ontario           canada\n",
       "1        11400          ontario           canada\n",
       "2        67544          ontario           canada\n",
       "3        85526  britishcolumbia           canada\n",
       "4        96054          ontario           canada\n",
       "...        ...              ...              ...\n",
       "66785   278376       california              usa\n",
       "66786   278621         delaware           canada\n",
       "66787   278636          alabama              usa\n",
       "66788   278659  britishcolumbia           canada\n",
       "66789   278713        newmexico              usa\n",
       "\n",
       "[66790 rows x 3 columns]"
      ]
     },
     "execution_count": 34,
     "metadata": {},
     "output_type": "execute_result"
    }
   ],
   "source": [
    "users"
   ]
  },
  {
   "cell_type": "code",
   "execution_count": 35,
   "id": "54e59874-c26e-451b-a3d4-75c0adc1cf39",
   "metadata": {},
   "outputs": [
    {
     "data": {
      "text/html": [
       "<div>\n",
       "<style scoped>\n",
       "    .dataframe tbody tr th:only-of-type {\n",
       "        vertical-align: middle;\n",
       "    }\n",
       "\n",
       "    .dataframe tbody tr th {\n",
       "        vertical-align: top;\n",
       "    }\n",
       "\n",
       "    .dataframe thead th {\n",
       "        text-align: right;\n",
       "    }\n",
       "</style>\n",
       "<table border=\"1\" class=\"dataframe\">\n",
       "  <thead>\n",
       "    <tr style=\"text-align: right;\">\n",
       "      <th></th>\n",
       "      <th>isbn</th>\n",
       "      <th>book_title</th>\n",
       "      <th>book_author</th>\n",
       "      <th>year_of_publication</th>\n",
       "      <th>publisher</th>\n",
       "      <th>img_url</th>\n",
       "      <th>language</th>\n",
       "      <th>category</th>\n",
       "      <th>img_path</th>\n",
       "      <th>category_high</th>\n",
       "      <th>category_new</th>\n",
       "    </tr>\n",
       "  </thead>\n",
       "  <tbody>\n",
       "    <tr>\n",
       "      <th>0</th>\n",
       "      <td>0002005018</td>\n",
       "      <td>Clara Callan</td>\n",
       "      <td>Richard Bruce Wright</td>\n",
       "      <td>2001</td>\n",
       "      <td>HarperFlamingo Canada</td>\n",
       "      <td>http://images.amazon.com/images/P/0002005018.0...</td>\n",
       "      <td>en</td>\n",
       "      <td>actresses</td>\n",
       "      <td>images/0002005018.01.THUMBZZZ.jpg</td>\n",
       "      <td>actresses</td>\n",
       "      <td>actresses</td>\n",
       "    </tr>\n",
       "    <tr>\n",
       "      <th>1</th>\n",
       "      <td>0060973129</td>\n",
       "      <td>Decision in Normandy</td>\n",
       "      <td>Carlo D'Este</td>\n",
       "      <td>1991</td>\n",
       "      <td>HarperPerennial</td>\n",
       "      <td>http://images.amazon.com/images/P/0060973129.0...</td>\n",
       "      <td>en</td>\n",
       "      <td>1940 1949</td>\n",
       "      <td>images/0060973129.01.THUMBZZZ.jpg</td>\n",
       "      <td>others</td>\n",
       "      <td>others</td>\n",
       "    </tr>\n",
       "    <tr>\n",
       "      <th>2</th>\n",
       "      <td>0374157065</td>\n",
       "      <td>Flu: The Story of the Great Influenza Pandemic...</td>\n",
       "      <td>Gina Bari Kolata</td>\n",
       "      <td>1999</td>\n",
       "      <td>Farrar Straus Giroux</td>\n",
       "      <td>http://images.amazon.com/images/P/0374157065.0...</td>\n",
       "      <td>en</td>\n",
       "      <td>medical</td>\n",
       "      <td>images/0374157065.01.THUMBZZZ.jpg</td>\n",
       "      <td>medical</td>\n",
       "      <td>medical</td>\n",
       "    </tr>\n",
       "    <tr>\n",
       "      <th>3</th>\n",
       "      <td>0399135782</td>\n",
       "      <td>The Kitchen God's Wife</td>\n",
       "      <td>Amy Tan</td>\n",
       "      <td>1991</td>\n",
       "      <td>Putnam Pub Group</td>\n",
       "      <td>http://images.amazon.com/images/P/0399135782.0...</td>\n",
       "      <td>en</td>\n",
       "      <td>fiction</td>\n",
       "      <td>images/0399135782.01.THUMBZZZ.jpg</td>\n",
       "      <td>fiction</td>\n",
       "      <td>fiction</td>\n",
       "    </tr>\n",
       "    <tr>\n",
       "      <th>4</th>\n",
       "      <td>0425176428</td>\n",
       "      <td>What If?: The World's Foremost Military Histor...</td>\n",
       "      <td>Robert Cowley</td>\n",
       "      <td>2000</td>\n",
       "      <td>Berkley Publishing Group</td>\n",
       "      <td>http://images.amazon.com/images/P/0425176428.0...</td>\n",
       "      <td>en</td>\n",
       "      <td>history</td>\n",
       "      <td>images/0425176428.01.THUMBZZZ.jpg</td>\n",
       "      <td>history</td>\n",
       "      <td>history</td>\n",
       "    </tr>\n",
       "    <tr>\n",
       "      <th>...</th>\n",
       "      <td>...</td>\n",
       "      <td>...</td>\n",
       "      <td>...</td>\n",
       "      <td>...</td>\n",
       "      <td>...</td>\n",
       "      <td>...</td>\n",
       "      <td>...</td>\n",
       "      <td>...</td>\n",
       "      <td>...</td>\n",
       "      <td>...</td>\n",
       "      <td>...</td>\n",
       "    </tr>\n",
       "    <tr>\n",
       "      <th>149565</th>\n",
       "      <td>067161746X</td>\n",
       "      <td>The Bachelor Home Companion: A Practical Guide...</td>\n",
       "      <td>P.J. O'Rourke</td>\n",
       "      <td>1987</td>\n",
       "      <td>Pocket Books</td>\n",
       "      <td>http://images.amazon.com/images/P/067161746X.0...</td>\n",
       "      <td>en</td>\n",
       "      <td>humor</td>\n",
       "      <td>images/067161746X.01.THUMBZZZ.jpg</td>\n",
       "      <td>humor</td>\n",
       "      <td>humor</td>\n",
       "    </tr>\n",
       "    <tr>\n",
       "      <th>149566</th>\n",
       "      <td>0767907566</td>\n",
       "      <td>All Elevations Unknown: An Adventure in the He...</td>\n",
       "      <td>Sam Lightner</td>\n",
       "      <td>2001</td>\n",
       "      <td>Broadway Books</td>\n",
       "      <td>http://images.amazon.com/images/P/0767907566.0...</td>\n",
       "      <td>en</td>\n",
       "      <td>nature</td>\n",
       "      <td>images/0767907566.01.THUMBZZZ.jpg</td>\n",
       "      <td>nature</td>\n",
       "      <td>nature</td>\n",
       "    </tr>\n",
       "    <tr>\n",
       "      <th>149567</th>\n",
       "      <td>0884159221</td>\n",
       "      <td>Why stop?: A guide to Texas historical roadsid...</td>\n",
       "      <td>Claude Dooley</td>\n",
       "      <td>1985</td>\n",
       "      <td>Lone Star Books</td>\n",
       "      <td>http://images.amazon.com/images/P/0884159221.0...</td>\n",
       "      <td>NaN</td>\n",
       "      <td>NaN</td>\n",
       "      <td>images/0884159221.01.THUMBZZZ.jpg</td>\n",
       "      <td>NaN</td>\n",
       "      <td>0</td>\n",
       "    </tr>\n",
       "    <tr>\n",
       "      <th>149568</th>\n",
       "      <td>0912333022</td>\n",
       "      <td>The Are You Being Served? Stories: 'Camping In...</td>\n",
       "      <td>Jeremy Lloyd</td>\n",
       "      <td>1997</td>\n",
       "      <td>Kqed Books</td>\n",
       "      <td>http://images.amazon.com/images/P/0912333022.0...</td>\n",
       "      <td>en</td>\n",
       "      <td>fiction</td>\n",
       "      <td>images/0912333022.01.THUMBZZZ.jpg</td>\n",
       "      <td>fiction</td>\n",
       "      <td>fiction</td>\n",
       "    </tr>\n",
       "    <tr>\n",
       "      <th>149569</th>\n",
       "      <td>1569661057</td>\n",
       "      <td>Dallas Street Map Guide and Directory, 2000 Ed...</td>\n",
       "      <td>Mapsco</td>\n",
       "      <td>1999</td>\n",
       "      <td>American Map Corporation</td>\n",
       "      <td>http://images.amazon.com/images/P/1569661057.0...</td>\n",
       "      <td>NaN</td>\n",
       "      <td>NaN</td>\n",
       "      <td>images/1569661057.01.THUMBZZZ.jpg</td>\n",
       "      <td>NaN</td>\n",
       "      <td>0</td>\n",
       "    </tr>\n",
       "  </tbody>\n",
       "</table>\n",
       "<p>149570 rows × 11 columns</p>\n",
       "</div>"
      ],
      "text/plain": [
       "              isbn                                         book_title  \\\n",
       "0       0002005018                                       Clara Callan   \n",
       "1       0060973129                               Decision in Normandy   \n",
       "2       0374157065  Flu: The Story of the Great Influenza Pandemic...   \n",
       "3       0399135782                             The Kitchen God's Wife   \n",
       "4       0425176428  What If?: The World's Foremost Military Histor...   \n",
       "...            ...                                                ...   \n",
       "149565  067161746X  The Bachelor Home Companion: A Practical Guide...   \n",
       "149566  0767907566  All Elevations Unknown: An Adventure in the He...   \n",
       "149567  0884159221  Why stop?: A guide to Texas historical roadsid...   \n",
       "149568  0912333022  The Are You Being Served? Stories: 'Camping In...   \n",
       "149569  1569661057  Dallas Street Map Guide and Directory, 2000 Ed...   \n",
       "\n",
       "                 book_author  year_of_publication                 publisher  \\\n",
       "0       Richard Bruce Wright                 2001     HarperFlamingo Canada   \n",
       "1               Carlo D'Este                 1991           HarperPerennial   \n",
       "2           Gina Bari Kolata                 1999      Farrar Straus Giroux   \n",
       "3                    Amy Tan                 1991          Putnam Pub Group   \n",
       "4              Robert Cowley                 2000  Berkley Publishing Group   \n",
       "...                      ...                  ...                       ...   \n",
       "149565         P.J. O'Rourke                 1987              Pocket Books   \n",
       "149566          Sam Lightner                 2001            Broadway Books   \n",
       "149567         Claude Dooley                 1985           Lone Star Books   \n",
       "149568          Jeremy Lloyd                 1997                Kqed Books   \n",
       "149569                Mapsco                 1999  American Map Corporation   \n",
       "\n",
       "                                                  img_url language   category  \\\n",
       "0       http://images.amazon.com/images/P/0002005018.0...       en  actresses   \n",
       "1       http://images.amazon.com/images/P/0060973129.0...       en  1940 1949   \n",
       "2       http://images.amazon.com/images/P/0374157065.0...       en    medical   \n",
       "3       http://images.amazon.com/images/P/0399135782.0...       en    fiction   \n",
       "4       http://images.amazon.com/images/P/0425176428.0...       en    history   \n",
       "...                                                   ...      ...        ...   \n",
       "149565  http://images.amazon.com/images/P/067161746X.0...       en      humor   \n",
       "149566  http://images.amazon.com/images/P/0767907566.0...       en     nature   \n",
       "149567  http://images.amazon.com/images/P/0884159221.0...      NaN        NaN   \n",
       "149568  http://images.amazon.com/images/P/0912333022.0...       en    fiction   \n",
       "149569  http://images.amazon.com/images/P/1569661057.0...      NaN        NaN   \n",
       "\n",
       "                                 img_path category_high category_new  \n",
       "0       images/0002005018.01.THUMBZZZ.jpg     actresses    actresses  \n",
       "1       images/0060973129.01.THUMBZZZ.jpg        others       others  \n",
       "2       images/0374157065.01.THUMBZZZ.jpg       medical      medical  \n",
       "3       images/0399135782.01.THUMBZZZ.jpg       fiction      fiction  \n",
       "4       images/0425176428.01.THUMBZZZ.jpg       history      history  \n",
       "...                                   ...           ...          ...  \n",
       "149565  images/067161746X.01.THUMBZZZ.jpg         humor        humor  \n",
       "149566  images/0767907566.01.THUMBZZZ.jpg        nature       nature  \n",
       "149567  images/0884159221.01.THUMBZZZ.jpg           NaN            0  \n",
       "149568  images/0912333022.01.THUMBZZZ.jpg       fiction      fiction  \n",
       "149569  images/1569661057.01.THUMBZZZ.jpg           NaN            0  \n",
       "\n",
       "[149570 rows x 11 columns]"
      ]
     },
     "execution_count": 35,
     "metadata": {},
     "output_type": "execute_result"
    }
   ],
   "source": [
    "books"
   ]
  },
  {
   "cell_type": "code",
   "execution_count": 36,
   "id": "6670497e-a4c9-4006-869a-48fd115caaf1",
   "metadata": {
    "tags": []
   },
   "outputs": [],
   "source": [
    "user_ratings = pd.merge(left = ratings, right = users, left_on = 'user_id', right_on = 'user_id')\n",
    "data = pd.merge(left = user_ratings, right = books, left_on = 'isbn', right_on = 'isbn')"
   ]
  },
  {
   "cell_type": "code",
   "execution_count": 232,
   "id": "5b32ef39-862e-443f-a2a2-34e4c5a6652e",
   "metadata": {},
   "outputs": [
    {
     "data": {
      "text/plain": [
       "(262489, 306795)"
      ]
     },
     "execution_count": 232,
     "metadata": {},
     "output_type": "execute_result"
    }
   ],
   "source": [
    "len(data), len(ratings)"
   ]
  },
  {
   "cell_type": "code",
   "execution_count": 38,
   "id": "5d6193d4-0299-4828-b463-9ef2559285d3",
   "metadata": {},
   "outputs": [],
   "source": [
    "# count 내림차순으로 보고싶어서 코드 수저\n",
    "\n",
    "popular_book_dict = data['isbn'].value_counts().sort_values(ascending=False)[:30].to_dict()\n",
    "\n",
    "popular_book = data[data['isbn'].isin(popular_book_dict.keys())].reset_index(drop=True)\n",
    "popular_book['count'] = 0\n",
    "\n",
    "for i in range(len(popular_book)):\n",
    "    popular_book.at[i, 'count'] = popular_book_dict[popular_book['isbn'].iloc[i]]\n",
    "    \n",
    "popular_book = popular_book.sort_values(by='count', ascending=False)"
   ]
  },
  {
   "cell_type": "code",
   "execution_count": 39,
   "id": "f7be0e55-0129-4fcf-8420-c33f1b26f559",
   "metadata": {},
   "outputs": [
    {
     "data": {
      "image/png": "[encoded data removed]",
      "text/plain": [
       "<Figure size 2000x600 with 2 Axes>"
      ]
     },
     "metadata": {},
     "output_type": "display_data"
    }
   ],
   "source": [
    "# popular_book_list = data['isbn'].value_counts().sort_values(ascending=False)[:30].index\n",
    "# popular_book = data[data['isbn'].isin(popular_book_list)]\n",
    "\n",
    "fig, ax1 = plt.subplots(figsize=(20,6))\n",
    "plt.xticks(rotation=80)\n",
    "sns.lineplot(data = popular_book,x='book_title',y='rating' ,marker='o', estimator=np.median, ax=ax1)\n",
    "ax2 = ax1.twinx()\n",
    "\n",
    "sns.countplot(data=popular_book, x='book_title', alpha=0.5, ax=ax2)\n",
    "plt.show()"
   ]
  },
  {
   "cell_type": "markdown",
   "id": "efe15c2f-0837-4951-a4fd-c486f5dc3074",
   "metadata": {},
   "source": [
    "- 뭐지.. wild animus에 1점 준 user들의 rating 분포를 살펴보려고 함"
   ]
  },
  {
   "cell_type": "code",
   "execution_count": 40,
   "id": "01d5efab-f501-4af9-8f9d-3cb244646c0e",
   "metadata": {},
   "outputs": [
    {
     "data": {
      "text/html": [
       "<div>\n",
       "<style scoped>\n",
       "    .dataframe tbody tr th:only-of-type {\n",
       "        vertical-align: middle;\n",
       "    }\n",
       "\n",
       "    .dataframe tbody tr th {\n",
       "        vertical-align: top;\n",
       "    }\n",
       "\n",
       "    .dataframe thead th {\n",
       "        text-align: right;\n",
       "    }\n",
       "</style>\n",
       "<table border=\"1\" class=\"dataframe\">\n",
       "  <thead>\n",
       "    <tr style=\"text-align: right;\">\n",
       "      <th></th>\n",
       "      <th>user_id</th>\n",
       "      <th>rating</th>\n",
       "      <th>year_of_publication</th>\n",
       "    </tr>\n",
       "  </thead>\n",
       "  <tbody>\n",
       "    <tr>\n",
       "      <th>0</th>\n",
       "      <td>229635</td>\n",
       "      <td>1.000000</td>\n",
       "      <td>2004.000000</td>\n",
       "    </tr>\n",
       "    <tr>\n",
       "      <th>1</th>\n",
       "      <td>42032</td>\n",
       "      <td>1.000000</td>\n",
       "      <td>2004.000000</td>\n",
       "    </tr>\n",
       "    <tr>\n",
       "      <th>2</th>\n",
       "      <td>244923</td>\n",
       "      <td>1.000000</td>\n",
       "      <td>2004.000000</td>\n",
       "    </tr>\n",
       "    <tr>\n",
       "      <th>3</th>\n",
       "      <td>125889</td>\n",
       "      <td>1.000000</td>\n",
       "      <td>2004.000000</td>\n",
       "    </tr>\n",
       "    <tr>\n",
       "      <th>4</th>\n",
       "      <td>126851</td>\n",
       "      <td>1.000000</td>\n",
       "      <td>2004.000000</td>\n",
       "    </tr>\n",
       "    <tr>\n",
       "      <th>...</th>\n",
       "      <td>...</td>\n",
       "      <td>...</td>\n",
       "      <td>...</td>\n",
       "    </tr>\n",
       "    <tr>\n",
       "      <th>440</th>\n",
       "      <td>136747</td>\n",
       "      <td>9.538462</td>\n",
       "      <td>1998.615385</td>\n",
       "    </tr>\n",
       "    <tr>\n",
       "      <th>441</th>\n",
       "      <td>12272</td>\n",
       "      <td>9.882353</td>\n",
       "      <td>1993.529412</td>\n",
       "    </tr>\n",
       "    <tr>\n",
       "      <th>442</th>\n",
       "      <td>23021</td>\n",
       "      <td>10.000000</td>\n",
       "      <td>2004.000000</td>\n",
       "    </tr>\n",
       "    <tr>\n",
       "      <th>443</th>\n",
       "      <td>162528</td>\n",
       "      <td>10.000000</td>\n",
       "      <td>2004.000000</td>\n",
       "    </tr>\n",
       "    <tr>\n",
       "      <th>444</th>\n",
       "      <td>33875</td>\n",
       "      <td>10.000000</td>\n",
       "      <td>2004.000000</td>\n",
       "    </tr>\n",
       "  </tbody>\n",
       "</table>\n",
       "<p>445 rows × 3 columns</p>\n",
       "</div>"
      ],
      "text/plain": [
       "     user_id     rating  year_of_publication\n",
       "0     229635   1.000000          2004.000000\n",
       "1      42032   1.000000          2004.000000\n",
       "2     244923   1.000000          2004.000000\n",
       "3     125889   1.000000          2004.000000\n",
       "4     126851   1.000000          2004.000000\n",
       "..       ...        ...                  ...\n",
       "440   136747   9.538462          1998.615385\n",
       "441    12272   9.882353          1993.529412\n",
       "442    23021  10.000000          2004.000000\n",
       "443   162528  10.000000          2004.000000\n",
       "444    33875  10.000000          2004.000000\n",
       "\n",
       "[445 rows x 3 columns]"
      ]
     },
     "execution_count": 40,
     "metadata": {},
     "output_type": "execute_result"
    }
   ],
   "source": [
    "# wild animus에 1점 준 user id\n",
    "rating_one_user_id = popular_book[popular_book['count'] == 445]['user_id']\n",
    "# 걔네만 df 해서 mean값 봄\n",
    "rating_one_user_df = data[data['user_id'].isin(rating_one_user_id)].groupby('user_id').mean().reset_index(drop=False)\n",
    "rating_one_user_df = rating_one_user_df.sort_values(by='rating').reset_index(drop=True)\n",
    "\n",
    "rating_one_user_df"
   ]
  },
  {
   "cell_type": "markdown",
   "id": "f9cbdb4e-1df8-4422-af11-6a11b1302f50",
   "metadata": {},
   "source": [
    "- 흠.. 좀 펴점이 짠 애들이 분포하고는 있으나 이걸 가지고 이상하다고 볼 수가 있나?"
   ]
  },
  {
   "cell_type": "code",
   "execution_count": 41,
   "id": "c3980ef4-fee3-481e-adaf-56a094e9188e",
   "metadata": {},
   "outputs": [
    {
     "data": {
      "text/plain": [
       "<AxesSubplot:xlabel='rating'>"
      ]
     },
     "execution_count": 41,
     "metadata": {},
     "output_type": "execute_result"
    },
    {
     "data": {
      "image/png": "[encoded data removed]",
      "text/plain": [
       "<Figure size 640x480 with 1 Axes>"
      ]
     },
     "metadata": {},
     "output_type": "display_data"
    }
   ],
   "source": [
    "sns.violinplot(data = rating_one_user_df, x = 'rating')"
   ]
  },
  {
   "cell_type": "markdown",
   "id": "67ee6692-39bb-4449-9328-613b0e6f5d61",
   "metadata": {},
   "source": [
    "- wild aniums의 별점 분포를 따로 봐야겠음\n",
    "- 걍 진짜루.. 1점을ㅈ ㅜㄴ 애들이 많음"
   ]
  },
  {
   "cell_type": "code",
   "execution_count": 42,
   "id": "7c611f34-aa89-4cc3-8550-6a5a5efab937",
   "metadata": {},
   "outputs": [
    {
     "data": {
      "text/plain": [
       "<AxesSubplot:>"
      ]
     },
     "execution_count": 42,
     "metadata": {},
     "output_type": "execute_result"
    },
    {
     "data": {
      "image/png": "[encoded data removed]",
      "text/plain": [
       "<Figure size 640x480 with 1 Axes>"
      ]
     },
     "metadata": {},
     "output_type": "display_data"
    }
   ],
   "source": [
    "sns.violinplot(data[data['book_title'] == 'Wild Animus']['rating'].reset_index(drop=True))"
   ]
  },
  {
   "cell_type": "markdown",
   "id": "d8ad55e6-3861-4c38-bfbc-565da9bf5107",
   "metadata": {},
   "source": [
    "### Rating 분포"
   ]
  },
  {
   "cell_type": "code",
   "execution_count": 43,
   "id": "bcaede10-eaf0-418b-87f2-583d4a6c261c",
   "metadata": {},
   "outputs": [
    {
     "data": {
      "text/plain": [
       "<AxesSubplot:xlabel='rating'>"
      ]
     },
     "execution_count": 43,
     "metadata": {},
     "output_type": "execute_result"
    },
    {
     "data": {
      "image/png": "[encoded data removed]",
      "text/plain": [
       "<Figure size 640x480 with 1 Axes>"
      ]
     },
     "metadata": {},
     "output_type": "display_data"
    }
   ],
   "source": [
    "# 그냥 rating의 분포\n",
    "sns.violinplot(data = data, x = 'rating')"
   ]
  },
  {
   "cell_type": "code",
   "execution_count": 44,
   "id": "815076ad-7bc2-4edd-97c8-ef3a952e5fab",
   "metadata": {},
   "outputs": [
    {
     "name": "stderr",
     "output_type": "stream",
     "text": [
      "/tmp/ipykernel_17913/606092147.py:2: UserWarning: \n",
      "\n",
      "`distplot` is a deprecated function and will be removed in seaborn v0.14.0.\n",
      "\n",
      "Please adapt your code to use either `displot` (a figure-level function with\n",
      "similar flexibility) or `histplot` (an axes-level function for histograms).\n",
      "\n",
      "For a guide to updating your code to use the new functions, please see\n",
      "https://gist.github.com/mwaskom/de44147ed2974457ad6372750bbe5751\n",
      "\n",
      "  sns.distplot(data.groupby('user_id').mean()['rating'].reset_index(drop=True))\n"
     ]
    },
    {
     "data": {
      "text/plain": [
       "<AxesSubplot:xlabel='rating', ylabel='Density'>"
      ]
     },
     "execution_count": 44,
     "metadata": {},
     "output_type": "execute_result"
    },
    {
     "data": {
      "image/png": "[encoded data removed]",
      "text/plain": [
       "<Figure size 640x480 with 1 Axes>"
      ]
     },
     "metadata": {},
     "output_type": "display_data"
    }
   ],
   "source": [
    "# user 별 rating 평균\n",
    "sns.distplot(data.groupby('user_id').mean()['rating'].reset_index(drop=True))"
   ]
  },
  {
   "cell_type": "markdown",
   "id": "3073d7e8-12c3-43ff-ac8a-69dd1274b656",
   "metadata": {},
   "source": [
    "### Rating에 대한 correlation"
   ]
  },
  {
   "cell_type": "code",
   "execution_count": 45,
   "id": "9f7918d3-34e0-4956-ba95-7e0488e4c4e5",
   "metadata": {},
   "outputs": [],
   "source": [
    "def cramers_v(x, y):\n",
    "    confusion_matrix = pd.crosstab(x,y)\n",
    "    chi2 = ss.chi2_contingency(confusion_matrix)[0]\n",
    "    n = confusion_matrix.sum().sum()\n",
    "    phi2 = chi2/n\n",
    "    r,k = confusion_matrix.shape\n",
    "    phi2corr = max(0, phi2-((k-1)*(r-1))/(n-1))\n",
    "    rcorr = r-((r-1)**2)/(n-1)\n",
    "    kcorr = k-((k-1)**2)/(n-1)\n",
    "    return np.sqrt(phi2corr/min((kcorr-1),(rcorr-1)))"
   ]
  },
  {
   "cell_type": "code",
   "execution_count": 46,
   "id": "dbb586c4-c7d9-497a-814d-b738d37c6d75",
   "metadata": {},
   "outputs": [
    {
     "data": {
      "text/plain": [
       "Index(['user_id', 'isbn', 'rating', 'location_state', 'location_country',\n",
       "       'book_title', 'book_author', 'year_of_publication', 'publisher',\n",
       "       'img_url', 'language', 'category', 'img_path', 'category_high',\n",
       "       'category_new'],\n",
       "      dtype='object')"
      ]
     },
     "execution_count": 46,
     "metadata": {},
     "output_type": "execute_result"
    }
   ],
   "source": [
    "data.columns"
   ]
  },
  {
   "cell_type": "code",
   "execution_count": 47,
   "id": "c4148796-7cbc-47ff-a8f2-bed931126512",
   "metadata": {},
   "outputs": [
    {
     "data": {
      "text/plain": [
       "0.0386786815369926"
      ]
     },
     "execution_count": 47,
     "metadata": {},
     "output_type": "execute_result"
    }
   ],
   "source": [
    "cramers_v(data['location_country'], data['rating'])"
   ]
  },
  {
   "cell_type": "code",
   "execution_count": 48,
   "id": "38c6739e-2bc2-4b24-8d76-e5e5e2df2de0",
   "metadata": {},
   "outputs": [
    {
     "data": {
      "text/plain": [
       "0.1877094847382023"
      ]
     },
     "execution_count": 48,
     "metadata": {},
     "output_type": "execute_result"
    }
   ],
   "source": [
    "cramers_v(data['book_title'], data['rating'])"
   ]
  },
  {
   "cell_type": "code",
   "execution_count": 49,
   "id": "0bef3015-093f-4dbd-a6e0-f6b7993654b9",
   "metadata": {},
   "outputs": [
    {
     "data": {
      "text/plain": [
       "0.16730982914843956"
      ]
     },
     "execution_count": 49,
     "metadata": {},
     "output_type": "execute_result"
    }
   ],
   "source": [
    "cramers_v(data['book_author'], data['rating'])"
   ]
  },
  {
   "cell_type": "code",
   "execution_count": 50,
   "id": "4d4f3983-96bd-4ec4-8e71-be821d4da373",
   "metadata": {},
   "outputs": [
    {
     "data": {
      "text/plain": [
       "0.09478192453715098"
      ]
     },
     "execution_count": 50,
     "metadata": {},
     "output_type": "execute_result"
    }
   ],
   "source": [
    "cramers_v(data['publisher'], data['rating'])"
   ]
  },
  {
   "cell_type": "code",
   "execution_count": 51,
   "id": "8cfd47be-eb59-43cc-b65e-c0298a0db6e6",
   "metadata": {},
   "outputs": [
    {
     "data": {
      "text/plain": [
       "0.012086621981946854"
      ]
     },
     "execution_count": 51,
     "metadata": {},
     "output_type": "execute_result"
    }
   ],
   "source": [
    "cramers_v(data['language'], data['rating'])"
   ]
  },
  {
   "cell_type": "code",
   "execution_count": 52,
   "id": "c5af7e62-8c2b-4964-bd03-e07f1ee42ec4",
   "metadata": {},
   "outputs": [
    {
     "data": {
      "text/plain": [
       "0.0384281973095257"
      ]
     },
     "execution_count": 52,
     "metadata": {},
     "output_type": "execute_result"
    }
   ],
   "source": [
    "cramers_v(data['category_high'], data['rating'])"
   ]
  },
  {
   "cell_type": "code",
   "execution_count": 53,
   "id": "eb32f5a0-d23b-4fc3-b564-1dca0e6afdc2",
   "metadata": {},
   "outputs": [
    {
     "data": {
      "text/plain": [
       "0.25400751883525396"
      ]
     },
     "execution_count": 53,
     "metadata": {},
     "output_type": "execute_result"
    }
   ],
   "source": [
    "cramers_v(data['user_id'], data['rating'])"
   ]
  },
  {
   "cell_type": "code",
   "execution_count": 188,
   "id": "a951b5a3-4049-4759-b200-563d12323be6",
   "metadata": {},
   "outputs": [
    {
     "data": {
      "text/plain": [
       "5.051434998977435"
      ]
     },
     "execution_count": 188,
     "metadata": {},
     "output_type": "execute_result"
    }
   ],
   "source": [
    "# user의 평균 rating 개수 => 날릴까?...\n",
    "np.quantile(data.groupby('user_id').count()['isbn'], 0.58)\n",
    "data.groupby('user_id').count()['isbn'].mean()"
   ]
  },
  {
   "cell_type": "code",
   "execution_count": 225,
   "id": "3a8b60bd-e95a-4d9f-a142-e56bf629b092",
   "metadata": {},
   "outputs": [
    {
     "data": {
      "text/plain": [
       "33909"
      ]
     },
     "execution_count": 225,
     "metadata": {},
     "output_type": "execute_result"
    }
   ],
   "source": [
    "sum(data.groupby('user_id').count()['isbn'] <= 1)"
   ]
  },
  {
   "cell_type": "code",
   "execution_count": 196,
   "id": "8073486e-65a1-4cfb-9521-a36928d3ba9d",
   "metadata": {},
   "outputs": [
    {
     "data": {
      "text/plain": [
       "2647"
      ]
     },
     "execution_count": 196,
     "metadata": {},
     "output_type": "execute_result"
    }
   ],
   "source": [
    "ttmp = pd.merge(left = test, right = users, left_on = 'user_id', right_on = 'user_id', how = 'inner')\n",
    "len(test) - len(ttmp) # 2647명이 처음 보는 user"
   ]
  },
  {
   "cell_type": "markdown",
   "id": "d3eb491e-e47c-4e7a-9425-1c0c96afe71b",
   "metadata": {},
   "source": [
    "- 처음 보는 user에 대해서는 rule based로 접근해야 한다"
   ]
  },
  {
   "cell_type": "code",
   "execution_count": 198,
   "id": "9d1ae905-371e-433a-b95b-7123e4ef6751",
   "metadata": {},
   "outputs": [
    {
     "data": {
      "text/plain": [
       "0"
      ]
     },
     "execution_count": 198,
     "metadata": {},
     "output_type": "execute_result"
    }
   ],
   "source": [
    "ttmp = pd.merge(left = test, right = books, left_on = 'isbn', right_on = 'isbn', how = 'inner')\n",
    "len(test) - len(ttmp) # 처음 보는 책은 없네"
   ]
  },
  {
   "cell_type": "markdown",
   "id": "cbbbd864-5f9f-4cc4-ab9c-ea4ca43ee092",
   "metadata": {},
   "source": [
    "- 평가가 한개만 있는 애들은 다 날려볼까? => 킹석자의 주관으로 날려도 됨 영향력 없어보임"
   ]
  },
  {
   "cell_type": "code",
   "execution_count": 207,
   "id": "7788f1a3-7e6f-46ba-b479-c8cbc77af754",
   "metadata": {},
   "outputs": [],
   "source": [
    "user_count = data.groupby('user_id').count()['isbn'].to_dict()"
   ]
  },
  {
   "cell_type": "code",
   "execution_count": 211,
   "id": "d254c69b-9a61-40c2-93e6-76c03b0563cb",
   "metadata": {},
   "outputs": [],
   "source": [
    "for i in range(len(data)):\n",
    "    data.at[i, 'count'] = user_count[data['user_id'][i]]"
   ]
  },
  {
   "cell_type": "code",
   "execution_count": 227,
   "id": "b94800c5-56e1-49f0-a547-30baf4bc9c7b",
   "metadata": {},
   "outputs": [
    {
     "data": {
      "text/plain": [
       "33909"
      ]
     },
     "execution_count": 227,
     "metadata": {},
     "output_type": "execute_result"
    }
   ],
   "source": [
    "len(data) - len(data[data['count']>1])"
   ]
  },
  {
   "cell_type": "code",
   "execution_count": 229,
   "id": "77f4d17a-185a-4ae4-ad6f-93d7c3a4e9a7",
   "metadata": {},
   "outputs": [],
   "source": [
    "data = data[data['count']>1].reset_index(drop=True)"
   ]
  },
  {
   "cell_type": "code",
   "execution_count": 230,
   "id": "572af9ee-7f1e-4a8b-b7f1-d3b9a17f1466",
   "metadata": {},
   "outputs": [
    {
     "data": {
      "text/plain": [
       "0"
      ]
     },
     "execution_count": 230,
     "metadata": {},
     "output_type": "execute_result"
    }
   ],
   "source": [
    "ttmp = pd.merge(left = test, right = books, left_on = 'isbn', right_on = 'isbn', how = 'inner')\n",
    "len(test) - len(ttmp) # 처음 보는 책은 없네"
   ]
  },
  {
   "cell_type": "code",
   "execution_count": 239,
   "id": "fe066a87-6bd1-47db-8dc4-76078434d0e0",
   "metadata": {},
   "outputs": [],
   "source": [
    "user_count_2 = ratings.groupby('user_id').count()['isbn'].to_dict()\n",
    "ratings_origin = ratings.copy()\n",
    "for i in range(len(ratings)):\n",
    "    ratings.at[i, 'count'] = user_count_2[ratings['user_id'][i]]\n",
    "ratings = ratings[ratings['count']>1].reset_index(drop=True)"
   ]
  },
  {
   "cell_type": "code",
   "execution_count": 240,
   "id": "f196079f-d467-415c-bfa1-6978c693a188",
   "metadata": {},
   "outputs": [
    {
     "data": {
      "text/plain": [
       "306795"
      ]
     },
     "execution_count": 240,
     "metadata": {},
     "output_type": "execute_result"
    }
   ],
   "source": [
    "len(ratings_origin)"
   ]
  },
  {
   "cell_type": "code",
   "execution_count": 242,
   "id": "5c546082-de40-43af-a8f5-691400de730d",
   "metadata": {},
   "outputs": [
    {
     "data": {
      "text/html": [
       "<div>\n",
       "<style scoped>\n",
       "    .dataframe tbody tr th:only-of-type {\n",
       "        vertical-align: middle;\n",
       "    }\n",
       "\n",
       "    .dataframe tbody tr th {\n",
       "        vertical-align: top;\n",
       "    }\n",
       "\n",
       "    .dataframe thead th {\n",
       "        text-align: right;\n",
       "    }\n",
       "</style>\n",
       "<table border=\"1\" class=\"dataframe\">\n",
       "  <thead>\n",
       "    <tr style=\"text-align: right;\">\n",
       "      <th></th>\n",
       "      <th>user_id</th>\n",
       "      <th>isbn</th>\n",
       "      <th>rating</th>\n",
       "      <th>count</th>\n",
       "    </tr>\n",
       "  </thead>\n",
       "  <tbody>\n",
       "    <tr>\n",
       "      <th>0</th>\n",
       "      <td>8</td>\n",
       "      <td>0002005018</td>\n",
       "      <td>4</td>\n",
       "      <td>7.0</td>\n",
       "    </tr>\n",
       "    <tr>\n",
       "      <th>1</th>\n",
       "      <td>67544</td>\n",
       "      <td>0002005018</td>\n",
       "      <td>7</td>\n",
       "      <td>7.0</td>\n",
       "    </tr>\n",
       "    <tr>\n",
       "      <th>2</th>\n",
       "      <td>210926</td>\n",
       "      <td>0002005018</td>\n",
       "      <td>9</td>\n",
       "      <td>5.0</td>\n",
       "    </tr>\n",
       "    <tr>\n",
       "      <th>3</th>\n",
       "      <td>219008</td>\n",
       "      <td>0002005018</td>\n",
       "      <td>7</td>\n",
       "      <td>26.0</td>\n",
       "    </tr>\n",
       "    <tr>\n",
       "      <th>4</th>\n",
       "      <td>263325</td>\n",
       "      <td>0002005018</td>\n",
       "      <td>5</td>\n",
       "      <td>40.0</td>\n",
       "    </tr>\n",
       "    <tr>\n",
       "      <th>...</th>\n",
       "      <td>...</td>\n",
       "      <td>...</td>\n",
       "      <td>...</td>\n",
       "      <td>...</td>\n",
       "    </tr>\n",
       "    <tr>\n",
       "      <th>272173</th>\n",
       "      <td>278843</td>\n",
       "      <td>0743525493</td>\n",
       "      <td>7</td>\n",
       "      <td>13.0</td>\n",
       "    </tr>\n",
       "    <tr>\n",
       "      <th>272174</th>\n",
       "      <td>278851</td>\n",
       "      <td>067161746X</td>\n",
       "      <td>6</td>\n",
       "      <td>12.0</td>\n",
       "    </tr>\n",
       "    <tr>\n",
       "      <th>272175</th>\n",
       "      <td>278851</td>\n",
       "      <td>0884159221</td>\n",
       "      <td>7</td>\n",
       "      <td>12.0</td>\n",
       "    </tr>\n",
       "    <tr>\n",
       "      <th>272176</th>\n",
       "      <td>278851</td>\n",
       "      <td>0912333022</td>\n",
       "      <td>7</td>\n",
       "      <td>12.0</td>\n",
       "    </tr>\n",
       "    <tr>\n",
       "      <th>272177</th>\n",
       "      <td>278851</td>\n",
       "      <td>1569661057</td>\n",
       "      <td>10</td>\n",
       "      <td>12.0</td>\n",
       "    </tr>\n",
       "  </tbody>\n",
       "</table>\n",
       "<p>272178 rows × 4 columns</p>\n",
       "</div>"
      ],
      "text/plain": [
       "        user_id        isbn  rating  count\n",
       "0             8  0002005018       4    7.0\n",
       "1         67544  0002005018       7    7.0\n",
       "2        210926  0002005018       9    5.0\n",
       "3        219008  0002005018       7   26.0\n",
       "4        263325  0002005018       5   40.0\n",
       "...         ...         ...     ...    ...\n",
       "272173   278843  0743525493       7   13.0\n",
       "272174   278851  067161746X       6   12.0\n",
       "272175   278851  0884159221       7   12.0\n",
       "272176   278851  0912333022       7   12.0\n",
       "272177   278851  1569661057      10   12.0\n",
       "\n",
       "[272178 rows x 4 columns]"
      ]
     },
     "execution_count": 242,
     "metadata": {},
     "output_type": "execute_result"
    }
   ],
   "source": [
    "ratings"
   ]
  },
  {
   "cell_type": "code",
   "execution_count": 241,
   "id": "57733a36-cf1e-4332-9d29-04f1d8629f0e",
   "metadata": {},
   "outputs": [
    {
     "data": {
      "text/plain": [
       "272178"
      ]
     },
     "execution_count": 241,
     "metadata": {},
     "output_type": "execute_result"
    }
   ],
   "source": [
    "len(ratings)"
   ]
  },
  {
   "cell_type": "code",
   "execution_count": null,
   "id": "0b47108b-8045-446e-950c-2e14e45f9408",
   "metadata": {},
   "outputs": [],
   "source": [
    "r"
   ]
  }
 ],
 "metadata": {
  "kernelspec": {
   "display_name": "Python 3",
   "language": "python",
   "name": "python3"
  },
  "language_info": {
   "codemirror_mode": {
    "name": "ipython",
    "version": 3
   },
   "file_extension": ".py",
   "mimetype": "text/x-python",
   "name": "python",
   "nbconvert_exporter": "python",
   "pygments_lexer": "ipython3",
   "version": "3.8.5"
  }
 },
 "nbformat": 4,
 "nbformat_minor": 5
}
