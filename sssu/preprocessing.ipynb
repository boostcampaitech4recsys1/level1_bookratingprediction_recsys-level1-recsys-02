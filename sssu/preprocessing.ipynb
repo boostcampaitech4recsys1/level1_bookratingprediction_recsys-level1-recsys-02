{
 "cells": [
  {
   "cell_type": "code",
   "execution_count": 1,
   "id": "4795eac4-a4e7-4b50-ae80-a11bef85db90",
   "metadata": {},
   "outputs": [
    {
     "name": "stdout",
     "output_type": "stream",
     "text": [
      "/opt/ml/input/code\n"
     ]
    }
   ],
   "source": [
    "!pwd"
   ]
  },
  {
   "cell_type": "code",
   "execution_count": 121,
   "id": "a3a15165-282f-4ddf-bf71-4c82479d1e6e",
   "metadata": {},
   "outputs": [
    {
     "name": "stdout",
     "output_type": "stream",
     "text": [
      "Collecting seaborn\n",
      "  Downloading seaborn-0.12.1-py3-none-any.whl (288 kB)\n",
      "\u001b[K     |████████████████████████████████| 288 kB 21.5 MB/s eta 0:00:01\n",
      "\u001b[?25hCollecting matplotlib!=3.6.1,>=3.1\n",
      "  Downloading matplotlib-3.6.0-cp38-cp38-manylinux_2_12_x86_64.manylinux2010_x86_64.whl (9.4 MB)\n",
      "\u001b[K     |████████████████████████████████| 9.4 MB 75.5 MB/s eta 0:00:01\n",
      "\u001b[?25hRequirement already satisfied: numpy>=1.17 in /opt/conda/lib/python3.8/site-packages (from seaborn) (1.23.4)\n",
      "Requirement already satisfied: pandas>=0.25 in /opt/conda/lib/python3.8/site-packages (from seaborn) (1.5.1)\n",
      "Requirement already satisfied: pillow>=6.2.0 in /opt/conda/lib/python3.8/site-packages (from matplotlib!=3.6.1,>=3.1->seaborn) (8.1.0)\n",
      "Collecting kiwisolver>=1.0.1\n",
      "  Downloading kiwisolver-1.4.4-cp38-cp38-manylinux_2_5_x86_64.manylinux1_x86_64.whl (1.2 MB)\n",
      "\u001b[K     |████████████████████████████████| 1.2 MB 71.5 MB/s eta 0:00:01\n",
      "\u001b[?25hCollecting cycler>=0.10\n",
      "  Downloading cycler-0.11.0-py3-none-any.whl (6.4 kB)\n",
      "Collecting contourpy>=1.0.1\n",
      "  Downloading contourpy-1.0.5-cp38-cp38-manylinux_2_17_x86_64.manylinux2014_x86_64.whl (295 kB)\n",
      "\u001b[K     |████████████████████████████████| 295 kB 78.0 MB/s eta 0:00:01\n",
      "\u001b[?25hRequirement already satisfied: pyparsing>=2.2.1 in /opt/conda/lib/python3.8/site-packages (from matplotlib!=3.6.1,>=3.1->seaborn) (3.0.9)\n",
      "Collecting fonttools>=4.22.0\n",
      "  Downloading fonttools-4.38.0-py3-none-any.whl (965 kB)\n",
      "\u001b[K     |████████████████████████████████| 965 kB 72.8 MB/s eta 0:00:01\n",
      "\u001b[?25hRequirement already satisfied: python-dateutil>=2.7 in /opt/conda/lib/python3.8/site-packages (from matplotlib!=3.6.1,>=3.1->seaborn) (2.8.2)\n",
      "Requirement already satisfied: packaging>=20.0 in /opt/conda/lib/python3.8/site-packages (from matplotlib!=3.6.1,>=3.1->seaborn) (21.3)\n",
      "Requirement already satisfied: pytz>=2020.1 in /opt/conda/lib/python3.8/site-packages (from pandas>=0.25->seaborn) (2020.5)\n",
      "Requirement already satisfied: six>=1.5 in /opt/conda/lib/python3.8/site-packages (from python-dateutil>=2.7->matplotlib!=3.6.1,>=3.1->seaborn) (1.15.0)\n",
      "Installing collected packages: kiwisolver, cycler, contourpy, fonttools, matplotlib, seaborn\n",
      "Successfully installed contourpy-1.0.5 cycler-0.11.0 fonttools-4.38.0 kiwisolver-1.4.4 matplotlib-3.6.0 seaborn-0.12.1\n"
     ]
    }
   ],
   "source": [
    "!pip install seaborn"
   ]
  },
  {
   "cell_type": "code",
   "execution_count": 122,
   "id": "5993dacd-86ae-4ff0-909b-a730b9860169",
   "metadata": {},
   "outputs": [],
   "source": [
    "import pandas as pd\n",
    "import numpy as np\n",
    "import re\n",
    "import seaborn as sns"
   ]
  },
  {
   "cell_type": "code",
   "execution_count": 217,
   "id": "5af69fb0-207f-4d27-b81c-aeda77323ec7",
   "metadata": {},
   "outputs": [],
   "source": [
    "# users = pd.read_csv('./data/users.csv')\n",
    "books = pd.read_csv(\"./data/books.csv\", encoding='utf-8')\n",
    "# ratings = pd.read_csv('./data/train_ratings.csv')\n",
    "# test = pd.read_csv('./data/test_ratings.csv')"
   ]
  },
  {
   "cell_type": "code",
   "execution_count": 7,
   "id": "837c4171-b2b4-4b3d-9d8c-0e110c032e8e",
   "metadata": {},
   "outputs": [
    {
     "data": {
      "text/html": [
       "<div>\n",
       "<style scoped>\n",
       "    .dataframe tbody tr th:only-of-type {\n",
       "        vertical-align: middle;\n",
       "    }\n",
       "\n",
       "    .dataframe tbody tr th {\n",
       "        vertical-align: top;\n",
       "    }\n",
       "\n",
       "    .dataframe thead th {\n",
       "        text-align: right;\n",
       "    }\n",
       "</style>\n",
       "<table border=\"1\" class=\"dataframe\">\n",
       "  <thead>\n",
       "    <tr style=\"text-align: right;\">\n",
       "      <th></th>\n",
       "      <th>user_id</th>\n",
       "      <th>location</th>\n",
       "      <th>age</th>\n",
       "    </tr>\n",
       "  </thead>\n",
       "  <tbody>\n",
       "    <tr>\n",
       "      <th>0</th>\n",
       "      <td>8</td>\n",
       "      <td>timmins, ontario, canada</td>\n",
       "      <td>NaN</td>\n",
       "    </tr>\n",
       "    <tr>\n",
       "      <th>1</th>\n",
       "      <td>11400</td>\n",
       "      <td>ottawa, ontario, canada</td>\n",
       "      <td>49.0</td>\n",
       "    </tr>\n",
       "    <tr>\n",
       "      <th>2</th>\n",
       "      <td>11676</td>\n",
       "      <td>n/a, n/a, n/a</td>\n",
       "      <td>NaN</td>\n",
       "    </tr>\n",
       "    <tr>\n",
       "      <th>3</th>\n",
       "      <td>67544</td>\n",
       "      <td>toronto, ontario, canada</td>\n",
       "      <td>30.0</td>\n",
       "    </tr>\n",
       "    <tr>\n",
       "      <th>4</th>\n",
       "      <td>85526</td>\n",
       "      <td>victoria, british columbia, canada</td>\n",
       "      <td>36.0</td>\n",
       "    </tr>\n",
       "    <tr>\n",
       "      <th>...</th>\n",
       "      <td>...</td>\n",
       "      <td>...</td>\n",
       "      <td>...</td>\n",
       "    </tr>\n",
       "    <tr>\n",
       "      <th>68087</th>\n",
       "      <td>278376</td>\n",
       "      <td>danville, pennsylvania, usa</td>\n",
       "      <td>54.0</td>\n",
       "    </tr>\n",
       "    <tr>\n",
       "      <th>68088</th>\n",
       "      <td>278621</td>\n",
       "      <td>victoria, delaware, canada</td>\n",
       "      <td>74.0</td>\n",
       "    </tr>\n",
       "    <tr>\n",
       "      <th>68089</th>\n",
       "      <td>278636</td>\n",
       "      <td>irvington, alabama, usa</td>\n",
       "      <td>NaN</td>\n",
       "    </tr>\n",
       "    <tr>\n",
       "      <th>68090</th>\n",
       "      <td>278659</td>\n",
       "      <td>vancouver, washington, usa</td>\n",
       "      <td>33.0</td>\n",
       "    </tr>\n",
       "    <tr>\n",
       "      <th>68091</th>\n",
       "      <td>278713</td>\n",
       "      <td>albuquerque, new mexico, usa</td>\n",
       "      <td>63.0</td>\n",
       "    </tr>\n",
       "  </tbody>\n",
       "</table>\n",
       "<p>68092 rows × 3 columns</p>\n",
       "</div>"
      ],
      "text/plain": [
       "       user_id                            location   age\n",
       "0            8            timmins, ontario, canada   NaN\n",
       "1        11400             ottawa, ontario, canada  49.0\n",
       "2        11676                       n/a, n/a, n/a   NaN\n",
       "3        67544            toronto, ontario, canada  30.0\n",
       "4        85526  victoria, british columbia, canada  36.0\n",
       "...        ...                                 ...   ...\n",
       "68087   278376         danville, pennsylvania, usa  54.0\n",
       "68088   278621          victoria, delaware, canada  74.0\n",
       "68089   278636             irvington, alabama, usa   NaN\n",
       "68090   278659          vancouver, washington, usa  33.0\n",
       "68091   278713        albuquerque, new mexico, usa  63.0\n",
       "\n",
       "[68092 rows x 3 columns]"
      ]
     },
     "execution_count": 7,
     "metadata": {},
     "output_type": "execute_result"
    }
   ],
   "source": [
    "users"
   ]
  },
  {
   "cell_type": "markdown",
   "id": "0d2ebd7f-cbc0-42f0-939f-caadbb29973e",
   "metadata": {},
   "source": [
    "# USERS\n",
    "- AGE column은 삭제합니다"
   ]
  },
  {
   "cell_type": "code",
   "execution_count": 23,
   "id": "3ca9916c-5e9a-41ac-a016-c093a923c0fa",
   "metadata": {},
   "outputs": [
    {
     "data": {
      "text/plain": [
       "68092"
      ]
     },
     "execution_count": 23,
     "metadata": {},
     "output_type": "execute_result"
    }
   ],
   "source": [
    "users['user_id'].nunique()"
   ]
  },
  {
   "cell_type": "markdown",
   "id": "e95ea497-f602-4a3a-a80f-04d38f583af1",
   "metadata": {},
   "source": [
    "#### AGE COLUMN 삭제"
   ]
  },
  {
   "cell_type": "code",
   "execution_count": 24,
   "id": "75524bc8-bff7-4bae-9798-2fcc27d263dc",
   "metadata": {},
   "outputs": [
    {
     "data": {
      "text/plain": [
       "user_id         0\n",
       "location        0\n",
       "age         27833\n",
       "dtype: int64"
      ]
     },
     "execution_count": 24,
     "metadata": {},
     "output_type": "execute_result"
    }
   ],
   "source": [
    "users.isna().sum()"
   ]
  },
  {
   "cell_type": "code",
   "execution_count": 25,
   "id": "8932749f-a9f3-4158-b7f4-33bc3c0e6254",
   "metadata": {},
   "outputs": [],
   "source": [
    "users = users.drop('age', axis=1)"
   ]
  },
  {
   "cell_type": "markdown",
   "id": "85844388-270d-429e-b51f-37889106d464",
   "metadata": {},
   "source": [
    "## LOCATION"
   ]
  },
  {
   "cell_type": "code",
   "execution_count": 26,
   "id": "e3fea8f9-94ba-403d-bf27-9883ea516b51",
   "metadata": {},
   "outputs": [
    {
     "name": "stderr",
     "output_type": "stream",
     "text": [
      "/tmp/ipykernel_12168/1343807041.py:3: FutureWarning: The default value of regex will change from True to False in a future version.\n",
      "  users['location'] = users['location'].str.replace(r'[^0-9a-zA-Z:,]', '') # 특수문자 제거\n"
     ]
    }
   ],
   "source": [
    "# USERS에서 location을 location country, city, state로 나눠줌\n",
    "\n",
    "users['location'] = users['location'].str.replace(r'[^0-9a-zA-Z:,]', '') # 특수문자 제거\n",
    "\n",
    "users['location_city'] = users['location'].apply(lambda x: x.split(',')[0].strip())\n",
    "users['location_state'] = users['location'].apply(lambda x: x.split(',')[1].strip())\n",
    "users['location_country'] = users['location'].apply(lambda x: x.split(',')[2].strip())\n",
    "\n",
    "users = users.replace('na', np.nan) #특수문자 제거로 n/a가 na로 바뀌게 되었습니다. 따라서 이를 컴퓨터가 인식할 수 있는 결측값으로 변환합니다.\n",
    "users = users.replace('', np.nan) # 일부 경우 , , ,으로 입력된 경우가 있었으므로 이런 경우에도 결측값으로 변환합니다.\n",
    "\n",
    "modify_location = users[(users['location_country'].isna())&(users['location_city'].notnull())]['location_city'].values\n",
    "location = users[(users['location'].str.contains('seattle'))&(users['location_country'].notnull())]['location'].value_counts().index[0]\n",
    "\n",
    "location_list = []\n",
    "for location in modify_location:\n",
    "    try:\n",
    "        right_location = users[(users['location'].str.contains(location))&(users['location_country'].notnull())]['location'].value_counts().index[0]\n",
    "        location_list.append(right_location)\n",
    "    except:\n",
    "        pass\n",
    "    \n",
    "for location in location_list:\n",
    "    users.loc[users[users['location_city']==location.split(',')[0]].index,'location_state'] = location.split(',')[1]\n",
    "    users.loc[users[users['location_city']==location.split(',')[0]].index,'location_country'] = location.split(',')[2]"
   ]
  },
  {
   "cell_type": "code",
   "execution_count": 27,
   "id": "1317f7d7-c898-4946-8092-5db02a9f04de",
   "metadata": {},
   "outputs": [
    {
     "data": {
      "text/plain": [
       "user_id                0\n",
       "location               0\n",
       "location_city        122\n",
       "location_state      1132\n",
       "location_country     271\n",
       "dtype: int64"
      ]
     },
     "execution_count": 27,
     "metadata": {},
     "output_type": "execute_result"
    }
   ],
   "source": [
    "users.isna().sum()"
   ]
  },
  {
   "cell_type": "markdown",
   "id": "53bf2cd1-b2a1-47bb-8f03-7e5049b5dd60",
   "metadata": {},
   "source": [
    "#### location state, city, country가 na인 애들 날려줌 (왜냐! 몇개없음)"
   ]
  },
  {
   "cell_type": "code",
   "execution_count": 28,
   "id": "2573af9f-00b6-4c37-b472-9f8a99eca462",
   "metadata": {},
   "outputs": [],
   "source": [
    "users = users.dropna(subset=['location_state', 'location_city', 'location_country']).reset_index(drop=True)"
   ]
  },
  {
   "cell_type": "markdown",
   "id": "61e54b74-fee4-4ff0-9bf1-3b4db641bba3",
   "metadata": {},
   "source": [
    "#### locationcolumn도 날려줌 (분리했으니까)"
   ]
  },
  {
   "cell_type": "code",
   "execution_count": 29,
   "id": "5b5ce431-ddea-4836-b277-496b09352ec5",
   "metadata": {},
   "outputs": [],
   "source": [
    "users = users.drop('location', axis=1)"
   ]
  },
  {
   "cell_type": "markdown",
   "id": "7b0a951e-3ee2-424a-a0cb-091f590d7871",
   "metadata": {},
   "source": [
    "### location country에서 이상한 애들 확인"
   ]
  },
  {
   "cell_type": "code",
   "execution_count": 30,
   "id": "4928462f-3e47-4166-9bc7-6c4b66caa8b1",
   "metadata": {},
   "outputs": [
    {
     "data": {
      "text/plain": [
       "1"
      ]
     },
     "execution_count": 30,
     "metadata": {},
     "output_type": "execute_result"
    }
   ],
   "source": [
    "min(users['location_country'].apply(len))"
   ]
  },
  {
   "cell_type": "markdown",
   "id": "b0167d0d-ba61-43da-9ccb-3fdc8f5359ce",
   "metadata": {},
   "source": [
    "#### location_country가 이상한 애들은 직접 수정해드렸습니다^^"
   ]
  },
  {
   "cell_type": "code",
   "execution_count": 31,
   "id": "5d25c739-b113-492b-8085-baa3de54bbff",
   "metadata": {},
   "outputs": [
    {
     "data": {
      "text/html": [
       "<div>\n",
       "<style scoped>\n",
       "    .dataframe tbody tr th:only-of-type {\n",
       "        vertical-align: middle;\n",
       "    }\n",
       "\n",
       "    .dataframe tbody tr th {\n",
       "        vertical-align: top;\n",
       "    }\n",
       "\n",
       "    .dataframe thead th {\n",
       "        text-align: right;\n",
       "    }\n",
       "</style>\n",
       "<table border=\"1\" class=\"dataframe\">\n",
       "  <thead>\n",
       "    <tr style=\"text-align: right;\">\n",
       "      <th></th>\n",
       "      <th>user_id</th>\n",
       "      <th>location_city</th>\n",
       "      <th>location_state</th>\n",
       "      <th>location_country</th>\n",
       "    </tr>\n",
       "  </thead>\n",
       "  <tbody>\n",
       "    <tr>\n",
       "      <th>44506</th>\n",
       "      <td>41195</td>\n",
       "      <td>c</td>\n",
       "      <td>c</td>\n",
       "      <td>c</td>\n",
       "    </tr>\n",
       "  </tbody>\n",
       "</table>\n",
       "</div>"
      ],
      "text/plain": [
       "       user_id location_city location_state location_country\n",
       "44506    41195             c              c                c"
      ]
     },
     "execution_count": 31,
     "metadata": {},
     "output_type": "execute_result"
    }
   ],
   "source": [
    "users[users['location_country'].apply(len)==1]"
   ]
  },
  {
   "cell_type": "code",
   "execution_count": 72,
   "id": "a212f566-9b60-4536-aabe-6afa42107ce2",
   "metadata": {},
   "outputs": [
    {
     "data": {
      "text/html": [
       "<div>\n",
       "<style scoped>\n",
       "    .dataframe tbody tr th:only-of-type {\n",
       "        vertical-align: middle;\n",
       "    }\n",
       "\n",
       "    .dataframe tbody tr th {\n",
       "        vertical-align: top;\n",
       "    }\n",
       "\n",
       "    .dataframe thead th {\n",
       "        text-align: right;\n",
       "    }\n",
       "</style>\n",
       "<table border=\"1\" class=\"dataframe\">\n",
       "  <thead>\n",
       "    <tr style=\"text-align: right;\">\n",
       "      <th></th>\n",
       "      <th>user_id</th>\n",
       "      <th>location_city</th>\n",
       "      <th>location_state</th>\n",
       "      <th>location_country</th>\n",
       "    </tr>\n",
       "  </thead>\n",
       "  <tbody>\n",
       "  </tbody>\n",
       "</table>\n",
       "</div>"
      ],
      "text/plain": [
       "Empty DataFrame\n",
       "Columns: [user_id, location_city, location_state, location_country]\n",
       "Index: []"
      ]
     },
     "execution_count": 72,
     "metadata": {},
     "output_type": "execute_result"
    }
   ],
   "source": [
    "# 너무 더러운데.. 어쩌지\n",
    "users[users['location_country']=='']"
   ]
  },
  {
   "cell_type": "code",
   "execution_count": 106,
   "id": "fbe9eeac-a145-4df5-8104-1da3bdebd88d",
   "metadata": {},
   "outputs": [],
   "source": [
    "country_fix_dict = {'usa': {'oklahoma','districtofcolumbia', 'connecticut', 'worcester', 'aroostook', 'texas',  'kern', 'orangeco', 'unitedstatesofamerica', 'fortbend', 'alachua', 'massachusetts', 'arizona', 'austin', 'hawaii', 'ohio', 'camden', 'arkansas', 'minnesota', 'losestadosunidosdenorteamerica', 'us', 'usanow', 'northcarolina', 'maine', 'colorado','oklahoma', 'alabama', 'anystate', 'districtofcolumbia', 'unitedstaes', 'pender', 'newhampshire', 'unitedstates', 'missouri', 'idaho', 'ca', 'newyork','tennessee', 'stthomasi', 'dc', 'washington', 'illinois', 'california', 'michigan', 'iowa', 'maryland', 'newjersey', 'vanwert', 'oregon'},\n",
    "                    'uk': {'alderney', 'wales',  'aberdeenshire', 'bermuda', 'nottinghamshire', 'scotland', 'usacurrentlylivinginengland', 'england', 'countycork', 'alderney', 'cambridgeshire', 'middlesex', 'northyorkshire', 'westyorkshire', 'cocarlow', 'sthelena'},\n",
    "                    'japan': {'okinawa'},\n",
    "                    'southkorea': {'seoul'},\n",
    "                    'canada': {'ontario', 'alberta', 'novascotia', 'newfoundland', 'newbrunswick', 'britishcolumbia'},\n",
    "                    'miyanma': {'burma'},\n",
    "                    'newzealand': {'auckland', 'nz', 'otago'},\n",
    "                    'spain': {'andalucia','pontevedra', 'gipuzkoa', 'lleida', 'catalunyaspain', 'galiza', 'espaa'},\n",
    "                    'germany': {'niedersachsen', 'deutschland'},\n",
    "                    'brazil': {'disritofederal'},\n",
    "                    'switzerland': {'lasuisse'},\n",
    "                    'italy': {'veneziagiulia', 'ferrara', 'italia'},\n",
    "                    'australia': {'nsw', 'queensland', 'newsouthwales'},\n",
    "                    'belgium': {'labelgique', 'bergued'},\n",
    "                    'uruguay': {'urugua'},\n",
    "                    'panama': {'republicofpanama'}\n",
    "                   }\n",
    "country_del_list = ['c', 'space', 'universe', 'unknown', 'quit', 'tdzimi', 'universe', 'tn', 'unknown', 'space', 'c', 'franciscomorazan', 'petrolwarnation', 'ineurope', 'hereandthere', 'faraway']"
   ]
  },
  {
   "cell_type": "code",
   "execution_count": 107,
   "id": "41b707d6-3028-4694-a574-6438df3cff09",
   "metadata": {},
   "outputs": [
    {
     "data": {
      "text/html": [
       "<div>\n",
       "<style scoped>\n",
       "    .dataframe tbody tr th:only-of-type {\n",
       "        vertical-align: middle;\n",
       "    }\n",
       "\n",
       "    .dataframe tbody tr th {\n",
       "        vertical-align: top;\n",
       "    }\n",
       "\n",
       "    .dataframe thead th {\n",
       "        text-align: right;\n",
       "    }\n",
       "</style>\n",
       "<table border=\"1\" class=\"dataframe\">\n",
       "  <thead>\n",
       "    <tr style=\"text-align: right;\">\n",
       "      <th></th>\n",
       "      <th>user_id</th>\n",
       "      <th>location_city</th>\n",
       "      <th>location_state</th>\n",
       "      <th>location_country</th>\n",
       "    </tr>\n",
       "  </thead>\n",
       "  <tbody>\n",
       "    <tr>\n",
       "      <th>0</th>\n",
       "      <td>8</td>\n",
       "      <td>timmins</td>\n",
       "      <td>ontario</td>\n",
       "      <td>canada</td>\n",
       "    </tr>\n",
       "    <tr>\n",
       "      <th>1</th>\n",
       "      <td>11400</td>\n",
       "      <td>ottawa</td>\n",
       "      <td>ontario</td>\n",
       "      <td>canada</td>\n",
       "    </tr>\n",
       "    <tr>\n",
       "      <th>2</th>\n",
       "      <td>67544</td>\n",
       "      <td>toronto</td>\n",
       "      <td>ontario</td>\n",
       "      <td>canada</td>\n",
       "    </tr>\n",
       "    <tr>\n",
       "      <th>3</th>\n",
       "      <td>85526</td>\n",
       "      <td>victoria</td>\n",
       "      <td>britishcolumbia</td>\n",
       "      <td>canada</td>\n",
       "    </tr>\n",
       "    <tr>\n",
       "      <th>4</th>\n",
       "      <td>96054</td>\n",
       "      <td>ottawa</td>\n",
       "      <td>ontario</td>\n",
       "      <td>canada</td>\n",
       "    </tr>\n",
       "    <tr>\n",
       "      <th>...</th>\n",
       "      <td>...</td>\n",
       "      <td>...</td>\n",
       "      <td>...</td>\n",
       "      <td>...</td>\n",
       "    </tr>\n",
       "    <tr>\n",
       "      <th>66785</th>\n",
       "      <td>278376</td>\n",
       "      <td>danville</td>\n",
       "      <td>california</td>\n",
       "      <td>usa</td>\n",
       "    </tr>\n",
       "    <tr>\n",
       "      <th>66786</th>\n",
       "      <td>278621</td>\n",
       "      <td>victoria</td>\n",
       "      <td>delaware</td>\n",
       "      <td>canada</td>\n",
       "    </tr>\n",
       "    <tr>\n",
       "      <th>66787</th>\n",
       "      <td>278636</td>\n",
       "      <td>irvington</td>\n",
       "      <td>alabama</td>\n",
       "      <td>usa</td>\n",
       "    </tr>\n",
       "    <tr>\n",
       "      <th>66788</th>\n",
       "      <td>278659</td>\n",
       "      <td>vancouver</td>\n",
       "      <td>britishcolumbia</td>\n",
       "      <td>canada</td>\n",
       "    </tr>\n",
       "    <tr>\n",
       "      <th>66789</th>\n",
       "      <td>278713</td>\n",
       "      <td>albuquerque</td>\n",
       "      <td>newmexico</td>\n",
       "      <td>usa</td>\n",
       "    </tr>\n",
       "  </tbody>\n",
       "</table>\n",
       "<p>66790 rows × 4 columns</p>\n",
       "</div>"
      ],
      "text/plain": [
       "       user_id location_city   location_state location_country\n",
       "0            8       timmins          ontario           canada\n",
       "1        11400        ottawa          ontario           canada\n",
       "2        67544       toronto          ontario           canada\n",
       "3        85526      victoria  britishcolumbia           canada\n",
       "4        96054        ottawa          ontario           canada\n",
       "...        ...           ...              ...              ...\n",
       "66785   278376      danville       california              usa\n",
       "66786   278621      victoria         delaware           canada\n",
       "66787   278636     irvington          alabama              usa\n",
       "66788   278659     vancouver  britishcolumbia           canada\n",
       "66789   278713   albuquerque        newmexico              usa\n",
       "\n",
       "[66790 rows x 4 columns]"
      ]
     },
     "execution_count": 107,
     "metadata": {},
     "output_type": "execute_result"
    }
   ],
   "source": [
    "users"
   ]
  },
  {
   "cell_type": "code",
   "execution_count": 108,
   "id": "d438cd33-0bab-4dd6-8221-d9f1e00bae1b",
   "metadata": {},
   "outputs": [],
   "source": [
    "del_idx = []\n",
    "for idx, row in enumerate(users['location_country']):\n",
    "    for key, value in country_fix_dict.items():\n",
    "        if row in value:\n",
    "            users.at[idx, 'location_country'] = key\n",
    "    if row in country_del_list:\n",
    "        del_idx.append(idx)"
   ]
  },
  {
   "cell_type": "code",
   "execution_count": 109,
   "id": "cb576115-c152-4368-953e-643d08c98f53",
   "metadata": {},
   "outputs": [],
   "source": [
    "users = users.drop(del_idx, axis=0).reset_index(drop=True)"
   ]
  },
  {
   "cell_type": "markdown",
   "id": "ba6110b8-9218-4583-86be-ce7eef9a8a2c",
   "metadata": {},
   "source": [
    "#### location_state 맛만 보겠습니다"
   ]
  },
  {
   "cell_type": "code",
   "execution_count": 118,
   "id": "9dbe4b49-3fd7-4da4-92f4-f63a226849b7",
   "metadata": {},
   "outputs": [
    {
     "data": {
      "text/plain": [
       "california         6873\n",
       "ontario            2504\n",
       "texas              2504\n",
       "newyork            2398\n",
       "england            2230\n",
       "                   ... \n",
       "grancanaria           1\n",
       "vallsoccidental       1\n",
       "soria                 1\n",
       "galway                1\n",
       "ccp                   1\n",
       "Name: location_state, Length: 1298, dtype: int64"
      ]
     },
     "execution_count": 118,
     "metadata": {},
     "output_type": "execute_result"
    }
   ],
   "source": [
    "users['location_state'].value_counts()"
   ]
  },
  {
   "cell_type": "markdown",
   "id": "02f2d553-8f91-43c3-b301-400c6be9e80b",
   "metadata": {},
   "source": [
    "#### location_city 날립니다\n",
    "- location_state를 날리고 싶다면 알아서 하세요"
   ]
  },
  {
   "cell_type": "code",
   "execution_count": 155,
   "id": "08373b6b-845f-4bac-85e5-e8f48a333ac2",
   "metadata": {},
   "outputs": [],
   "source": [
    "# 날릴까 말까 => state를 날리고 싶다면 주석 푸세요\n",
    "# users = users.drop('location_state', axis=1)\n",
    "users = users.drop('location_city', axis=1)"
   ]
  },
  {
   "cell_type": "code",
   "execution_count": 156,
   "id": "6ead51fb-0908-4ada-b2e1-bcde518d95b7",
   "metadata": {},
   "outputs": [
    {
     "data": {
      "text/html": [
       "<div>\n",
       "<style scoped>\n",
       "    .dataframe tbody tr th:only-of-type {\n",
       "        vertical-align: middle;\n",
       "    }\n",
       "\n",
       "    .dataframe tbody tr th {\n",
       "        vertical-align: top;\n",
       "    }\n",
       "\n",
       "    .dataframe thead th {\n",
       "        text-align: right;\n",
       "    }\n",
       "</style>\n",
       "<table border=\"1\" class=\"dataframe\">\n",
       "  <thead>\n",
       "    <tr style=\"text-align: right;\">\n",
       "      <th></th>\n",
       "      <th>user_id</th>\n",
       "      <th>location_state</th>\n",
       "      <th>location_country</th>\n",
       "    </tr>\n",
       "  </thead>\n",
       "  <tbody>\n",
       "    <tr>\n",
       "      <th>0</th>\n",
       "      <td>8</td>\n",
       "      <td>ontario</td>\n",
       "      <td>canada</td>\n",
       "    </tr>\n",
       "    <tr>\n",
       "      <th>1</th>\n",
       "      <td>11400</td>\n",
       "      <td>ontario</td>\n",
       "      <td>canada</td>\n",
       "    </tr>\n",
       "    <tr>\n",
       "      <th>2</th>\n",
       "      <td>67544</td>\n",
       "      <td>ontario</td>\n",
       "      <td>canada</td>\n",
       "    </tr>\n",
       "    <tr>\n",
       "      <th>3</th>\n",
       "      <td>85526</td>\n",
       "      <td>britishcolumbia</td>\n",
       "      <td>canada</td>\n",
       "    </tr>\n",
       "    <tr>\n",
       "      <th>4</th>\n",
       "      <td>96054</td>\n",
       "      <td>ontario</td>\n",
       "      <td>canada</td>\n",
       "    </tr>\n",
       "    <tr>\n",
       "      <th>...</th>\n",
       "      <td>...</td>\n",
       "      <td>...</td>\n",
       "      <td>...</td>\n",
       "    </tr>\n",
       "    <tr>\n",
       "      <th>66785</th>\n",
       "      <td>278376</td>\n",
       "      <td>california</td>\n",
       "      <td>usa</td>\n",
       "    </tr>\n",
       "    <tr>\n",
       "      <th>66786</th>\n",
       "      <td>278621</td>\n",
       "      <td>delaware</td>\n",
       "      <td>canada</td>\n",
       "    </tr>\n",
       "    <tr>\n",
       "      <th>66787</th>\n",
       "      <td>278636</td>\n",
       "      <td>alabama</td>\n",
       "      <td>usa</td>\n",
       "    </tr>\n",
       "    <tr>\n",
       "      <th>66788</th>\n",
       "      <td>278659</td>\n",
       "      <td>britishcolumbia</td>\n",
       "      <td>canada</td>\n",
       "    </tr>\n",
       "    <tr>\n",
       "      <th>66789</th>\n",
       "      <td>278713</td>\n",
       "      <td>newmexico</td>\n",
       "      <td>usa</td>\n",
       "    </tr>\n",
       "  </tbody>\n",
       "</table>\n",
       "<p>66790 rows × 3 columns</p>\n",
       "</div>"
      ],
      "text/plain": [
       "       user_id   location_state location_country\n",
       "0            8          ontario           canada\n",
       "1        11400          ontario           canada\n",
       "2        67544          ontario           canada\n",
       "3        85526  britishcolumbia           canada\n",
       "4        96054          ontario           canada\n",
       "...        ...              ...              ...\n",
       "66785   278376       california              usa\n",
       "66786   278621         delaware           canada\n",
       "66787   278636          alabama              usa\n",
       "66788   278659  britishcolumbia           canada\n",
       "66789   278713        newmexico              usa\n",
       "\n",
       "[66790 rows x 3 columns]"
      ]
     },
     "execution_count": 156,
     "metadata": {},
     "output_type": "execute_result"
    }
   ],
   "source": [
    "users"
   ]
  },
  {
   "cell_type": "markdown",
   "id": "20f338bc-abc4-40ec-a150-5afe952cd645",
   "metadata": {},
   "source": [
    "# BOOKS\n",
    "- summary : 날리자! 사유는 언어가 다 다른데 이거 모델에 넣고 돌리기 too much 노동 크롤링 하면 안 되니까 할 수 없다..가 의견입니다.\n",
    "- year_of_publication : float -> int\n",
    "- category : 보류\n",
    "- language : isbn 코드로 채워주자\n",
    "  https://en.wikipedia.org/wiki/List_of_ISBN_registration_groups"
   ]
  },
  {
   "cell_type": "code",
   "execution_count": 220,
   "id": "62379952-b751-4c46-933d-11d123e4fd65",
   "metadata": {},
   "outputs": [],
   "source": [
    "# float이라서 int로 바꿔줌\n",
    "books['year_of_publication'] = books['year_of_publication'].astype(int)"
   ]
  },
  {
   "cell_type": "markdown",
   "id": "83678b86-c847-48ba-92d6-1996150106ba",
   "metadata": {},
   "source": [
    "#### Summary 삭제"
   ]
  },
  {
   "cell_type": "code",
   "execution_count": 221,
   "id": "7dca8f16-a671-4140-9b9c-d3e5cda07e48",
   "metadata": {},
   "outputs": [
    {
     "data": {
      "text/html": [
       "<div>\n",
       "<style scoped>\n",
       "    .dataframe tbody tr th:only-of-type {\n",
       "        vertical-align: middle;\n",
       "    }\n",
       "\n",
       "    .dataframe tbody tr th {\n",
       "        vertical-align: top;\n",
       "    }\n",
       "\n",
       "    .dataframe thead th {\n",
       "        text-align: right;\n",
       "    }\n",
       "</style>\n",
       "<table border=\"1\" class=\"dataframe\">\n",
       "  <thead>\n",
       "    <tr style=\"text-align: right;\">\n",
       "      <th></th>\n",
       "      <th>isbn</th>\n",
       "      <th>book_title</th>\n",
       "      <th>book_author</th>\n",
       "      <th>year_of_publication</th>\n",
       "      <th>publisher</th>\n",
       "      <th>img_url</th>\n",
       "      <th>language</th>\n",
       "      <th>category</th>\n",
       "      <th>img_path</th>\n",
       "    </tr>\n",
       "  </thead>\n",
       "  <tbody>\n",
       "    <tr>\n",
       "      <th>0</th>\n",
       "      <td>0002005018</td>\n",
       "      <td>Clara Callan</td>\n",
       "      <td>Richard Bruce Wright</td>\n",
       "      <td>2001</td>\n",
       "      <td>HarperFlamingo Canada</td>\n",
       "      <td>http://images.amazon.com/images/P/0002005018.0...</td>\n",
       "      <td>en</td>\n",
       "      <td>['Actresses']</td>\n",
       "      <td>images/0002005018.01.THUMBZZZ.jpg</td>\n",
       "    </tr>\n",
       "    <tr>\n",
       "      <th>1</th>\n",
       "      <td>0060973129</td>\n",
       "      <td>Decision in Normandy</td>\n",
       "      <td>Carlo D'Este</td>\n",
       "      <td>1991</td>\n",
       "      <td>HarperPerennial</td>\n",
       "      <td>http://images.amazon.com/images/P/0060973129.0...</td>\n",
       "      <td>en</td>\n",
       "      <td>['1940-1949']</td>\n",
       "      <td>images/0060973129.01.THUMBZZZ.jpg</td>\n",
       "    </tr>\n",
       "    <tr>\n",
       "      <th>2</th>\n",
       "      <td>0374157065</td>\n",
       "      <td>Flu: The Story of the Great Influenza Pandemic...</td>\n",
       "      <td>Gina Bari Kolata</td>\n",
       "      <td>1999</td>\n",
       "      <td>Farrar Straus Giroux</td>\n",
       "      <td>http://images.amazon.com/images/P/0374157065.0...</td>\n",
       "      <td>en</td>\n",
       "      <td>['Medical']</td>\n",
       "      <td>images/0374157065.01.THUMBZZZ.jpg</td>\n",
       "    </tr>\n",
       "    <tr>\n",
       "      <th>3</th>\n",
       "      <td>0399135782</td>\n",
       "      <td>The Kitchen God's Wife</td>\n",
       "      <td>Amy Tan</td>\n",
       "      <td>1991</td>\n",
       "      <td>Putnam Pub Group</td>\n",
       "      <td>http://images.amazon.com/images/P/0399135782.0...</td>\n",
       "      <td>en</td>\n",
       "      <td>['Fiction']</td>\n",
       "      <td>images/0399135782.01.THUMBZZZ.jpg</td>\n",
       "    </tr>\n",
       "    <tr>\n",
       "      <th>4</th>\n",
       "      <td>0425176428</td>\n",
       "      <td>What If?: The World's Foremost Military Histor...</td>\n",
       "      <td>Robert Cowley</td>\n",
       "      <td>2000</td>\n",
       "      <td>Berkley Publishing Group</td>\n",
       "      <td>http://images.amazon.com/images/P/0425176428.0...</td>\n",
       "      <td>en</td>\n",
       "      <td>['History']</td>\n",
       "      <td>images/0425176428.01.THUMBZZZ.jpg</td>\n",
       "    </tr>\n",
       "    <tr>\n",
       "      <th>...</th>\n",
       "      <td>...</td>\n",
       "      <td>...</td>\n",
       "      <td>...</td>\n",
       "      <td>...</td>\n",
       "      <td>...</td>\n",
       "      <td>...</td>\n",
       "      <td>...</td>\n",
       "      <td>...</td>\n",
       "      <td>...</td>\n",
       "    </tr>\n",
       "    <tr>\n",
       "      <th>149565</th>\n",
       "      <td>067161746X</td>\n",
       "      <td>The Bachelor Home Companion: A Practical Guide...</td>\n",
       "      <td>P.J. O'Rourke</td>\n",
       "      <td>1987</td>\n",
       "      <td>Pocket Books</td>\n",
       "      <td>http://images.amazon.com/images/P/067161746X.0...</td>\n",
       "      <td>en</td>\n",
       "      <td>['Humor']</td>\n",
       "      <td>images/067161746X.01.THUMBZZZ.jpg</td>\n",
       "    </tr>\n",
       "    <tr>\n",
       "      <th>149566</th>\n",
       "      <td>0767907566</td>\n",
       "      <td>All Elevations Unknown: An Adventure in the He...</td>\n",
       "      <td>Sam Lightner</td>\n",
       "      <td>2001</td>\n",
       "      <td>Broadway Books</td>\n",
       "      <td>http://images.amazon.com/images/P/0767907566.0...</td>\n",
       "      <td>en</td>\n",
       "      <td>['Nature']</td>\n",
       "      <td>images/0767907566.01.THUMBZZZ.jpg</td>\n",
       "    </tr>\n",
       "    <tr>\n",
       "      <th>149567</th>\n",
       "      <td>0884159221</td>\n",
       "      <td>Why stop?: A guide to Texas historical roadsid...</td>\n",
       "      <td>Claude Dooley</td>\n",
       "      <td>1985</td>\n",
       "      <td>Lone Star Books</td>\n",
       "      <td>http://images.amazon.com/images/P/0884159221.0...</td>\n",
       "      <td>NaN</td>\n",
       "      <td>NaN</td>\n",
       "      <td>images/0884159221.01.THUMBZZZ.jpg</td>\n",
       "    </tr>\n",
       "    <tr>\n",
       "      <th>149568</th>\n",
       "      <td>0912333022</td>\n",
       "      <td>The Are You Being Served? Stories: 'Camping In...</td>\n",
       "      <td>Jeremy Lloyd</td>\n",
       "      <td>1997</td>\n",
       "      <td>Kqed Books</td>\n",
       "      <td>http://images.amazon.com/images/P/0912333022.0...</td>\n",
       "      <td>en</td>\n",
       "      <td>['Fiction']</td>\n",
       "      <td>images/0912333022.01.THUMBZZZ.jpg</td>\n",
       "    </tr>\n",
       "    <tr>\n",
       "      <th>149569</th>\n",
       "      <td>1569661057</td>\n",
       "      <td>Dallas Street Map Guide and Directory, 2000 Ed...</td>\n",
       "      <td>Mapsco</td>\n",
       "      <td>1999</td>\n",
       "      <td>American Map Corporation</td>\n",
       "      <td>http://images.amazon.com/images/P/1569661057.0...</td>\n",
       "      <td>NaN</td>\n",
       "      <td>NaN</td>\n",
       "      <td>images/1569661057.01.THUMBZZZ.jpg</td>\n",
       "    </tr>\n",
       "  </tbody>\n",
       "</table>\n",
       "<p>149570 rows × 9 columns</p>\n",
       "</div>"
      ],
      "text/plain": [
       "              isbn                                         book_title  \\\n",
       "0       0002005018                                       Clara Callan   \n",
       "1       0060973129                               Decision in Normandy   \n",
       "2       0374157065  Flu: The Story of the Great Influenza Pandemic...   \n",
       "3       0399135782                             The Kitchen God's Wife   \n",
       "4       0425176428  What If?: The World's Foremost Military Histor...   \n",
       "...            ...                                                ...   \n",
       "149565  067161746X  The Bachelor Home Companion: A Practical Guide...   \n",
       "149566  0767907566  All Elevations Unknown: An Adventure in the He...   \n",
       "149567  0884159221  Why stop?: A guide to Texas historical roadsid...   \n",
       "149568  0912333022  The Are You Being Served? Stories: 'Camping In...   \n",
       "149569  1569661057  Dallas Street Map Guide and Directory, 2000 Ed...   \n",
       "\n",
       "                 book_author  year_of_publication                 publisher  \\\n",
       "0       Richard Bruce Wright                 2001     HarperFlamingo Canada   \n",
       "1               Carlo D'Este                 1991           HarperPerennial   \n",
       "2           Gina Bari Kolata                 1999      Farrar Straus Giroux   \n",
       "3                    Amy Tan                 1991          Putnam Pub Group   \n",
       "4              Robert Cowley                 2000  Berkley Publishing Group   \n",
       "...                      ...                  ...                       ...   \n",
       "149565         P.J. O'Rourke                 1987              Pocket Books   \n",
       "149566          Sam Lightner                 2001            Broadway Books   \n",
       "149567         Claude Dooley                 1985           Lone Star Books   \n",
       "149568          Jeremy Lloyd                 1997                Kqed Books   \n",
       "149569                Mapsco                 1999  American Map Corporation   \n",
       "\n",
       "                                                  img_url language  \\\n",
       "0       http://images.amazon.com/images/P/0002005018.0...       en   \n",
       "1       http://images.amazon.com/images/P/0060973129.0...       en   \n",
       "2       http://images.amazon.com/images/P/0374157065.0...       en   \n",
       "3       http://images.amazon.com/images/P/0399135782.0...       en   \n",
       "4       http://images.amazon.com/images/P/0425176428.0...       en   \n",
       "...                                                   ...      ...   \n",
       "149565  http://images.amazon.com/images/P/067161746X.0...       en   \n",
       "149566  http://images.amazon.com/images/P/0767907566.0...       en   \n",
       "149567  http://images.amazon.com/images/P/0884159221.0...      NaN   \n",
       "149568  http://images.amazon.com/images/P/0912333022.0...       en   \n",
       "149569  http://images.amazon.com/images/P/1569661057.0...      NaN   \n",
       "\n",
       "             category                           img_path  \n",
       "0       ['Actresses']  images/0002005018.01.THUMBZZZ.jpg  \n",
       "1       ['1940-1949']  images/0060973129.01.THUMBZZZ.jpg  \n",
       "2         ['Medical']  images/0374157065.01.THUMBZZZ.jpg  \n",
       "3         ['Fiction']  images/0399135782.01.THUMBZZZ.jpg  \n",
       "4         ['History']  images/0425176428.01.THUMBZZZ.jpg  \n",
       "...               ...                                ...  \n",
       "149565      ['Humor']  images/067161746X.01.THUMBZZZ.jpg  \n",
       "149566     ['Nature']  images/0767907566.01.THUMBZZZ.jpg  \n",
       "149567            NaN  images/0884159221.01.THUMBZZZ.jpg  \n",
       "149568    ['Fiction']  images/0912333022.01.THUMBZZZ.jpg  \n",
       "149569            NaN  images/1569661057.01.THUMBZZZ.jpg  \n",
       "\n",
       "[149570 rows x 9 columns]"
      ]
     },
     "execution_count": 221,
     "metadata": {},
     "output_type": "execute_result"
    }
   ],
   "source": [
    "books = books.drop('summary', axis=1) ; books"
   ]
  },
  {
   "cell_type": "markdown",
   "id": "07b7ca11-7184-4464-9b4c-8c07118060df",
   "metadata": {
    "tags": []
   },
   "source": [
    "#### category\n",
    "- category high로 묶어주기\n",
    "- category null값 book_title, book_author 같을 때 na 아닌 거 있으면 걔로 채워넣어주기"
   ]
  },
  {
   "cell_type": "markdown",
   "id": "d9141334-bd4e-48ae-a6db-aac3bf3452b4",
   "metadata": {},
   "source": [
    "##### category_high"
   ]
  },
  {
   "cell_type": "code",
   "execution_count": 222,
   "id": "40462481-fe2b-42dd-9547-a215a7fdf4bd",
   "metadata": {},
   "outputs": [],
   "source": [
    "# 일단 category에서 대괄호 밖으로 빼기\n",
    "books.loc[books[books['category'].notnull()].index, 'category'] = books[books['category'].notnull()]['category'].apply(lambda x: re.sub('[\\W_]+',' ',x).strip())\n",
    "# 소문자로 바꾸기\n",
    "books['category'] = books['category'].str.lower()\n",
    "# 카테고리를 좀 더 큰 카테고리로 묶어주자\n",
    "books['category_high'] = books['category'].copy()"
   ]
  },
  {
   "cell_type": "code",
   "execution_count": 223,
   "id": "d10163b8-dfba-408a-b58e-9a579ea461ba",
   "metadata": {},
   "outputs": [],
   "source": [
    "books.loc[books[books['category'].str.contains('history',na=False)].index,'category_high'] = 'history'\n",
    "categories = ['garden','crafts','physics','adventure','music','fiction','nonfiction','science','science fiction','social','homicide',\n",
    " 'sociology','disease','religion','christian','philosophy','psycholog','mathemat','agricult','environmental',\n",
    " 'business','poetry','drama','literary','travel','motion picture','children','cook','literature','electronic',\n",
    " 'humor','animal','bird','photograph','computer','house','ecology','family','architect','camp','criminal','language','india']\n",
    "\n",
    "for category in categories:\n",
    "    books.loc[books[books['category'].str.contains(category,na=False)].index,'category_high'] = category\n",
    "    \n",
    " # 5개 이하인 항목은 others로 묶어주도록 하겠습니다.\n",
    "category_high_df = pd.DataFrame(books['category_high'].value_counts()).reset_index()\n",
    "category_high_df.columns = ['category','count']\n",
    "others_list = category_high_df[category_high_df['count']<5]['category'].values\n",
    "books.loc[books[books['category_high'].isin(others_list)].index, 'category_high']='others'"
   ]
  },
  {
   "cell_type": "markdown",
   "id": "ec582e23-f0b4-4d46-9c9a-73baf5f2ffd2",
   "metadata": {},
   "source": [
    "##### category null 값 묶기"
   ]
  },
  {
   "cell_type": "code",
   "execution_count": 224,
   "id": "0d9456ff-6df6-4ecd-ae9e-bddc210e0455",
   "metadata": {},
   "outputs": [],
   "source": [
    "books['category_new'] = books['category_high'].copy()\n",
    "books['category_new'] = books['category_new'].fillna('0')"
   ]
  },
  {
   "cell_type": "code",
   "execution_count": 225,
   "id": "e8349bc4-d867-4f34-8172-44cce8a643d0",
   "metadata": {},
   "outputs": [
    {
     "data": {
      "text/plain": [
       "isbn                       0\n",
       "book_title                 0\n",
       "book_author                0\n",
       "year_of_publication        0\n",
       "publisher                  0\n",
       "img_url                    0\n",
       "language               67227\n",
       "category               68851\n",
       "img_path                   0\n",
       "category_high          68851\n",
       "category_new               0\n",
       "dtype: int64"
      ]
     },
     "execution_count": 225,
     "metadata": {},
     "output_type": "execute_result"
    }
   ],
   "source": [
    "books.isna().sum()"
   ]
  },
  {
   "cell_type": "code",
   "execution_count": 226,
   "id": "b94e605a-109b-4c54-961c-5c8d58d88074",
   "metadata": {},
   "outputs": [],
   "source": [
    "tmp = books.groupby(['book_title', 'book_author'])['category_new'].apply(lambda x : ' / '.join(x)).to_frame()"
   ]
  },
  {
   "cell_type": "code",
   "execution_count": 255,
   "id": "af8dec10-d598-4e79-831c-07e31dd7dede",
   "metadata": {},
   "outputs": [
    {
     "data": {
      "text/plain": [
       "avarice / chocolate / fiction / fiction / 0 / 0                                        1\n",
       "pets / biography autobiography                                                         1\n",
       "health fitness / others                                                                1\n",
       "0 / 0 / fiction / fiction / others / 0 / nonfiction / 0 / 0 / fiction / fiction / 0    1\n",
       "0 / fiction / 0 / 0 / children                                                         1\n",
       "0 / adultery                                                                           1\n",
       "fiction / ghost stories                                                                1\n",
       "spiritual life / religion / religion                                                   1\n",
       "african americans / social                                                             1\n",
       "0 / humor / humor                                                                      1\n",
       "fiction / magic                                                                        1\n",
       "0 / 0 / history / 0 / 0                                                                1\n",
       "babysitters / fiction                                                                  1\n",
       "others / fiction / 0 / fiction                                                         1\n",
       "family / 0 / family                                                                    1\n",
       "fiction / fiction / colorado                                                           1\n",
       "fiction / india / 0 / 0                                                                1\n",
       "0 / 0 / drama / 0 / 0 / 0                                                              1\n",
       "self help / family                                                                     1\n",
       "authors american / bashfulness                                                         1\n",
       "Name: category_new, dtype: int64"
      ]
     },
     "execution_count": 255,
     "metadata": {},
     "output_type": "execute_result"
    }
   ],
   "source": [
    "tmp.reset_index(drop=False)['category_new'].value_counts().tail(20)"
   ]
  },
  {
   "cell_type": "code",
   "execution_count": null,
   "id": "843d99e8-c35c-4ac8-b0d9-1632549908f5",
   "metadata": {},
   "outputs": [],
   "source": []
  }
 ],
 "metadata": {
  "kernelspec": {
   "display_name": "Python 3 (ipykernel)",
   "language": "python",
   "name": "python3"
  },
  "language_info": {
   "codemirror_mode": {
    "name": "ipython",
    "version": 3
   },
   "file_extension": ".py",
   "mimetype": "text/x-python",
   "name": "python",
   "nbconvert_exporter": "python",
   "pygments_lexer": "ipython3",
   "version": "3.8.5"
  }
 },
 "nbformat": 4,
 "nbformat_minor": 5
}
